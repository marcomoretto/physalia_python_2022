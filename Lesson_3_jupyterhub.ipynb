{
 "cells": [
  {
   "cell_type": "markdown",
   "id": "32c5c3a5-d9fa-42c3-aaf0-baed80509a41",
   "metadata": {},
   "source": [
    "# Reading a text file"
   ]
  },
  {
   "cell_type": "code",
   "execution_count": 44,
   "id": "7298a8c6-d6e3-4bb9-abc4-79279b3ad3ff",
   "metadata": {},
   "outputs": [],
   "source": [
    "fn = '/home/dataset/simple_text_file.txt'\n",
    "f = open(fn)"
   ]
  },
  {
   "cell_type": "code",
   "execution_count": 45,
   "id": "b097e49f-32b7-4f61-a0ce-433457e68e89",
   "metadata": {},
   "outputs": [
    {
     "data": {
      "text/plain": [
       "_io.TextIOWrapper"
      ]
     },
     "execution_count": 45,
     "metadata": {},
     "output_type": "execute_result"
    }
   ],
   "source": [
    "type(f)"
   ]
  },
  {
   "cell_type": "code",
   "execution_count": 46,
   "id": "c22506e5-a1f2-4a45-a128-0211079b75e5",
   "metadata": {},
   "outputs": [
    {
     "name": "stdout",
     "output_type": "stream",
     "text": [
      "A quick brown fox jumps over the lazy dog\n",
      "\n"
     ]
    }
   ],
   "source": [
    "for line in f:\n",
    "    print(line)\n",
    "f.close()"
   ]
  },
  {
   "cell_type": "code",
   "execution_count": 7,
   "id": "0be69f6e-543e-4056-85b7-4c44a4769edb",
   "metadata": {},
   "outputs": [
    {
     "ename": "ValueError",
     "evalue": "I/O operation on closed file.",
     "output_type": "error",
     "traceback": [
      "\u001b[0;31m---------------------------------------------------------------------------\u001b[0m",
      "\u001b[0;31mValueError\u001b[0m                                Traceback (most recent call last)",
      "Input \u001b[0;32mIn [7]\u001b[0m, in \u001b[0;36m<module>\u001b[0;34m\u001b[0m\n\u001b[0;32m----> 1\u001b[0m \u001b[38;5;28;01mfor\u001b[39;00m line \u001b[38;5;129;01min\u001b[39;00m f:\n\u001b[1;32m      2\u001b[0m     \u001b[38;5;28mprint\u001b[39m(line)\n",
      "\u001b[0;31mValueError\u001b[0m: I/O operation on closed file."
     ]
    }
   ],
   "source": [
    "for line in f:\n",
    "    print(line)"
   ]
  },
  {
   "cell_type": "code",
   "execution_count": 48,
   "id": "e14210a1-2b14-4935-94d6-9ff26d0d711d",
   "metadata": {},
   "outputs": [
    {
     "name": "stdout",
     "output_type": "stream",
     "text": [
      "A quick brown fox jumps over the lazy dog\n",
      "\n"
     ]
    }
   ],
   "source": [
    "with open(fn) as f:\n",
    "    for line in f:\n",
    "        print(line)"
   ]
  },
  {
   "cell_type": "code",
   "execution_count": 54,
   "id": "4c6668ce-8cd0-4c73-bf91-e4fb0ea99aaf",
   "metadata": {},
   "outputs": [],
   "source": [
    "fn = '/home/dataset/another_simple_text_file.txt'\n",
    "my_whole_file = []\n",
    "with open(fn) as f:\n",
    "    for line in f:\n",
    "        my_whole_file.append(line.strip())"
   ]
  },
  {
   "cell_type": "code",
   "execution_count": 20,
   "id": "2d4a5a1c-4d85-41de-8d88-5c988fc97710",
   "metadata": {},
   "outputs": [
    {
     "data": {
      "text/plain": [
       "['Lorem ipsum dolor sit amet,',\n",
       " 'consectetur adipisci elit,',\n",
       " 'sed do eiusmod tempor incidunt ut labore et dolore magna aliqua.',\n",
       " 'Ut enim ad minim veniam,',\n",
       " 'quis nostrum exercitationem ullamco laboriosam,',\n",
       " 'nisi ut aliquid ex ea commodi consequatur.',\n",
       " 'Duis aute irure reprehenderit in voluptate velit esse cillum dolore eu fugiat nulla pariatur.',\n",
       " 'Excepteur sint obcaecat cupiditat non proident,',\n",
       " 'sunt in culpa qui officia deserunt mollit anim id est laborum.']"
      ]
     },
     "execution_count": 20,
     "metadata": {},
     "output_type": "execute_result"
    }
   ],
   "source": [
    "my_whole_file"
   ]
  },
  {
   "cell_type": "code",
   "execution_count": 49,
   "id": "70958ff6-ece7-4e67-b19a-2fdbb87ee1cd",
   "metadata": {},
   "outputs": [
    {
     "name": "stdout",
     "output_type": "stream",
     "text": [
      "Lorem ipsum dolor sit amet \n"
     ]
    }
   ],
   "source": [
    "print('Lorem ipsum dolor sit amet ')"
   ]
  },
  {
   "cell_type": "code",
   "execution_count": 50,
   "id": "e396a02d-d035-4f0c-932b-b6ea2b97f085",
   "metadata": {},
   "outputs": [
    {
     "name": "stdout",
     "output_type": "stream",
     "text": [
      "Lorem ipsum dolor sit amet\n"
     ]
    }
   ],
   "source": [
    "print('Lorem ipsum dolor sit amet')"
   ]
  },
  {
   "cell_type": "code",
   "execution_count": 52,
   "id": "96a69f4d-8864-4781-ad55-38ecfe014690",
   "metadata": {},
   "outputs": [
    {
     "data": {
      "text/plain": [
       "True"
      ]
     },
     "execution_count": 52,
     "metadata": {},
     "output_type": "execute_result"
    }
   ],
   "source": [
    "' Lorem ipsum dolor sit amet '.strip() == 'Lorem ipsum dolor sit amet'"
   ]
  },
  {
   "cell_type": "markdown",
   "id": "601eb945-2c9e-43a3-b277-b9282403c8f4",
   "metadata": {},
   "source": [
    "# Write a file"
   ]
  },
  {
   "cell_type": "code",
   "execution_count": 61,
   "id": "cbb57288-53d6-442b-b49b-ed26adfbeaa4",
   "metadata": {},
   "outputs": [],
   "source": [
    "my_new_file_name = 'test.txt'\n",
    "with open(my_new_file_name, 'w') as f:\n",
    "    f.write('hello world!')"
   ]
  },
  {
   "cell_type": "markdown",
   "id": "aa710bd8-d942-46a7-9491-d32a300dfb21",
   "metadata": {},
   "source": [
    "# Files and directories"
   ]
  },
  {
   "cell_type": "code",
   "execution_count": 67,
   "id": "34a5ae29-834f-4252-aa10-8623e820de25",
   "metadata": {},
   "outputs": [],
   "source": [
    "import os"
   ]
  },
  {
   "cell_type": "code",
   "execution_count": 68,
   "id": "56cfb7e6-8030-4950-ab88-79d7ccd8c044",
   "metadata": {},
   "outputs": [
    {
     "data": {
      "text/plain": [
       "['simple_text_file.txt',\n",
       " 'beatles',\n",
       " 'complete_recipes_dataframe.tsv',\n",
       " 'another_simple_text_file.txt',\n",
       " 'Meta']"
      ]
     },
     "execution_count": 68,
     "metadata": {},
     "output_type": "execute_result"
    }
   ],
   "source": [
    "path = '/home/dataset'\n",
    "\n",
    "os.listdir(path)"
   ]
  },
  {
   "cell_type": "code",
   "execution_count": 75,
   "id": "dcf737ad-405e-4ce0-b468-a1834d00ec7c",
   "metadata": {},
   "outputs": [
    {
     "name": "stdout",
     "output_type": "stream",
     "text": [
      "/home/dataset/simple_text_file.txt is a file\n",
      "/home/dataset/beatles is a directory\n",
      "/home/dataset/complete_recipes_dataframe.tsv is a file\n",
      "/home/dataset/another_simple_text_file.txt is a file\n",
      "/home/dataset/Meta is a directory\n"
     ]
    }
   ],
   "source": [
    "for x in os.listdir(path):\n",
    "    complete_path = os.path.join(path, x)\n",
    "    if os.path.isfile(complete_path):\n",
    "        print(complete_path, 'is a file')\n",
    "    else:\n",
    "        print(complete_path, 'is a directory')"
   ]
  },
  {
   "cell_type": "code",
   "execution_count": 78,
   "id": "30788577-0c51-42b9-97a8-586e76d752b8",
   "metadata": {},
   "outputs": [
    {
     "name": "stdout",
     "output_type": "stream",
     "text": [
      "DIR /home/marco/main_folder\n",
      "SUBDIRS ['sub_folder_2', 'sub_folder_1', '.ipynb_checkpoints']\n",
      "FILES []\n",
      "****\n",
      "DIR /home/marco/main_folder/sub_folder_2\n",
      "SUBDIRS ['.ipynb_checkpoints']\n",
      "FILES ['my_second_file.txt', 'my_first_file.txt']\n",
      "****\n",
      "DIR /home/marco/main_folder/sub_folder_2/.ipynb_checkpoints\n",
      "SUBDIRS []\n",
      "FILES []\n",
      "****\n",
      "DIR /home/marco/main_folder/sub_folder_1\n",
      "SUBDIRS []\n",
      "FILES []\n",
      "****\n",
      "DIR /home/marco/main_folder/.ipynb_checkpoints\n",
      "SUBDIRS []\n",
      "FILES []\n",
      "****\n"
     ]
    }
   ],
   "source": [
    "path = '/home/marco/main_folder'\n",
    "\n",
    "for dirpath, dirnames, filenames in os.walk(path):\n",
    "    print('DIR', dirpath)\n",
    "    print('SUBDIRS', dirnames)\n",
    "    print('FILES', filenames)\n",
    "    print('****')"
   ]
  },
  {
   "cell_type": "code",
   "execution_count": 84,
   "id": "9a5eceaf-ae91-4579-b197-ff72ed7a3df3",
   "metadata": {},
   "outputs": [
    {
     "data": {
      "text/plain": [
       "['/home/marco/main_folder/sub_folder_2/my_third_file.json']"
      ]
     },
     "execution_count": 84,
     "metadata": {},
     "output_type": "execute_result"
    }
   ],
   "source": [
    "import glob\n",
    "\n",
    "path = '/home/marco/main_folder/sub_folder_2/*.json'\n",
    "glob.glob(path)"
   ]
  },
  {
   "cell_type": "code",
   "execution_count": 87,
   "id": "764fbc41-a462-415e-a267-80abc056995b",
   "metadata": {},
   "outputs": [],
   "source": [
    "import requests"
   ]
  },
  {
   "cell_type": "code",
   "execution_count": 88,
   "id": "7ef3239e-94d6-49fe-9bef-3bfd5111c320",
   "metadata": {},
   "outputs": [],
   "source": [
    "r = requests.get('http://api.plos.org/search?q=title:DNA')"
   ]
  },
  {
   "cell_type": "code",
   "execution_count": 91,
   "id": "976023bc-7141-4924-9de2-cd5095a9d906",
   "metadata": {},
   "outputs": [],
   "source": [
    "import json"
   ]
  },
  {
   "cell_type": "code",
   "execution_count": 92,
   "id": "dbac8a3e-05b8-4db0-9d2c-2f568188a4a4",
   "metadata": {},
   "outputs": [],
   "source": [
    "json_text = r.text"
   ]
  },
  {
   "cell_type": "code",
   "execution_count": 93,
   "id": "6a7ec801-12cc-43dd-be47-6c81ed54bd25",
   "metadata": {},
   "outputs": [],
   "source": [
    "j_obj = json.loads(json_text)"
   ]
  },
  {
   "cell_type": "code",
   "execution_count": 96,
   "id": "d89edc6f-0ec5-45df-9196-e8faf6c0865f",
   "metadata": {},
   "outputs": [
    {
     "data": {
      "text/plain": [
       "str"
      ]
     },
     "execution_count": 96,
     "metadata": {},
     "output_type": "execute_result"
    }
   ],
   "source": [
    "type(json_text)"
   ]
  },
  {
   "cell_type": "code",
   "execution_count": 95,
   "id": "f602b50b-dda1-46cb-87eb-6ac2b9ac1237",
   "metadata": {},
   "outputs": [
    {
     "data": {
      "text/plain": [
       "dict"
      ]
     },
     "execution_count": 95,
     "metadata": {},
     "output_type": "execute_result"
    }
   ],
   "source": [
    "type(j_obj)"
   ]
  },
  {
   "cell_type": "code",
   "execution_count": 106,
   "id": "0c81e087-2c26-4ba1-8bc1-dfe8d5d873ed",
   "metadata": {},
   "outputs": [
    {
     "data": {
      "text/plain": [
       "dict_keys(['numFound', 'start', 'maxScore', 'docs'])"
      ]
     },
     "execution_count": 106,
     "metadata": {},
     "output_type": "execute_result"
    }
   ],
   "source": [
    "j_obj['response'].keys()"
   ]
  },
  {
   "cell_type": "markdown",
   "id": "73ba0010-2c3d-4065-b2b1-0c05b54cbf34",
   "metadata": {},
   "source": [
    "# Functions (as a way to extend the language)"
   ]
  },
  {
   "cell_type": "code",
   "execution_count": 9,
   "id": "d417f01a-f429-4a45-8ecd-e61771b89d1b",
   "metadata": {},
   "outputs": [],
   "source": [
    "def my_fun(a):\n",
    "    return a**2"
   ]
  },
  {
   "cell_type": "code",
   "execution_count": 14,
   "id": "d901df11-ee21-48b8-b9e7-0b461ebd5e76",
   "metadata": {},
   "outputs": [],
   "source": [
    "def i_dont_return_anything(a):\n",
    "    a.append('x')"
   ]
  },
  {
   "cell_type": "code",
   "execution_count": 13,
   "id": "b226c06a-1672-45da-bccd-b77aaf5c4796",
   "metadata": {},
   "outputs": [
    {
     "name": "stdout",
     "output_type": "stream",
     "text": [
      "16\n",
      "done\n"
     ]
    }
   ],
   "source": [
    "b = my_fun(4)\n",
    "print(b)\n",
    "print('done')"
   ]
  },
  {
   "cell_type": "code",
   "execution_count": 21,
   "id": "d0289a2d-fbb7-4aaf-ac1d-6dd3da3766ee",
   "metadata": {},
   "outputs": [],
   "source": [
    "my_list = [1, 2, 3]\n",
    "i_dont_return_anything(my_list)"
   ]
  },
  {
   "cell_type": "code",
   "execution_count": 22,
   "id": "e9ade95e-5361-4af4-a560-7a32fca86d6d",
   "metadata": {},
   "outputs": [
    {
     "data": {
      "text/plain": [
       "[1, 2, 3, 'x']"
      ]
     },
     "execution_count": 22,
     "metadata": {},
     "output_type": "execute_result"
    }
   ],
   "source": [
    "my_list"
   ]
  },
  {
   "cell_type": "code",
   "execution_count": 23,
   "id": "3060e813-e43d-419d-858a-6c43e3ecb66a",
   "metadata": {},
   "outputs": [
    {
     "ename": "NameError",
     "evalue": "name 'a' is not defined",
     "output_type": "error",
     "traceback": [
      "\u001b[0;31m---------------------------------------------------------------------------\u001b[0m",
      "\u001b[0;31mNameError\u001b[0m                                 Traceback (most recent call last)",
      "Input \u001b[0;32mIn [23]\u001b[0m, in \u001b[0;36m<module>\u001b[0;34m\u001b[0m\n\u001b[0;32m----> 1\u001b[0m \u001b[43ma\u001b[49m\n",
      "\u001b[0;31mNameError\u001b[0m: name 'a' is not defined"
     ]
    }
   ],
   "source": [
    "a"
   ]
  },
  {
   "cell_type": "code",
   "execution_count": 24,
   "id": "1cd504b3-4940-4acd-a899-92563cb06b6c",
   "metadata": {},
   "outputs": [],
   "source": [
    "def my_second_fun(a):\n",
    "    a += 'world'"
   ]
  },
  {
   "cell_type": "code",
   "execution_count": 25,
   "id": "bd69f40c-8147-4a15-ab68-47a593f1d43f",
   "metadata": {},
   "outputs": [
    {
     "name": "stdout",
     "output_type": "stream",
     "text": [
      "hello\n",
      "hello\n"
     ]
    }
   ],
   "source": [
    "a = 'hello'\n",
    "print(a)\n",
    "my_second_fun(a)\n",
    "print(a)"
   ]
  },
  {
   "cell_type": "code",
   "execution_count": 27,
   "id": "3e33affc-3eda-4b89-8fea-d6694b15bab3",
   "metadata": {},
   "outputs": [
    {
     "name": "stdout",
     "output_type": "stream",
     "text": [
      "hello\n"
     ]
    }
   ],
   "source": [
    "return_of_print = print('hello')"
   ]
  },
  {
   "cell_type": "code",
   "execution_count": 28,
   "id": "728a909f-c516-4185-ac93-665acfaeffd4",
   "metadata": {},
   "outputs": [
    {
     "data": {
      "text/plain": [
       "NoneType"
      ]
     },
     "execution_count": 28,
     "metadata": {},
     "output_type": "execute_result"
    }
   ],
   "source": [
    "type(return_of_print)"
   ]
  },
  {
   "cell_type": "markdown",
   "id": "72415b92-2489-4b66-805d-6546c9e5c354",
   "metadata": {},
   "source": [
    "# Lambda functions"
   ]
  },
  {
   "cell_type": "code",
   "execution_count": 32,
   "id": "f573714f-a055-43cb-b31f-8d854de574ea",
   "metadata": {},
   "outputs": [],
   "source": [
    "def my_fun(a):\n",
    "    return a**2"
   ]
  },
  {
   "cell_type": "code",
   "execution_count": 30,
   "id": "327a7ba8-ae56-4a86-9d58-7d7392434e1f",
   "metadata": {},
   "outputs": [],
   "source": [
    "f = lambda x : x**2"
   ]
  },
  {
   "cell_type": "code",
   "execution_count": 31,
   "id": "65119b55-1a79-40a2-87bf-b20b5c9b306c",
   "metadata": {},
   "outputs": [
    {
     "data": {
      "text/plain": [
       "16"
      ]
     },
     "execution_count": 31,
     "metadata": {},
     "output_type": "execute_result"
    }
   ],
   "source": [
    "f(4)"
   ]
  },
  {
   "cell_type": "code",
   "execution_count": 33,
   "id": "ee190c2b-d0af-493f-a843-9dd5e90a1416",
   "metadata": {},
   "outputs": [
    {
     "data": {
      "text/plain": [
       "function"
      ]
     },
     "execution_count": 33,
     "metadata": {},
     "output_type": "execute_result"
    }
   ],
   "source": [
    "type(my_fun)"
   ]
  },
  {
   "cell_type": "code",
   "execution_count": 34,
   "id": "4fe06d58-9a06-454a-b877-0d5bfe5331b6",
   "metadata": {},
   "outputs": [
    {
     "data": {
      "text/plain": [
       "function"
      ]
     },
     "execution_count": 34,
     "metadata": {},
     "output_type": "execute_result"
    }
   ],
   "source": [
    "type(f)"
   ]
  },
  {
   "cell_type": "code",
   "execution_count": 36,
   "id": "0c036686-dfba-4e83-b070-f1252122d244",
   "metadata": {},
   "outputs": [
    {
     "data": {
      "text/plain": [
       "[0, 1, 4, 9, 16, 25, 36, 49, 64, 81]"
      ]
     },
     "execution_count": 36,
     "metadata": {},
     "output_type": "execute_result"
    }
   ],
   "source": [
    "[i**2 for i in range(10)]"
   ]
  },
  {
   "cell_type": "code",
   "execution_count": 41,
   "id": "0249de4d-03d4-4a06-8766-cec84b80e8bc",
   "metadata": {},
   "outputs": [
    {
     "data": {
      "text/plain": [
       "[0, 1, 4, 9, 16, 25, 36, 49, 64, 81]"
      ]
     },
     "execution_count": 41,
     "metadata": {},
     "output_type": "execute_result"
    }
   ],
   "source": [
    "list(map(lambda x : x**2, range(10)))"
   ]
  },
  {
   "cell_type": "code",
   "execution_count": 44,
   "id": "68b94fd3-3aab-496f-be1e-f8f8e3f5ec37",
   "metadata": {},
   "outputs": [
    {
     "name": "stdout",
     "output_type": "stream",
     "text": [
      "[(6, 7), (9, 10), (1, 9), (2, 2), (10, 10), (5, 5), (6, 4), (9, 2), (10, 6), (3, 6)]\n"
     ]
    }
   ],
   "source": [
    "import random\n",
    "\n",
    "a = [(random.randint(0,10), random.randint(0,10)) for i in range(10)]\n",
    "print(a)"
   ]
  },
  {
   "cell_type": "code",
   "execution_count": 48,
   "id": "2dcb1cbc-9006-4e62-b6ca-045511431485",
   "metadata": {},
   "outputs": [
    {
     "data": {
      "text/plain": [
       "[(9, 10),\n",
       " (10, 10),\n",
       " (1, 9),\n",
       " (6, 7),\n",
       " (10, 6),\n",
       " (3, 6),\n",
       " (5, 5),\n",
       " (6, 4),\n",
       " (2, 2),\n",
       " (9, 2)]"
      ]
     },
     "execution_count": 48,
     "metadata": {},
     "output_type": "execute_result"
    }
   ],
   "source": [
    "sorted(a, key=lambda x : x[1], reverse=True)"
   ]
  },
  {
   "cell_type": "markdown",
   "id": "0822ed4a-9da7-409c-ab4a-bc0d13b6e434",
   "metadata": {},
   "source": [
    "# Function with varying arguments"
   ]
  },
  {
   "cell_type": "code",
   "execution_count": 57,
   "id": "b9020ae5-b773-4356-8366-6352a8e677e7",
   "metadata": {},
   "outputs": [],
   "source": [
    "def my_sum(a, b=0):\n",
    "    return a + b"
   ]
  },
  {
   "cell_type": "code",
   "execution_count": 55,
   "id": "d5bde8d7-6c58-40ea-a33a-e6579264c5fd",
   "metadata": {},
   "outputs": [
    {
     "data": {
      "text/plain": [
       "9"
      ]
     },
     "execution_count": 55,
     "metadata": {},
     "output_type": "execute_result"
    }
   ],
   "source": [
    "my_sum(5, 4)"
   ]
  },
  {
   "cell_type": "code",
   "execution_count": 56,
   "id": "9683a061-807f-4119-8c88-922d59f7d748",
   "metadata": {},
   "outputs": [
    {
     "data": {
      "text/plain": [
       "5"
      ]
     },
     "execution_count": 56,
     "metadata": {},
     "output_type": "execute_result"
    }
   ],
   "source": [
    "my_sum(5)"
   ]
  },
  {
   "cell_type": "code",
   "execution_count": 62,
   "id": "96888471-ef68-4bbd-ad8c-c3a5ac135fea",
   "metadata": {},
   "outputs": [],
   "source": [
    "def my_sum(*args):\n",
    "    print(type(args))\n",
    "    #s = 0\n",
    "    #for x in args:\n",
    "    #    s += x\n",
    "    #return s"
   ]
  },
  {
   "cell_type": "code",
   "execution_count": 63,
   "id": "cbff6c7a-45d0-4f0c-9c0b-441f4b57cbca",
   "metadata": {},
   "outputs": [
    {
     "name": "stdout",
     "output_type": "stream",
     "text": [
      "<class 'tuple'>\n"
     ]
    }
   ],
   "source": [
    "my_sum(1)"
   ]
  },
  {
   "cell_type": "code",
   "execution_count": 61,
   "id": "74353f24-87c2-4b4e-9442-07ec3c50f5e4",
   "metadata": {},
   "outputs": [
    {
     "data": {
      "text/plain": [
       "20"
      ]
     },
     "execution_count": 61,
     "metadata": {},
     "output_type": "execute_result"
    }
   ],
   "source": [
    "my_sum(1, 2, 4, 6, 7)"
   ]
  },
  {
   "cell_type": "code",
   "execution_count": 64,
   "id": "4ec40619-bca5-4dc6-9149-62c0965eb16a",
   "metadata": {},
   "outputs": [
    {
     "name": "stdout",
     "output_type": "stream",
     "text": [
      "hello\n"
     ]
    }
   ],
   "source": [
    "print('hello')"
   ]
  },
  {
   "cell_type": "code",
   "execution_count": 65,
   "id": "8ae8ca1c-1479-4da2-8e3a-e201b0d7a914",
   "metadata": {},
   "outputs": [
    {
     "name": "stdout",
     "output_type": "stream",
     "text": [
      "1 True hello\n"
     ]
    }
   ],
   "source": [
    "print(1, True, 'hello')"
   ]
  },
  {
   "cell_type": "markdown",
   "id": "4a82ad8b-fc37-47fc-b758-53b944b9d0da",
   "metadata": {},
   "source": [
    "### A small detour: * the unpack operator"
   ]
  },
  {
   "cell_type": "code",
   "execution_count": 66,
   "id": "a2ec3ec9-3ae0-48a9-90e8-64886780a7de",
   "metadata": {},
   "outputs": [],
   "source": [
    "l = list(range(10))"
   ]
  },
  {
   "cell_type": "code",
   "execution_count": 67,
   "id": "220089ae-fc23-4fda-a97d-b60540aba2fe",
   "metadata": {},
   "outputs": [
    {
     "data": {
      "text/plain": [
       "[0, 1, 2, 3, 4, 5, 6, 7, 8, 9]"
      ]
     },
     "execution_count": 67,
     "metadata": {},
     "output_type": "execute_result"
    }
   ],
   "source": [
    "l"
   ]
  },
  {
   "cell_type": "code",
   "execution_count": 68,
   "id": "2c4e4752-3c36-4515-8c09-9fef4d393d61",
   "metadata": {},
   "outputs": [
    {
     "data": {
      "text/plain": [
       "list"
      ]
     },
     "execution_count": 68,
     "metadata": {},
     "output_type": "execute_result"
    }
   ],
   "source": [
    "type(l)"
   ]
  },
  {
   "cell_type": "code",
   "execution_count": 69,
   "id": "1a08d63e-6078-4390-a9bf-0f3c7efc74da",
   "metadata": {},
   "outputs": [
    {
     "name": "stdout",
     "output_type": "stream",
     "text": [
      "[0, 1, 2, 3, 4, 5, 6, 7, 8, 9]\n"
     ]
    }
   ],
   "source": [
    "print(l)"
   ]
  },
  {
   "cell_type": "code",
   "execution_count": 70,
   "id": "5e5e9534-7dc9-476a-bd0a-e356e8e8b87c",
   "metadata": {},
   "outputs": [
    {
     "name": "stdout",
     "output_type": "stream",
     "text": [
      "0 1 2 3 4 5 6 7 8 9\n"
     ]
    }
   ],
   "source": [
    "print(*l)"
   ]
  },
  {
   "cell_type": "code",
   "execution_count": 71,
   "id": "4d4e619d-1dc4-4bc6-87ba-f9d8a135afbe",
   "metadata": {},
   "outputs": [
    {
     "name": "stdout",
     "output_type": "stream",
     "text": [
      "0 1 2 3 4 5 6 7 8 9\n"
     ]
    }
   ],
   "source": [
    "print(0,1,2,3,4,5,6,7,8,9)"
   ]
  },
  {
   "cell_type": "code",
   "execution_count": 72,
   "id": "289915e4-e1c2-4527-a675-5b20033a0c18",
   "metadata": {},
   "outputs": [
    {
     "name": "stdout",
     "output_type": "stream",
     "text": [
      "[1, 2, 3, 4, 5, 6, 7, 8, 9, 0]\n"
     ]
    }
   ],
   "source": [
    "a = [1,2,3,4,5]\n",
    "b = [6,7,8,9,0]\n",
    "\n",
    "print(a + b)"
   ]
  },
  {
   "cell_type": "code",
   "execution_count": 73,
   "id": "bffd0571-454b-4b72-bebc-b1ae3b1c1c1b",
   "metadata": {},
   "outputs": [
    {
     "data": {
      "text/plain": [
       "[(1, 6), (2, 7), (3, 8), (4, 9), (5, 0)]"
      ]
     },
     "execution_count": 73,
     "metadata": {},
     "output_type": "execute_result"
    }
   ],
   "source": [
    "list(zip(a, b))"
   ]
  },
  {
   "cell_type": "code",
   "execution_count": 74,
   "id": "6e88070c-675a-463a-9c33-5f8b80653d52",
   "metadata": {},
   "outputs": [
    {
     "data": {
      "text/plain": [
       "[7, 9, 11, 13, 5]"
      ]
     },
     "execution_count": 74,
     "metadata": {},
     "output_type": "execute_result"
    }
   ],
   "source": [
    "[x+y for x,y in zip(a,b)]"
   ]
  },
  {
   "cell_type": "code",
   "execution_count": 75,
   "id": "ae0f88fb-5f99-4a20-90b9-9827806e9680",
   "metadata": {},
   "outputs": [],
   "source": [
    "matrix = [[2, 0, 1, 3], [3, 2, 1, 0], [8, 6, 1, 4], [1, 0, 6, 3]]"
   ]
  },
  {
   "cell_type": "code",
   "execution_count": 76,
   "id": "fa01b072-7dac-4b7e-8e61-b24d5c065e80",
   "metadata": {},
   "outputs": [
    {
     "data": {
      "text/plain": [
       "[[2, 0, 1, 3], [3, 2, 1, 0], [8, 6, 1, 4], [1, 0, 6, 3]]"
      ]
     },
     "execution_count": 76,
     "metadata": {},
     "output_type": "execute_result"
    }
   ],
   "source": [
    "matrix"
   ]
  },
  {
   "cell_type": "code",
   "execution_count": 77,
   "id": "2692f264-eac3-414a-92df-a19c540ae158",
   "metadata": {},
   "outputs": [
    {
     "data": {
      "text/plain": [
       "[(2, 3, 8, 1), (0, 2, 6, 0), (1, 1, 1, 6), (3, 0, 4, 3)]"
      ]
     },
     "execution_count": 77,
     "metadata": {},
     "output_type": "execute_result"
    }
   ],
   "source": [
    "list(zip(*matrix))"
   ]
  },
  {
   "cell_type": "code",
   "execution_count": 78,
   "id": "fcebe30f-e028-41a0-ac16-9a390eb2c9a5",
   "metadata": {},
   "outputs": [
    {
     "data": {
      "text/plain": [
       "[(2, 3, 8, 1), (0, 2, 6, 0), (1, 1, 1, 6), (3, 0, 4, 3)]"
      ]
     },
     "execution_count": 78,
     "metadata": {},
     "output_type": "execute_result"
    }
   ],
   "source": [
    "list(zip([2, 0, 1, 3], [3, 2, 1, 0], [8, 6, 1, 4], [1, 0, 6, 3]))"
   ]
  },
  {
   "cell_type": "code",
   "execution_count": 79,
   "id": "eb65ffc9-be91-401b-8dac-a343973a39ee",
   "metadata": {},
   "outputs": [],
   "source": [
    "def my_array_sum(**kwargs):\n",
    "    print(kwargs)"
   ]
  },
  {
   "cell_type": "code",
   "execution_count": 80,
   "id": "73f731b0-c1f1-439b-ac3d-fe4766d56682",
   "metadata": {},
   "outputs": [
    {
     "name": "stdout",
     "output_type": "stream",
     "text": [
      "{'my_first_argument': 1, 'lalala': 3, 'this_is_another_one': True}\n"
     ]
    }
   ],
   "source": [
    "my_array_sum(my_first_argument=1, lalala=3, this_is_another_one=True)"
   ]
  },
  {
   "cell_type": "code",
   "execution_count": null,
   "id": "3c947e01-b485-4ef1-b91d-c0fd62384668",
   "metadata": {},
   "outputs": [],
   "source": [
    "def my_fun(mandatory_arg, default_arg=None, *args, **kwargs):\n",
    "    print(mandatory_arg)\n",
    "    print(default_arg)\n",
    "    print(args)\n",
    "    print(kwargs)"
   ]
  },
  {
   "cell_type": "markdown",
   "id": "bd450fc6-1de6-4bf9-8acc-36a6a569d0c9",
   "metadata": {},
   "source": [
    "# Generators"
   ]
  },
  {
   "cell_type": "code",
   "execution_count": 82,
   "id": "c17e10cc-e9bb-4274-812f-927a5796d3a0",
   "metadata": {},
   "outputs": [
    {
     "name": "stdout",
     "output_type": "stream",
     "text": [
      "0\n",
      "1\n",
      "2\n",
      "3\n",
      "4\n",
      "5\n",
      "6\n",
      "7\n",
      "8\n",
      "9\n"
     ]
    }
   ],
   "source": [
    "for x in range(10):\n",
    "    print(x)"
   ]
  },
  {
   "cell_type": "code",
   "execution_count": 83,
   "id": "37f271b0-99a5-4a1d-a658-84fedfef1053",
   "metadata": {},
   "outputs": [
    {
     "data": {
      "text/plain": [
       "(0, 1, 2, 3, 4, 5, 6, 7, 8, 9)"
      ]
     },
     "execution_count": 83,
     "metadata": {},
     "output_type": "execute_result"
    }
   ],
   "source": [
    "tuple(range(10))"
   ]
  },
  {
   "cell_type": "code",
   "execution_count": 84,
   "id": "e13a4e46-bfcd-45da-8a33-4e88f0c4cb32",
   "metadata": {},
   "outputs": [],
   "source": [
    "def my_generator():\n",
    "    n = 1\n",
    "    print('This is printed first')\n",
    "    # Generator function contains yield statements\n",
    "    yield n\n",
    "\n",
    "    n += 1\n",
    "    print('This is printed second')\n",
    "    yield n\n",
    "\n",
    "    n += 1\n",
    "    print('This is printed at last')\n",
    "    yield n\n",
    "    "
   ]
  },
  {
   "cell_type": "code",
   "execution_count": 86,
   "id": "5d7d7c73-9a76-4028-87ee-48a5165b159f",
   "metadata": {},
   "outputs": [
    {
     "name": "stdout",
     "output_type": "stream",
     "text": [
      "This is printed first\n",
      "1\n",
      "This is printed second\n",
      "2\n",
      "This is printed at last\n",
      "3\n"
     ]
    }
   ],
   "source": [
    "for i in my_generator():\n",
    "    print(i)"
   ]
  },
  {
   "cell_type": "code",
   "execution_count": 88,
   "id": "44970aeb-01d9-4318-ba27-4b41d4826e64",
   "metadata": {},
   "outputs": [],
   "source": [
    "def fibonacci(num):\n",
    "    a, b = 0, 1\n",
    "    for x in range(num):\n",
    "        a, b = b, b + a\n",
    "        yield b"
   ]
  },
  {
   "cell_type": "code",
   "execution_count": 90,
   "id": "0594569d-abed-4ee7-8e83-33b785dac747",
   "metadata": {},
   "outputs": [
    {
     "name": "stdout",
     "output_type": "stream",
     "text": [
      "1\n",
      "2\n",
      "3\n",
      "5\n",
      "8\n",
      "13\n",
      "21\n",
      "34\n",
      "55\n",
      "89\n"
     ]
    }
   ],
   "source": [
    "for i in fibonacci(10):\n",
    "    print(i)"
   ]
  },
  {
   "cell_type": "code",
   "execution_count": 91,
   "id": "671fc751-2d16-4abc-9a2b-8e516d7dc269",
   "metadata": {},
   "outputs": [],
   "source": [
    "fib_g = fibonacci(10)"
   ]
  },
  {
   "cell_type": "code",
   "execution_count": 92,
   "id": "6b7207bc-72e8-4ec6-ad76-d4ae75046ca3",
   "metadata": {},
   "outputs": [
    {
     "data": {
      "text/plain": [
       "<generator object fibonacci at 0x7f39ee0b7b50>"
      ]
     },
     "execution_count": 92,
     "metadata": {},
     "output_type": "execute_result"
    }
   ],
   "source": [
    "def fibonacci(num):\n",
    "    a, b = 0, 1\n",
    "    for x in range(num):\n",
    "        a, b = b, b + a\n",
    "        yield bfib_g"
   ]
  },
  {
   "cell_type": "code",
   "execution_count": 93,
   "id": "4559291a-367a-4a3e-a63d-3626e7628033",
   "metadata": {},
   "outputs": [
    {
     "name": "stdout",
     "output_type": "stream",
     "text": [
      "1\n",
      "2\n",
      "3\n",
      "5\n",
      "8\n",
      "13\n",
      "21\n",
      "34\n",
      "55\n",
      "89\n"
     ]
    }
   ],
   "source": [
    "for i in fib_g:\n",
    "    print(i)"
   ]
  },
  {
   "cell_type": "code",
   "execution_count": 94,
   "id": "f7b44718-a436-482a-8dc9-0378cb80f875",
   "metadata": {},
   "outputs": [],
   "source": [
    "for i in fib_g:\n",
    "    print(i)"
   ]
  },
  {
   "cell_type": "markdown",
   "id": "f1e7a3a2-5f0a-45a7-ae7b-9366ff2f11db",
   "metadata": {},
   "source": [
    "### Write a function and call it read_file that takes a filename \n",
    "### as argument and return a dictionary. Each line is an item, value and key are tab separated."
   ]
  },
  {
   "cell_type": "code",
   "execution_count": 100,
   "id": "f9f79d9b-b8ca-4ce0-9054-f3bd0fec7e94",
   "metadata": {},
   "outputs": [],
   "source": [
    "filename = '/home/dataset/data_records.txt'"
   ]
  },
  {
   "cell_type": "code",
   "execution_count": 101,
   "id": "f9538571-4478-47f0-8369-8ee48805a930",
   "metadata": {},
   "outputs": [
    {
     "name": "stdout",
     "output_type": "stream",
     "text": [
      "Mushroom-risotto-352492\t00001\n",
      "Filipino-bbq-pork-skewers-352163\t00002\n",
      "Mushroom-and-Roasted-Garlic-Risotto-525026\t00003\n",
      "Gratin-Dauphinois-_scalloped-Potatoes-With-Cheese_-My-Recipes\t00004\n",
      "Delicious-Grilled-Hamburgers-Allrecipes\t00005\n",
      "Hickory_smoked-Bourbon-Turkey-My-Recipes\t00006\n",
      "Marinated-Beef-Tenderloin-529856\t00007\n",
      "Cherry-Tortoni-MyRecipes-211679\t00008\n",
      "Crock-Pot-Italian-Turkey-Meatballs-and-Homemade-Sauce-900153\t00009\n",
      "Chicken-salad-with-wild-rice-364571\t00010\n"
     ]
    }
   ],
   "source": [
    "!head /home/dataset/data_records.txt"
   ]
  },
  {
   "cell_type": "code",
   "execution_count": 128,
   "id": "1ad6df5a-3925-480e-b574-5f1231b272bd",
   "metadata": {},
   "outputs": [],
   "source": [
    "def read_file(filename):\n",
    "    d = {}\n",
    "    with open(filename) as f:\n",
    "        for line in f:\n",
    "            string_list = line.strip().split('\\t')\n",
    "            if not string_list[1] in d:\n",
    "                d[string_list[1]] = []\n",
    "            d[string_list[1]].append(string_list[0])\n",
    "    return d"
   ]
  },
  {
   "cell_type": "code",
   "execution_count": 129,
   "id": "64caf413-b04f-4eac-b367-8f1cdfad5690",
   "metadata": {},
   "outputs": [],
   "source": [
    "recipes_dict = read_file(filename)"
   ]
  },
  {
   "cell_type": "markdown",
   "id": "4c353f73-ff9f-406f-9585-5b5f5e19b4d6",
   "metadata": {},
   "source": [
    "# Exercises\n",
    "\n",
    "This exercise is about writing a complete program that will perform several operations. We will try to use all the things we learned so far to write and structure it. The first priority is to have something that works as expected. Then we will focus on how to refactor the code, that is how to improve the readability and reusability of the code by incapsulating code within functions, giving meaninful names, use a consistent nomeclature and be pythonic."
   ]
  },
  {
   "cell_type": "code",
   "execution_count": 131,
   "id": "9a770033-4f6a-4dd0-b1fc-650c3367849d",
   "metadata": {},
   "outputs": [],
   "source": [
    "# read a file that contains a list of file names to read and create an index for file contents\n",
    "# use the index for fast search of words within files\n",
    "# use the index to draw some statistics about files\n",
    "# using the frequency of the words create a new text\n",
    "\n",
    "# first file is a config file with fixed structure\n",
    "# ID = 1\n",
    "# SONG = 'Song name'\n",
    "# FILENAME = 'file.txt'\n",
    "# =====\n",
    "# the other files are in the same directory"
   ]
  },
  {
   "cell_type": "code",
   "execution_count": 136,
   "id": "20e43f1d-896d-4d96-90c7-015f16806ba7",
   "metadata": {},
   "outputs": [],
   "source": [
    "import os\n",
    "\n",
    "song_dir = '/home/dataset/beatles/'\n",
    "song_list = os.path.join(song_dir, 'song_list.txt')"
   ]
  },
  {
   "cell_type": "code",
   "execution_count": 154,
   "id": "f3102579-9756-4639-bcc0-70e48644ca10",
   "metadata": {},
   "outputs": [],
   "source": [
    "def list_of_songs(song_list_file):\n",
    "    d = {}\n",
    "    with open(song_list_file) as f:\n",
    "        for l in f:\n",
    "            if l[0] == \"=\":\n",
    "                continue\n",
    "            else:\n",
    "                line = l\n",
    "                if line[0] == 'I':\n",
    "                    a = line.replace('ID=', '').strip()\n",
    "                    d[a] = []\n",
    "                elif line[0] == 'S':\n",
    "                    b = line.replace('SONG=', '').strip()\n",
    "                    d[a].append(b)\n",
    "                elif line[0] == 'F':\n",
    "                    c = line.replace('FILE=', '').strip()\n",
    "                    d[a].append(c)\n",
    "    return d"
   ]
  },
  {
   "cell_type": "code",
   "execution_count": 205,
   "id": "214ac4db-9ab4-4062-9067-c2c6a484990a",
   "metadata": {},
   "outputs": [],
   "source": [
    "def read_songlist(file):\n",
    "    all_songs = {}\n",
    "    d = {}\n",
    "    with open(file) as f:\n",
    "        for l in f:\n",
    "            if l.strip()==\"===\":\n",
    "                #print(\"***\")\n",
    "                #print(d)\n",
    "                all_songs[d[\"ID\"]] = [d[\"SONG\"],d[\"FILE\"]]\n",
    "                d = {}\n",
    "                continue\n",
    "            else:\n",
    "                s=l.strip().split('=')\n",
    "                #print(s)\n",
    "                d[s[0]] = s[1]\n",
    "    return all_songs\n",
    "\n",
    "#songlist = read_songlist(file)\n",
    "#print(songlist)"
   ]
  },
  {
   "cell_type": "code",
   "execution_count": 200,
   "id": "946645d9-353b-466d-b61b-948801634865",
   "metadata": {},
   "outputs": [],
   "source": [
    "def song_organizer(path):\n",
    "    ids = []\n",
    "    songs = []\n",
    "    file = []\n",
    "    with open(path) as f:\n",
    "        for x in f:\n",
    "            if \"ID\" in x:\n",
    "                ids.append(x.replace(\"ID=\", '').replace(\"\\n\", ''))\n",
    "            elif \"SONG\" in x:\n",
    "                songs.append(x.replace(\"SONG=\", '').replace(\"\\n\", ''))\n",
    "            elif \"FILE\" in x:\n",
    "                file.append(x.replace(\"FILE=\", '').replace(\"\\n\", ''))\n",
    "\n",
    "    return dict((i[0], list(i[1:])) for i in zip(ids, songs, file))\n",
    "\n",
    "#song_organizer(path)"
   ]
  },
  {
   "cell_type": "code",
   "execution_count": 191,
   "id": "48e06a32-87d4-4d49-b9d5-e06383f53d22",
   "metadata": {},
   "outputs": [],
   "source": [
    "def get_word_count(songs, song_base_directory):\n",
    "    words = {}\n",
    "    for k, v in songs.items():\n",
    "        song_filename = os.path.join(song_base_directory, v[1])\n",
    "        with open(song_filename) as f:\n",
    "            for i in range(9):\n",
    "                next(f)\n",
    "            for l in f:\n",
    "                if l.strip() == 'Correct lyrics':\n",
    "                    break\n",
    "                if l.strip() == '':\n",
    "                    continue\n",
    "                sanitized_line = l.strip().replace('?', '').replace(',', '')\n",
    "                for word in sanitized_line.split(' '):\n",
    "                    lowercase_word = word.lower()\n",
    "                    if not lowercase_word in words:\n",
    "                        words[lowercase_word] = 0\n",
    "                    words[lowercase_word] += 1\n",
    "    return words"
   ]
  },
  {
   "cell_type": "code",
   "execution_count": 206,
   "id": "6cc7c7f9-5112-44a4-b992-ccaac9240bda",
   "metadata": {},
   "outputs": [],
   "source": [
    "#dict_of_songs = list_of_songs(song_list)\n",
    "#dict_of_songs = song_organizer(song_list)\n",
    "dict_of_songs = read_songlist(song_list)\n",
    "word_count = get_word_count(dict_of_songs, song_dir)    "
   ]
  },
  {
   "cell_type": "code",
   "execution_count": 207,
   "id": "4f6b64ab-5086-45be-8387-4f6939e15f10",
   "metadata": {},
   "outputs": [],
   "source": [
    "ten_most_frequent_words = sorted(word_count.items(), key=lambda x : x[1], reverse=True)[:10]"
   ]
  },
  {
   "cell_type": "code",
   "execution_count": 208,
   "id": "8a602594-e2bc-4e68-82f0-c8654a0b6d85",
   "metadata": {},
   "outputs": [
    {
     "data": {
      "text/plain": [
       "[('you', 2434),\n",
       " ('i', 1763),\n",
       " ('the', 1563),\n",
       " ('to', 1249),\n",
       " ('and', 1114),\n",
       " ('me', 1076),\n",
       " ('a', 1073),\n",
       " ('love', 599),\n",
       " ('in', 596),\n",
       " ('my', 593)]"
      ]
     },
     "execution_count": 208,
     "metadata": {},
     "output_type": "execute_result"
    }
   ],
   "source": [
    "ten_most_frequent_words"
   ]
  },
  {
   "cell_type": "code",
   "execution_count": 203,
   "id": "7b739835-a040-4bf8-b041-1933f3727c94",
   "metadata": {},
   "outputs": [
    {
     "data": {
      "text/plain": [
       "[('you', 2434),\n",
       " ('i', 1763),\n",
       " ('the', 1563),\n",
       " ('to', 1249),\n",
       " ('and', 1114),\n",
       " ('me', 1076),\n",
       " ('a', 1073),\n",
       " ('love', 599),\n",
       " ('in', 596),\n",
       " ('my', 593)]"
      ]
     },
     "execution_count": 203,
     "metadata": {},
     "output_type": "execute_result"
    }
   ],
   "source": [
    "ten_most_frequent_words"
   ]
  },
  {
   "cell_type": "code",
   "execution_count": 199,
   "id": "c41d44a6-631e-4296-9cc7-6bfd16891770",
   "metadata": {},
   "outputs": [
    {
     "data": {
      "text/plain": [
       "[('you', 2434),\n",
       " ('i', 1763),\n",
       " ('the', 1563),\n",
       " ('to', 1249),\n",
       " ('and', 1114),\n",
       " ('me', 1076),\n",
       " ('a', 1073),\n",
       " ('love', 599),\n",
       " ('in', 596),\n",
       " ('my', 593)]"
      ]
     },
     "execution_count": 199,
     "metadata": {},
     "output_type": "execute_result"
    }
   ],
   "source": [
    "ten_most_frequent_words"
   ]
  },
  {
   "cell_type": "code",
   "execution_count": null,
   "id": "936aade4-98f9-4482-994c-df5647a232bc",
   "metadata": {},
   "outputs": [],
   "source": []
  }
 ],
 "metadata": {
  "kernelspec": {
   "display_name": "Python 3 (ipykernel)",
   "language": "python",
   "name": "python3"
  },
  "language_info": {
   "codemirror_mode": {
    "name": "ipython",
    "version": 3
   },
   "file_extension": ".py",
   "mimetype": "text/x-python",
   "name": "python",
   "nbconvert_exporter": "python",
   "pygments_lexer": "ipython3",
   "version": "3.10.1"
  }
 },
 "nbformat": 4,
 "nbformat_minor": 5
}

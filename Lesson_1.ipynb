{
  "nbformat": 4,
  "nbformat_minor": 0,
  "metadata": {
    "colab": {
      "name": "Lesson 1",
      "provenance": [],
      "collapsed_sections": [
        "ByOJ3lqEm9vY"
      ],
      "toc_visible": true,
      "authorship_tag": "ABX9TyNT8P/aQNL+QCFOioUP2mHD",
      "include_colab_link": true
    },
    "kernelspec": {
      "name": "python3",
      "display_name": "Python 3"
    }
  },
  "cells": [
    {
      "cell_type": "markdown",
      "metadata": {
        "id": "view-in-github",
        "colab_type": "text"
      },
      "source": [
        "<a href=\"https://colab.research.google.com/github/marcomoretto/physalia_python_2022/blob/main/Lesson_1.ipynb\" target=\"_parent\"><img src=\"https://colab.research.google.com/assets/colab-badge.svg\" alt=\"Open In Colab\"/></a>"
      ]
    },
    {
      "cell_type": "markdown",
      "metadata": {
        "id": "By3kkIX0nH0o"
      },
      "source": [
        "# Python data types\n",
        "\n"
      ]
    },
    {
      "cell_type": "markdown",
      "metadata": {
        "id": "ZBEli6e5qvtN"
      },
      "source": [
        "Let's start with `integer` and `string`. We will use the function `print` to see the result (even though Notebook always show the result of the last command executed) and the function `type` that given an **object** will return its type."
      ]
    },
    {
      "cell_type": "code",
      "metadata": {
        "id": "xvwEDaz0nXnM"
      },
      "source": [
        "print(type(1))\n",
        "print(type(\"hello\"))"
      ],
      "execution_count": null,
      "outputs": []
    },
    {
      "cell_type": "markdown",
      "metadata": {
        "id": "_8fjbBcIrP4I"
      },
      "source": [
        "Now let's see other typical data types used in Python"
      ]
    },
    {
      "cell_type": "code",
      "metadata": {
        "id": "kb_Wqwi9nYnB"
      },
      "source": [
        "print(type(True))\n",
        "print(type(1.0))\n",
        "print(type([]))\n",
        "print(type({}))"
      ],
      "execution_count": null,
      "outputs": []
    },
    {
      "cell_type": "markdown",
      "metadata": {
        "id": "7EhdMmx9rqMx"
      },
      "source": [
        "### Cast operators"
      ]
    },
    {
      "cell_type": "code",
      "metadata": {
        "id": "Z9Yoob_5rdlX"
      },
      "source": [
        "print(type(1))\n",
        "print(type(\"1\"))"
      ],
      "execution_count": null,
      "outputs": []
    },
    {
      "cell_type": "code",
      "metadata": {
        "id": "9D5hM7wQr2ZJ"
      },
      "source": [
        "# Let me introduce a code comment (this one) as well as the + operator even though we will talk about operators later on\n",
        "1 + 1"
      ],
      "execution_count": null,
      "outputs": []
    },
    {
      "cell_type": "code",
      "metadata": {
        "id": "Gs98orwssPOn"
      },
      "source": [
        "\"1\" + \"1\""
      ],
      "execution_count": null,
      "outputs": []
    },
    {
      "cell_type": "code",
      "metadata": {
        "id": "zSOD8E4ysSM1"
      },
      "source": [
        "str(1 + 1)"
      ],
      "execution_count": null,
      "outputs": []
    },
    {
      "cell_type": "code",
      "metadata": {
        "id": "4E26W7Powcn3"
      },
      "source": [
        "print(type(str(1 + 1)))"
      ],
      "execution_count": null,
      "outputs": []
    },
    {
      "cell_type": "code",
      "metadata": {
        "id": "GvmFu_kxsanX"
      },
      "source": [
        "int('1' + '1')"
      ],
      "execution_count": null,
      "outputs": []
    },
    {
      "cell_type": "code",
      "metadata": {
        "id": "Xz42nFk1seX-"
      },
      "source": [
        "'1' + 1"
      ],
      "execution_count": null,
      "outputs": []
    },
    {
      "cell_type": "code",
      "metadata": {
        "id": "5mxWAGpnsf20"
      },
      "source": [
        "1 + '1'"
      ],
      "execution_count": null,
      "outputs": []
    },
    {
      "cell_type": "code",
      "metadata": {
        "id": "EufRYce2w0MK"
      },
      "source": [
        "1 + 1.7"
      ],
      "execution_count": null,
      "outputs": []
    },
    {
      "cell_type": "code",
      "metadata": {
        "id": "MI5O8yafxUlB"
      },
      "source": [
        "bool(0)"
      ],
      "execution_count": null,
      "outputs": []
    },
    {
      "cell_type": "code",
      "metadata": {
        "id": "jVBacUkdxXeE"
      },
      "source": [
        "bool('')"
      ],
      "execution_count": null,
      "outputs": []
    },
    {
      "cell_type": "code",
      "metadata": {
        "id": "M9Z9Xk1pxYo7"
      },
      "source": [
        "bool(1)"
      ],
      "execution_count": null,
      "outputs": []
    },
    {
      "cell_type": "code",
      "metadata": {
        "id": "8pB4OfvsxbdO"
      },
      "source": [
        "bool(100)"
      ],
      "execution_count": null,
      "outputs": []
    },
    {
      "cell_type": "code",
      "metadata": {
        "id": "O-9Sbo2PxdH5"
      },
      "source": [
        "bool('100')"
      ],
      "execution_count": null,
      "outputs": []
    },
    {
      "cell_type": "code",
      "metadata": {
        "id": "-dVFG1bSxeZo"
      },
      "source": [
        "bool(False)"
      ],
      "execution_count": null,
      "outputs": []
    },
    {
      "cell_type": "code",
      "metadata": {
        "id": "KknKWb_uxg6R"
      },
      "source": [
        "bool('False')"
      ],
      "execution_count": null,
      "outputs": []
    },
    {
      "cell_type": "markdown",
      "metadata": {
        "id": "mfISkGR0xyrY"
      },
      "source": [
        "# Variables"
      ]
    },
    {
      "cell_type": "code",
      "metadata": {
        "id": "lJ-btkMJxiVW"
      },
      "source": [
        "a = 10\n",
        "print(a)"
      ],
      "execution_count": null,
      "outputs": []
    },
    {
      "cell_type": "code",
      "metadata": {
        "id": "uB9KVxsyx1SB"
      },
      "source": [
        "a = 1\n",
        "b = 1\n",
        "c = a + b\n",
        "print(c)"
      ],
      "execution_count": null,
      "outputs": []
    },
    {
      "cell_type": "markdown",
      "metadata": {
        "id": "pQKuKhHdyhkc"
      },
      "source": [
        "![variable_value.png](data:image/png;base64,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)"
      ]
    },
    {
      "cell_type": "code",
      "metadata": {
        "id": "MeSOsIqtyCnU"
      },
      "source": [
        "id(a)"
      ],
      "execution_count": null,
      "outputs": []
    },
    {
      "cell_type": "code",
      "metadata": {
        "id": "gT7eYn0dywTm"
      },
      "source": [
        "id(1)"
      ],
      "execution_count": null,
      "outputs": []
    },
    {
      "cell_type": "code",
      "metadata": {
        "id": "7pMyjux7yxFv"
      },
      "source": [
        "id(a) == id(1)"
      ],
      "execution_count": null,
      "outputs": []
    },
    {
      "cell_type": "code",
      "metadata": {
        "id": "MEZTqLHyyyiH"
      },
      "source": [
        "id(a) == id(b)"
      ],
      "execution_count": null,
      "outputs": []
    },
    {
      "cell_type": "code",
      "metadata": {
        "id": "cIh86ZV9y0gy"
      },
      "source": [
        "a = 10"
      ],
      "execution_count": null,
      "outputs": []
    },
    {
      "cell_type": "code",
      "metadata": {
        "id": "u2rufuH50fAM"
      },
      "source": [
        "id(a)"
      ],
      "execution_count": null,
      "outputs": []
    },
    {
      "cell_type": "markdown",
      "metadata": {
        "id": "ByOJ3lqEm9vY"
      },
      "source": [
        "### *A small detour*: **this** concept will be useful when talking about functions, scope of variables and side-effect\n",
        "\n",
        "*Side-effect = changing something somewhere.*"
      ]
    },
    {
      "cell_type": "markdown",
      "metadata": {
        "id": "Dk05-kq5Qvr9"
      },
      "source": [
        "### Exercises (be the Python interpreter and write the result)"
      ]
    },
    {
      "cell_type": "code",
      "metadata": {
        "id": "lhMly9onQ4J6"
      },
      "source": [
        "# What is the data type of the following results? Why?\n",
        "print(type(1 + 2.7))\n",
        "\n",
        "print(type(1 + True))\n",
        "\n",
        "print(type([] + [1]))\n",
        "\n",
        "print(type(1 + int(float(\"2.7\"))))\n",
        "\n",
        "print(type([] + 1))"
      ],
      "execution_count": null,
      "outputs": []
    },
    {
      "cell_type": "markdown",
      "metadata": {
        "id": "aSY5TGfPeq8-"
      },
      "source": [
        "### Exercises (be the Python interpreter and write the result)"
      ]
    },
    {
      "cell_type": "code",
      "metadata": {
        "id": "M3xNSNkfeswS"
      },
      "source": [
        "a = 100\n",
        "b = '100'\n",
        "c = 200.0\n",
        "\n",
        "print(bool(a - float(b)))\n",
        "\n",
        "print(c / a)\n",
        "\n",
        "print(a + a - int(b + b))\n",
        "\n",
        "print(int(bool([])) + int(bool(a)))\n",
        "\n",
        "print(type(a) == type(c))"
      ],
      "execution_count": null,
      "outputs": []
    },
    {
      "cell_type": "markdown",
      "metadata": {
        "id": "zb-AiVL-pACi"
      },
      "source": [
        "# `list, dictionaries, set and tuple`"
      ]
    },
    {
      "cell_type": "markdown",
      "metadata": {
        "id": "hw9_YeU7pbJl"
      },
      "source": [
        "A `list` is a data structure in Python that is a **mutable**, **ordered** sequence of **objects**. Each element or value that is inside of a list is called an item. Just as strings are defined as characters between quotes, lists are defined by having values between square brackets `[ ]`"
      ]
    },
    {
      "cell_type": "code",
      "metadata": {
        "id": "0sep71tC0gLs"
      },
      "source": [
        "l = [] # empty list\n",
        "l = ['a', 3, 5, True, 2.0]\n",
        "\n",
        "print(l)"
      ],
      "execution_count": null,
      "outputs": []
    },
    {
      "cell_type": "markdown",
      "metadata": {
        "id": "VqX8Kz25qIXq"
      },
      "source": [
        "As an ordered sequence of elements, each **item** in a list can be called individually, through **indexing**."
      ]
    },
    {
      "cell_type": "markdown",
      "metadata": {
        "id": "7l_SDkQbq0uo"
      },
      "source": [
        "![python-list-index.png](data:image/png;base64,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)"
      ]
    },
    {
      "cell_type": "code",
      "metadata": {
        "id": "w0Ejlj_1pwnk"
      },
      "source": [
        "print(l[0])\n",
        "print(l[-1])"
      ],
      "execution_count": null,
      "outputs": []
    },
    {
      "cell_type": "code",
      "metadata": {
        "id": "9u8ZAI2grmKV"
      },
      "source": [
        "print(len(l))"
      ],
      "execution_count": null,
      "outputs": []
    },
    {
      "cell_type": "markdown",
      "metadata": {
        "id": "MGT_Cn9psNHf"
      },
      "source": [
        "There are a lot of similarities between a `list` and a `string`. You can think a `string` as a `list` of **character**. The big difference is that a `string` is **immutable**!"
      ]
    },
    {
      "cell_type": "code",
      "metadata": {
        "id": "bfEc76O1r4ly"
      },
      "source": [
        "l = ['p', 'r', 'o', 'b', 'e']\n",
        "s = 'probe'\n",
        "\n",
        "print(len(l), len(s))\n",
        "print(l[0], s[0])\n",
        "print(l[-1], s[-1])\n"
      ],
      "execution_count": null,
      "outputs": []
    },
    {
      "cell_type": "code",
      "metadata": {
        "id": "0BcO6giRtJu7"
      },
      "source": [
        "print(l, id(l))\n",
        "print(s, id(s))"
      ],
      "execution_count": null,
      "outputs": []
    },
    {
      "cell_type": "code",
      "metadata": {
        "id": "D_Cr7kumtUM1"
      },
      "source": [
        "l[0] = 't'\n",
        "l[2] = 'i'\n",
        "print(l, id(l))"
      ],
      "execution_count": null,
      "outputs": []
    },
    {
      "cell_type": "code",
      "metadata": {
        "id": "qUgpVi6FuBEK"
      },
      "source": [
        "s[0] = 't'\n",
        "s[2] = 'i'\n",
        "print(s, id(s))"
      ],
      "execution_count": null,
      "outputs": []
    },
    {
      "cell_type": "code",
      "metadata": {
        "id": "xwn8rrIYuJuv"
      },
      "source": [
        "s = 'tribe'\n",
        "print(s, id(s))\n"
      ],
      "execution_count": null,
      "outputs": []
    },
    {
      "cell_type": "code",
      "metadata": {
        "id": "Iz4G7C0xueFq"
      },
      "source": [
        "l.append('s')\n",
        "print(l, id(l))"
      ],
      "execution_count": null,
      "outputs": []
    },
    {
      "cell_type": "code",
      "metadata": {
        "id": "Pg-ksY9JzDqC"
      },
      "source": [
        "s += 's' # += is the short version of s = s + 's'\n",
        "print(s, id(s))"
      ],
      "execution_count": null,
      "outputs": []
    },
    {
      "cell_type": "code",
      "metadata": {
        "id": "TB02tWBg0wee"
      },
      "source": [
        " # the in operator\n",
        " print('p' in l)\n",
        " print('a' in s)"
      ],
      "execution_count": null,
      "outputs": []
    },
    {
      "cell_type": "markdown",
      "metadata": {
        "id": "wzBRcwYQzhgw"
      },
      "source": [
        "### Enough `list` for the moment, we will see more **operations** that can be performed with lists later on. Let's continue with `dict` data type\n",
        "\n",
        "The `dictionary` is Python’s **mapping** type. This means that dictionaries map **keys** to **values** and these key-value pairs are a useful way to store data in Python. A dictionary is constructed with curly braces on either side { }."
      ]
    },
    {
      "cell_type": "code",
      "metadata": {
        "id": "dLJq2QmYzKUO"
      },
      "source": [
        "d = {'luca': '+398786654345', 'marco': '+392387645677', 'giovanni': '+393445676233'}\n",
        "l = ['+398786654345', '+392387645677', '+393445676233']"
      ],
      "execution_count": null,
      "outputs": []
    },
    {
      "cell_type": "code",
      "metadata": {
        "id": "xEUqzdQT7Jps"
      },
      "source": [
        "print(d)"
      ],
      "execution_count": null,
      "outputs": []
    },
    {
      "cell_type": "code",
      "metadata": {
        "id": "MXrqrtFd7K37"
      },
      "source": [
        "print(len(d))"
      ],
      "execution_count": null,
      "outputs": []
    },
    {
      "cell_type": "code",
      "metadata": {
        "id": "n8mq2ko67Ot7"
      },
      "source": [
        "print(d['marco'])\n",
        "print(l[1])"
      ],
      "execution_count": null,
      "outputs": []
    },
    {
      "cell_type": "markdown",
      "metadata": {
        "id": "2bb2E0VH8A7w"
      },
      "source": [
        "You can think of a *dict* as an **unordered** `list` where you can specify the index name and use any other **unmutable** **object** (usually `string`) instead of `integer`.\n",
        "\n",
        "Why **unordered**?\n",
        "\n",
        "### Speaking about unordered objects let's continue with `set`\n",
        "A `set` is an **unorderd** collection of *unique* and **unmutable** **objects**. A Python set is pretty close to the mathematical concept.\n",
        "\n",
        "![A-Venn-diagram-of-the-intersection-A-B-of-sets-A-and-B.png](data:image/png;base64,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)"
      ]
    },
    {
      "cell_type": "code",
      "metadata": {
        "id": "Mte4MM1z7R_V"
      },
      "source": [
        "a = set()\n",
        "b = set([10, 2, 3, 'ciao'])"
      ],
      "execution_count": null,
      "outputs": []
    },
    {
      "cell_type": "code",
      "metadata": {
        "id": "6La5oJxWJKDr"
      },
      "source": [
        "print(b)"
      ],
      "execution_count": null,
      "outputs": []
    },
    {
      "cell_type": "code",
      "metadata": {
        "id": "CRyLx1ULJSGN"
      },
      "source": [
        "a = set(['ciao', 'ciao', 'ciao', 1, 2, 3, 2, 3, 3, 3])\n",
        "print(a)"
      ],
      "execution_count": null,
      "outputs": []
    },
    {
      "cell_type": "code",
      "metadata": {
        "id": "c1GK54kYJnGp"
      },
      "source": [
        "print(len(a))"
      ],
      "execution_count": null,
      "outputs": []
    },
    {
      "cell_type": "code",
      "metadata": {
        "id": "mAWvxdgEJspH"
      },
      "source": [
        "print(a[0])"
      ],
      "execution_count": null,
      "outputs": []
    },
    {
      "cell_type": "markdown",
      "metadata": {
        "id": "10cPtKVKM3th"
      },
      "source": [
        "### Let's conclude with `tuple`\n",
        "\n",
        "A `tuple` is an **ordered**, **unmutable**, collection of **objects**. Much like a `set`, but **ordered**. Much like as a `list`, but **unmutable**."
      ]
    },
    {
      "cell_type": "code",
      "metadata": {
        "id": "REp7q6J9JuE6"
      },
      "source": [
        "t = ('a', 1, 2, -3, 'hello')\n",
        "print(t)"
      ],
      "execution_count": null,
      "outputs": []
    },
    {
      "cell_type": "code",
      "metadata": {
        "id": "ZNQ2xk1aNSrK"
      },
      "source": [
        "len(t)"
      ],
      "execution_count": null,
      "outputs": []
    },
    {
      "cell_type": "code",
      "metadata": {
        "id": "luD_7tYcNvsj"
      },
      "source": [
        "# example n°1: the phonebook\n",
        "# starting from a list of names and a list of numbers, create a dictionary that represent a phonebook.\n",
        "\n",
        "names = ['marco', 'chris', 'daniel', 'jacob', 'lisa', 'anne', 'denise']\n",
        "numbers = ['333123456', '344561233', '33367409390', '3339386722', '344896725', '3339386345', '3449344766']"
      ],
      "execution_count": null,
      "outputs": []
    },
    {
      "cell_type": "code",
      "metadata": {
        "id": "y9NgGvCmaBiV"
      },
      "source": [
        "pb = dict(zip(names, numbers))"
      ],
      "execution_count": null,
      "outputs": []
    },
    {
      "cell_type": "code",
      "metadata": {
        "id": "UNn6U2SkaH4y"
      },
      "source": [
        "# There was a mistake! The numbers represent people but in their alphabetical order, so you need to order names before creating the phonebook\n",
        "sorted(names)"
      ],
      "execution_count": null,
      "outputs": []
    },
    {
      "cell_type": "code",
      "metadata": {
        "id": "5uAefc5Xavk-"
      },
      "source": [
        "pb = dict(zip(sorted(names), numbers))"
      ],
      "execution_count": null,
      "outputs": []
    },
    {
      "cell_type": "code",
      "metadata": {
        "id": "74bnP3S7a2SY"
      },
      "source": [
        "# Sorry another mistake! Numbers should be considered in reverse order, so the last one is anne's number!\n",
        "numbers[::-1]"
      ],
      "execution_count": null,
      "outputs": []
    },
    {
      "cell_type": "code",
      "metadata": {
        "id": "Aj-TYO09bI3f"
      },
      "source": [
        "pb = dict(zip(sorted(names), numbers[::-1]))"
      ],
      "execution_count": null,
      "outputs": []
    },
    {
      "cell_type": "code",
      "metadata": {
        "id": "rMgAdyD-bMUH"
      },
      "source": [
        "pb"
      ],
      "execution_count": null,
      "outputs": []
    },
    {
      "cell_type": "markdown",
      "metadata": {
        "id": "_oxx0wM_b-Ks"
      },
      "source": [
        "### *A small detour:* modify an **object** *in-place* VS create *new* **object** and **function** VS **method**"
      ]
    },
    {
      "cell_type": "code",
      "metadata": {
        "id": "XdJcmAmmbfyv"
      },
      "source": [
        "print(names, id(names))\n",
        "print(sorted(names))"
      ],
      "execution_count": null,
      "outputs": []
    },
    {
      "cell_type": "code",
      "metadata": {
        "id": "RAKME31ldbRP"
      },
      "source": [
        "print(names, id(names))"
      ],
      "execution_count": null,
      "outputs": []
    },
    {
      "cell_type": "code",
      "metadata": {
        "id": "O_xwvllDdcZR"
      },
      "source": [
        "s_names = sorted(names)\n",
        "print(s_names, id(names), id(s_names))"
      ],
      "execution_count": null,
      "outputs": []
    },
    {
      "cell_type": "markdown",
      "metadata": {
        "id": "EYhpGjABd2f2"
      },
      "source": [
        "`sorted` is a **function** that creates a *new* **object**"
      ]
    },
    {
      "cell_type": "code",
      "metadata": {
        "id": "QNySJLoNduuW"
      },
      "source": [
        "print(names, id(names))\n",
        "names.sort()\n",
        "print(names, id(names))"
      ],
      "execution_count": null,
      "outputs": []
    },
    {
      "cell_type": "markdown",
      "metadata": {
        "id": "9Es3JUvueFUT"
      },
      "source": [
        "`sort` is a **method** that change the **object** *in-place* (this method do not create a new object and nothing is returned)\n",
        "\n",
        "Let's see something similar with the reverse order!"
      ]
    },
    {
      "cell_type": "code",
      "metadata": {
        "id": "9EAqzcj4eDtk"
      },
      "source": [
        "print(numbers, id(numbers))\n",
        "r_numbers = numbers[::-1] # this is actually an operator and not a function, more about list slice later on!\n",
        "print(r_numbers, id(r_numbers))"
      ],
      "execution_count": null,
      "outputs": []
    },
    {
      "cell_type": "code",
      "metadata": {
        "id": "QZQCUMIFfKv2"
      },
      "source": [
        "numbers.reverse()\n",
        "print(numbers, id(numbers))"
      ],
      "execution_count": null,
      "outputs": []
    },
    {
      "cell_type": "markdown",
      "metadata": {
        "id": "iB8Z8OtHfatw"
      },
      "source": [
        "Just like before, `reverse` is a method that reverse the order of the `list` *in-place*\n",
        "\n",
        "Even though we still have to formally introduce `functions` you can thing about `methods` as **objects**' `functions`, so in this case, `numbers` is an **object** (in Python everything is an **object**) and `reverse` is a `function` that is applied it!"
      ]
    },
    {
      "cell_type": "code",
      "metadata": {
        "id": "RjknrxCMfWS-"
      },
      "source": [
        "# example n°2\n",
        "# Let's add a new person (and relative phone number) to our phonebook\n",
        "\n",
        "pb['maria'] = '333000987'\n",
        "print(pb)"
      ],
      "execution_count": null,
      "outputs": []
    },
    {
      "cell_type": "code",
      "metadata": {
        "id": "FjRZo_RMg0f6"
      },
      "source": [
        "# what is daniel number?\n",
        "pb['daniel']"
      ],
      "execution_count": null,
      "outputs": []
    },
    {
      "cell_type": "code",
      "metadata": {
        "id": "ugTYVQoYg7DD"
      },
      "source": [
        "# marco is no more a friend of mine :-(\n",
        "del pb['marco']\n",
        "pb"
      ],
      "execution_count": null,
      "outputs": []
    },
    {
      "cell_type": "code",
      "metadata": {
        "id": "8joTsO8JhHxf"
      },
      "source": [
        "# jacob lost his phone and now has a different number\n",
        "pb['jacob'] = '344222341'\n",
        "print(pb)"
      ],
      "execution_count": null,
      "outputs": []
    },
    {
      "cell_type": "code",
      "metadata": {
        "id": "Y7o7UW4Qhb5w"
      },
      "source": [
        "# I've got a phone call from a number I don't know, I'll name it as ???\n",
        "pb['???'] = '333988746'\n",
        "pb"
      ],
      "execution_count": null,
      "outputs": []
    },
    {
      "cell_type": "code",
      "metadata": {
        "id": "S55yeSH4h-5Q"
      },
      "source": [
        "# Ah it was lisa with her new phone number! Can I change '???' to 'lisa'?"
      ],
      "execution_count": null,
      "outputs": []
    },
    {
      "cell_type": "code",
      "metadata": {
        "id": "QDLpOs5SisnH"
      },
      "source": [
        "# So I'll have to change lisa's phone and then delete '???'\n",
        "pb['lisa'] = pb['???']\n",
        "del pb['???']\n",
        "pb"
      ],
      "execution_count": null,
      "outputs": []
    },
    {
      "cell_type": "code",
      "metadata": {
        "id": "Os44eRSIi8AZ"
      },
      "source": [
        "# example n°3\n",
        "# The first 3 numbers of each phone number differentiate the phone operator.\n",
        "operators = ['344', '333', '344', '333', '344', '333', '333'] # don't worry we will see at least 2 Pythonic way to get this list\n",
        "print(operators)"
      ],
      "execution_count": null,
      "outputs": []
    },
    {
      "cell_type": "code",
      "metadata": {
        "id": "fuUd38ohpPGu"
      },
      "source": [
        "# how many different operators exist?\n",
        "len(operators) # this is the same as the number of people in our phonebook, we need a way to get the how many unique one we have!"
      ],
      "execution_count": null,
      "outputs": []
    },
    {
      "cell_type": "code",
      "metadata": {
        "id": "m13q8A-EwMFt"
      },
      "source": [
        "len(set(operators)) # casting to set automatically removes duplicates.. but we lose the original order"
      ],
      "execution_count": null,
      "outputs": []
    },
    {
      "cell_type": "code",
      "metadata": {
        "id": "194MZ4vuwOx6"
      },
      "source": [
        "# how many friends have the 333 operators, and how many have the 344 operator\n",
        "operators.count('333')"
      ],
      "execution_count": null,
      "outputs": []
    },
    {
      "cell_type": "code",
      "metadata": {
        "id": "bjU0YZmqyWEB"
      },
      "source": [
        "operators.count('344') # or len(operators) - operators.count('333')"
      ],
      "execution_count": null,
      "outputs": []
    },
    {
      "cell_type": "markdown",
      "metadata": {
        "id": "6i7OJfIE11eQ"
      },
      "source": [
        "# Exercises"
      ]
    },
    {
      "cell_type": "code",
      "metadata": {
        "id": "_C3YoDr-23W_"
      },
      "source": [
        "# let's start with the list of friends from previous examples\n",
        "names = ['anne', 'chris', 'daniel', 'denise', 'jacob', 'lisa', 'maria']\n",
        "\n",
        "# there are new friends (another list) that should be added to the same list\n",
        "new_names = ['jack', 'rose', 'adele', 'max']\n",
        "# --> put your code here <--\n",
        "\n",
        "# ops I forgot one single name a girl named 'sue'\n",
        "# --> put your code here <--\n"
      ],
      "execution_count": null,
      "outputs": []
    },
    {
      "cell_type": "code",
      "metadata": {
        "id": "K2voo0RF4Onu"
      },
      "source": [
        "# now let's pretend you are a computer programming teacher and the previous list is a list of your students, use the copy() method to create a copy of that list and name it students\n",
        "# x.copy() creates a copy of x\n",
        "students = # --> your code here <--\n",
        "\n",
        "#  these are the ordered results from their last test (from 0 to 10)\n",
        "marks = [5, 5, 6, 7, 4, 6, 6, 8, 9, 7, 4, 5]\n",
        "\n",
        "# how did adele performed?\n",
        "# --> your code here <--\n",
        "\n",
        "\n",
        "# index() is a method of a list that return the index of the list element, i.e. names.index('chris') will return 1. Try to use it to do the previous task!\n",
        "# --> your code here <--\n",
        "\n",
        "\n",
        "# the sum() function takes a list and return the sum of all the element of that list, i.e. sum(['a', 'b', 'c']) will return 3. Try to use it to get the average mark!\n",
        "# --> your code here <--\n",
        "\n",
        "# the functions max() and min() returns respectively the max and min of a list. Who scored the best? And who was the worst?\n",
        "# --> your code here <--\n",
        "\n",
        "\n",
        "# can you think of another method to get out the best and the worst mark (not the name just the mark) without using the max and min functions?\n",
        "# --> your code here <--\n",
        "\n"
      ],
      "execution_count": null,
      "outputs": []
    },
    {
      "cell_type": "markdown",
      "metadata": {
        "id": "mV8yEBXv-5bN"
      },
      "source": [
        "### We saw that we can create list of int or list of string etc.. But can we create list of lists? Or combine dictionaries? YES! Let's explore a bit nested data structures!"
      ]
    },
    {
      "cell_type": "code",
      "metadata": {
        "id": "Z59z4_grKLQ_"
      },
      "source": [
        "# a list of lists can be though as a 2D matrix\n",
        "\n",
        "ll = [[1,2,3], [4,5,6], [7,8,9]]\n",
        "print(ll)"
      ],
      "execution_count": null,
      "outputs": []
    },
    {
      "cell_type": "code",
      "metadata": {
        "id": "jPgUpln7M_Yd"
      },
      "source": [
        "ll[0][1]"
      ],
      "execution_count": null,
      "outputs": []
    },
    {
      "cell_type": "code",
      "metadata": {
        "id": "viPK6M-ANIbH"
      },
      "source": [
        "dd = {\n",
        "    'anne': ['3449344766', 'Main Street, 2'],\n",
        "    'chris': ['3339386345', 'South Blv, 42'],\n",
        "    'daniel': ['344896725', '4th Street'],\n",
        "    'denise': ['3339386722', 'Sunset Road, 6'],\n",
        "    'jacob': ['344222341', 'Rose flower Lane, 11'],\n",
        "    'lisa': ['333988746', 'East end Road, 77']\n",
        "}"
      ],
      "execution_count": null,
      "outputs": []
    },
    {
      "cell_type": "code",
      "metadata": {
        "id": "W_iF9o-3OjCF"
      },
      "source": [
        "dd['daniel']"
      ],
      "execution_count": null,
      "outputs": []
    },
    {
      "cell_type": "code",
      "metadata": {
        "id": "8TxOSLvrObeH"
      },
      "source": [
        "dd['daniel'][1]"
      ],
      "execution_count": null,
      "outputs": []
    },
    {
      "cell_type": "code",
      "metadata": {
        "id": "NjIuS3JFPUj8"
      },
      "source": [
        "dd = {\n",
        "    'anne': {'number': '3449344766', 'address': 'Main Street, 2', 'family_name': 'davies'},\n",
        "    'chris': {'number': '3339386345', 'address': 'South Blv, 42', 'family_name': 'cornell'},\n",
        "    'daniel': {'number': '344896725', 'address': '4th Street', 'family_name': 'redcliff'},\n",
        "    'denise': {'number': '3339386722', 'address': 'Sunset Road, 6', 'family_name': 'le blanche'},\n",
        "    'jacob': {'number': '344222341', 'address': 'Rose flower Lane, 11', 'family_name': 'ericsson'},\n",
        "    'lisa': {'number': '333988746', 'address': 'East end Road, 77', 'family_name': 'stuard'}\n",
        "}\n",
        "\n",
        "print(dd['anne']['family_name'])"
      ],
      "execution_count": null,
      "outputs": []
    },
    {
      "cell_type": "markdown",
      "metadata": {
        "id": "xdJ00ZK8mhpI"
      },
      "source": [
        "# Exercises"
      ]
    },
    {
      "cell_type": "code",
      "metadata": {
        "id": "Brl5s6fjxhJY"
      },
      "source": [
        "classes = {'math': ['chris', 'daniel', 'denise', 'jacob',  'maria'], \n",
        "           'science': ['anne', 'chris', 'lisa', 'maria'], \n",
        "           'english': ['denise', 'jacob', 'lisa'],\n",
        "           'history': ['anne', 'chris', 'daniel', 'denise', 'jacob', 'lisa', 'maria']}"
      ],
      "execution_count": null,
      "outputs": []
    },
    {
      "cell_type": "code",
      "metadata": {
        "id": "rSmz6R5vzQ45"
      },
      "source": [
        "# how many classes do we have?\n",
        "# --> your code here <--"
      ],
      "execution_count": null,
      "outputs": []
    },
    {
      "cell_type": "code",
      "metadata": {
        "id": "O72SEDoay8jJ"
      },
      "source": [
        "# how many students there are for english class?\n",
        "# --> your code here <--"
      ],
      "execution_count": null,
      "outputs": []
    },
    {
      "cell_type": "code",
      "metadata": {
        "id": "uiDS6xA1y_FD"
      },
      "source": [
        "# which is the total number of unique students?\n",
        "# --> your code here <--"
      ],
      "execution_count": null,
      "outputs": []
    },
    {
      "cell_type": "code",
      "metadata": {
        "id": "6rVDwciYz5OC"
      },
      "source": [
        " # how many classes are attended by 'anne'?\n",
        " student = 'anne'\n",
        "# --> your code here <--"
      ],
      "execution_count": null,
      "outputs": []
    },
    {
      "cell_type": "markdown",
      "metadata": {
        "id": "nO71pSiXzfgB"
      },
      "source": [
        "# Operators\n",
        "\n",
        "**Operators** are special symbols in **Python** that carry out *arithmetic* or *logical* computation.\n",
        "\n",
        "Let's start with arithmetic operators:\n",
        "\n",
        "`+`\tAdd two operands or unary plus\n",
        "\n",
        "`-`\tSubtract right operand from the left or unary minus\n",
        "\n",
        "`*`\tMultiply two operands\n",
        "\n",
        "`/`\tDivide left operand by the right one (always results into float)\n",
        "\n",
        "`%`\tModulus - remainder of the division of left operand by the right\n",
        "\n",
        "`//`\tFloor division - division that results into whole number adjusted to the left in the number line\n",
        "\n",
        "`**`\tExponent - left operand raised to the power of right"
      ]
    },
    {
      "cell_type": "code",
      "metadata": {
        "id": "GGcfopE4zOcA"
      },
      "source": [
        "5 + 2"
      ],
      "execution_count": null,
      "outputs": []
    },
    {
      "cell_type": "code",
      "metadata": {
        "id": "gRJEzUxI0GlL"
      },
      "source": [
        "5 - 2"
      ],
      "execution_count": null,
      "outputs": []
    },
    {
      "cell_type": "code",
      "metadata": {
        "id": "aLuBrXBV0H9B"
      },
      "source": [
        "5 * 2"
      ],
      "execution_count": null,
      "outputs": []
    },
    {
      "cell_type": "code",
      "metadata": {
        "id": "b15ICIz10JCr"
      },
      "source": [
        "5 / 2"
      ],
      "execution_count": null,
      "outputs": []
    },
    {
      "cell_type": "code",
      "metadata": {
        "id": "vkzveu5O0Kbm"
      },
      "source": [
        "5 % 2"
      ],
      "execution_count": null,
      "outputs": []
    },
    {
      "cell_type": "code",
      "metadata": {
        "id": "AvTm2G5M0L-2"
      },
      "source": [
        "5 // 2"
      ],
      "execution_count": null,
      "outputs": []
    },
    {
      "cell_type": "code",
      "metadata": {
        "id": "9UHzeEcA0NkT"
      },
      "source": [
        "5 ** 2 "
      ],
      "execution_count": null,
      "outputs": []
    },
    {
      "cell_type": "markdown",
      "metadata": {
        "id": "4GEizAMB14lQ"
      },
      "source": [
        "### These are **comparison** and **logical** operators. They **ALWAYS** return a `bool` value (True or False)"
      ]
    },
    {
      "cell_type": "code",
      "metadata": {
        "id": "UkRoEkvX0TKn"
      },
      "source": [
        "5 == 2"
      ],
      "execution_count": null,
      "outputs": []
    },
    {
      "cell_type": "code",
      "metadata": {
        "id": "JSlLGici2TcV"
      },
      "source": [
        "5 > 2"
      ],
      "execution_count": null,
      "outputs": []
    },
    {
      "cell_type": "code",
      "metadata": {
        "id": "kMvkVt7N2XCD"
      },
      "source": [
        "5 < 2"
      ],
      "execution_count": null,
      "outputs": []
    },
    {
      "cell_type": "code",
      "metadata": {
        "id": "BK1NYkvS2aL3"
      },
      "source": [
        "5 >= 2"
      ],
      "execution_count": null,
      "outputs": []
    },
    {
      "cell_type": "code",
      "metadata": {
        "id": "sQef6Nh12bjM"
      },
      "source": [
        "5 <= 2"
      ],
      "execution_count": null,
      "outputs": []
    },
    {
      "cell_type": "code",
      "metadata": {
        "id": "eO932frc2c53"
      },
      "source": [
        "5 != 2"
      ],
      "execution_count": null,
      "outputs": []
    },
    {
      "cell_type": "markdown",
      "metadata": {
        "id": "zrPGSEmn2kvv"
      },
      "source": [
        "Logical operators (boolean arithmetics), `and`, `or`, `not`."
      ]
    },
    {
      "cell_type": "code",
      "metadata": {
        "id": "vL24t6YC2dn2"
      },
      "source": [
        "a = 5 > 2\n",
        "b = 6 <= 6\n",
        "\n",
        "print(a, b)\n",
        "print(a and b) # is True if and only if a is True and b is True"
      ],
      "execution_count": null,
      "outputs": []
    },
    {
      "cell_type": "code",
      "metadata": {
        "id": "XLysZONR3KUu"
      },
      "source": [
        "a = 5 < 2\n",
        "b = 6 <= 6"
      ],
      "execution_count": null,
      "outputs": []
    },
    {
      "cell_type": "code",
      "metadata": {
        "id": "mRt9IUR53hAK"
      },
      "source": [
        "print(a, b)\n",
        "print(a or b) # is False if and only if a is False and b is False"
      ],
      "execution_count": null,
      "outputs": []
    },
    {
      "cell_type": "code",
      "metadata": {
        "id": "MgSpUgbo3njP"
      },
      "source": [
        "print(not a)\n",
        "print(not b)\n"
      ],
      "execution_count": null,
      "outputs": []
    },
    {
      "cell_type": "markdown",
      "metadata": {
        "id": "04jr3BCx30v6"
      },
      "source": [
        "### Assignment operators"
      ]
    },
    {
      "cell_type": "code",
      "metadata": {
        "id": "hffXBd9ynqIL"
      },
      "source": [
        "a = 5\n",
        "\n",
        "# syntactic sugar\n",
        "a += 5 # a = a + 5\n",
        "a -= 5 # a = a - 5\n",
        "a *= 5 # a = a * 5\n",
        "a /= 5 # a = a / 5\n",
        "a %= 5 # a = a % 5\n",
        "a //=\t5 # a = a // 5\n",
        "a **= 5 # a = a ** 5"
      ],
      "execution_count": null,
      "outputs": []
    },
    {
      "cell_type": "markdown",
      "metadata": {
        "id": "LdtqeGub33aZ"
      },
      "source": [
        "### Membership operators"
      ]
    },
    {
      "cell_type": "code",
      "metadata": {
        "id": "K1Ckxw9_pL4K"
      },
      "source": [
        "a = [1, 2, 3]\n",
        "1 in a"
      ],
      "execution_count": null,
      "outputs": []
    },
    {
      "cell_type": "code",
      "metadata": {
        "id": "Qaq0vmeppRkn"
      },
      "source": [
        "1 not in a"
      ],
      "execution_count": null,
      "outputs": []
    },
    {
      "cell_type": "markdown",
      "metadata": {
        "id": "PFMJ4s8335tO"
      },
      "source": [
        "### `List` and `String` operators"
      ]
    },
    {
      "cell_type": "code",
      "metadata": {
        "id": "TPqJgw0o3qit"
      },
      "source": [
        "str_a = 'hello'\n",
        "str_b = 'world'\n",
        "\n",
        "lst_a = ['h', 'e', 'l', 'l', 'o']\n",
        "lst_b = ['w', 'o', 'r', 'l', 'd']"
      ],
      "execution_count": null,
      "outputs": []
    },
    {
      "cell_type": "code",
      "metadata": {
        "id": "v8G6jT7FymC5"
      },
      "source": [
        "str_a + str_b"
      ],
      "execution_count": null,
      "outputs": []
    },
    {
      "cell_type": "code",
      "metadata": {
        "id": "kGqX3l81ynw-"
      },
      "source": [
        "lst_a + lst_b"
      ],
      "execution_count": null,
      "outputs": []
    },
    {
      "cell_type": "code",
      "metadata": {
        "id": "rMPNX5YHyqni"
      },
      "source": [
        "str_a * 3"
      ],
      "execution_count": null,
      "outputs": []
    },
    {
      "cell_type": "code",
      "metadata": {
        "id": "2BeY20vMy2Gq"
      },
      "source": [
        "lst_a * 3"
      ],
      "execution_count": null,
      "outputs": []
    },
    {
      "cell_type": "code",
      "metadata": {
        "id": "aXR_Ngrwy3j-"
      },
      "source": [
        "'h' in str_a"
      ],
      "execution_count": null,
      "outputs": []
    },
    {
      "cell_type": "code",
      "metadata": {
        "id": "1p3ewu-sy_Xq"
      },
      "source": [
        "'h' in lst_a"
      ],
      "execution_count": null,
      "outputs": []
    },
    {
      "cell_type": "code",
      "metadata": {
        "id": "Jfa1ofVtzBCB"
      },
      "source": [
        "'h' not in str_b"
      ],
      "execution_count": null,
      "outputs": []
    },
    {
      "cell_type": "code",
      "metadata": {
        "id": "UW6tlMvdzC10"
      },
      "source": [
        "'h' not in lst_b"
      ],
      "execution_count": null,
      "outputs": []
    },
    {
      "cell_type": "markdown",
      "metadata": {
        "id": "CDY6tFf7zPMb"
      },
      "source": [
        "### List (and String) slice"
      ]
    },
    {
      "cell_type": "markdown",
      "metadata": {
        "id": "1RG11P3D1PCc"
      },
      "source": [
        "```\n",
        " +---+---+---+---+---+---+---+---+---+---+---+---+---+---+---+---+---+---+---+---+---+---+---+---+---+---+\n",
        " | a | b | c | d | e | f | g | h | i | j | k | l | m | n | o | p | q | r | s | t | u | v | w | x | y | z |\n",
        " +---+---+---+---+---+---+---+---+---+---+---+---+---+---+---+---+---+---+---+---+---+---+---+---+---+---+\n",
        " 0   1   2   3   4   5   6   7   8   9   10  11  12  13  14  15  16  17  18  19  20  21  22  23  24  25  26\n",
        "```"
      ]
    },
    {
      "cell_type": "code",
      "metadata": {
        "id": "RM757T_91Luy"
      },
      "source": [
        "a = [chr(x) for x in range(97,123)] # ignore how I created the list for the moment"
      ],
      "execution_count": null,
      "outputs": []
    },
    {
      "cell_type": "code",
      "metadata": {
        "id": "dKil3Z_y1l-H"
      },
      "source": [
        "print(a)"
      ],
      "execution_count": null,
      "outputs": []
    },
    {
      "cell_type": "code",
      "metadata": {
        "id": "jIlnN0gi1mTo"
      },
      "source": [
        "print(a[0], a[5])"
      ],
      "execution_count": null,
      "outputs": []
    },
    {
      "cell_type": "code",
      "metadata": {
        "id": "wFC874zZ1wyI"
      },
      "source": [
        "print(a[5:])"
      ],
      "execution_count": null,
      "outputs": []
    },
    {
      "cell_type": "code",
      "metadata": {
        "id": "A9eF3TRz2AoK"
      },
      "source": [
        "print(a[:5])"
      ],
      "execution_count": null,
      "outputs": []
    },
    {
      "cell_type": "code",
      "metadata": {
        "id": "r1SQcokF2L3i"
      },
      "source": [
        "a[5:10]"
      ],
      "execution_count": null,
      "outputs": []
    },
    {
      "cell_type": "markdown",
      "metadata": {
        "id": "Fu0fyeDS2ZvW"
      },
      "source": [
        "```\n",
        " +---+---+---+---+---+---+---+---+---+---+---+---+---+---+---+---+---+---+---+---+---+---+---+---+---+---+\n",
        " | a | b | c | d | e | f | g | h | i | j | k | l | m | n | o | p | q | r | s | t | u | v | w | x | y | z |\n",
        " +---+---+---+---+---+---+---+---+---+---+---+---+---+---+---+---+---+---+---+---+---+---+---+---+---+---+\n",
        " 0   1   2   3   4   5   6   7   8   9   10  11  12  13  14  15  16  17  18  19  20  21  22  23  24  25  26\n",
        "-26 -25 -24 -23 -22 -21 -20 -19 -18 -17 -16 -15 -14 -13 -12 -11 -10 -9  -8  -7  -6  -5  -4  -3  -2  -1\n",
        "```"
      ]
    },
    {
      "cell_type": "code",
      "metadata": {
        "id": "lOT-8o6W2S4I"
      },
      "source": [
        "print(a[-1], a[-5])"
      ],
      "execution_count": null,
      "outputs": []
    },
    {
      "cell_type": "code",
      "metadata": {
        "id": "-fs98xU12mvS"
      },
      "source": [
        "print(a[-5:])"
      ],
      "execution_count": null,
      "outputs": []
    },
    {
      "cell_type": "code",
      "metadata": {
        "id": "M5bFMGbX2yhW"
      },
      "source": [
        "print(a[:-10])"
      ],
      "execution_count": null,
      "outputs": []
    },
    {
      "cell_type": "code",
      "metadata": {
        "id": "flBinbB029c2"
      },
      "source": [
        "print(a[-5:-10]) # ???"
      ],
      "execution_count": null,
      "outputs": []
    },
    {
      "cell_type": "code",
      "metadata": {
        "id": "JTVFcS7z3Rxq"
      },
      "source": [
        "print(a[-10:-5])"
      ],
      "execution_count": null,
      "outputs": []
    },
    {
      "cell_type": "markdown",
      "metadata": {
        "id": "o0rZHbw534OO"
      },
      "source": [
        "### Let's go one `step` further"
      ]
    },
    {
      "cell_type": "code",
      "metadata": {
        "id": "bdFg46sS3YGE"
      },
      "source": [
        "print(a[2:10:2])"
      ],
      "execution_count": null,
      "outputs": []
    },
    {
      "cell_type": "code",
      "metadata": {
        "id": "Ea-79f2M3-3K"
      },
      "source": [
        "a[2:10] == a[2:10:1]"
      ],
      "execution_count": null,
      "outputs": []
    },
    {
      "cell_type": "code",
      "metadata": {
        "id": "o7GXTWsc4Jo7"
      },
      "source": [
        "print(a[-11:-2:3])"
      ],
      "execution_count": null,
      "outputs": []
    },
    {
      "cell_type": "code",
      "metadata": {
        "id": "fYyincHQ4SNM"
      },
      "source": [
        "print(a[-5:-10:-1]) # remember this guy?"
      ],
      "execution_count": null,
      "outputs": []
    },
    {
      "cell_type": "code",
      "metadata": {
        "id": "KGNC4mZ04cPd"
      },
      "source": [
        "print(a[::-1])"
      ],
      "execution_count": null,
      "outputs": []
    },
    {
      "cell_type": "code",
      "metadata": {
        "id": "RMeG1wgf4rgQ"
      },
      "source": [
        "print(a[2:10:-1]) ### ??? mind the step sign"
      ],
      "execution_count": null,
      "outputs": []
    },
    {
      "cell_type": "code",
      "metadata": {
        "id": "E6QlULNQ40Mz"
      },
      "source": [
        "print(a[10:2:-1])"
      ],
      "execution_count": null,
      "outputs": []
    },
    {
      "cell_type": "code",
      "metadata": {
        "id": "yOpeSvXg49EC"
      },
      "source": [
        "print(a[2:10][::-1])"
      ],
      "execution_count": null,
      "outputs": []
    },
    {
      "cell_type": "markdown",
      "metadata": {
        "id": "ndpjdVcN6Jow"
      },
      "source": [
        "# Examples"
      ]
    },
    {
      "cell_type": "code",
      "metadata": {
        "id": "9aNvDKtmNlko"
      },
      "source": [
        "# given the following list\n",
        "names = ['anne', 'chris', 'daniel', 'denise', 'jacob', 'lisa', 'maria', 'jack', 'rose', 'adele', 'max', 'sue']"
      ],
      "execution_count": null,
      "outputs": []
    },
    {
      "cell_type": "code",
      "metadata": {
        "cellView": "form",
        "id": "BNeGJo4lNn-_"
      },
      "source": [
        "#@title  print the reverse alphabetical order\n",
        "sorted(names)[::-1]"
      ],
      "execution_count": null,
      "outputs": []
    },
    {
      "cell_type": "code",
      "metadata": {
        "cellView": "form",
        "id": "ThmIm46IN5UH"
      },
      "source": [
        "#@title divide these students in two groups, the first half would be one group, the second half the second group\n",
        "group1 = names[:len(names) // 2]\n",
        "group2 = names[len(names) // 2:]\n",
        "print(group1)\n",
        "print(group2)"
      ],
      "execution_count": null,
      "outputs": []
    },
    {
      "cell_type": "code",
      "metadata": {
        "cellView": "form",
        "id": "bMpKqa5jN-w9"
      },
      "source": [
        "#@title divide these students in two groups, the ones with odd index number on one group and the other in the second group.\n",
        "group1 = names[::2]\n",
        "group2 = names[1::2]\n",
        "print(group1)\n",
        "print(group2)"
      ],
      "execution_count": null,
      "outputs": []
    },
    {
      "cell_type": "code",
      "metadata": {
        "cellView": "form",
        "id": "luX0FxobOYcS"
      },
      "source": [
        "#@title create a list of couples where couple are composed by the first and last one, second and second last and so on\n",
        "list(zip(names, names[::-1]))[:6]"
      ],
      "execution_count": null,
      "outputs": []
    },
    {
      "cell_type": "code",
      "metadata": {
        "id": "WXaKNUYsh8AA",
        "cellView": "form"
      },
      "source": [
        "#@title\n",
        "# given the follwing list\n",
        "l = ['a', 'b', 'c', 'd', 'e', 'f', 'g', 'h', 'i', 'j', 'k', 'l', 'm', 'n', 'o', 'p', 'q', 'r', 's', 't', 'u', 'v', 'w', 'x', 'y', 'z']"
      ],
      "execution_count": null,
      "outputs": []
    },
    {
      "cell_type": "code",
      "metadata": {
        "cellView": "form",
        "id": "Zzw2qzwoOjBh"
      },
      "source": [
        "#@title remember the index() method? Print the list from 'k' to 'p' included\n",
        "print(l[l.index('k'): l.index('p') + 1])\n"
      ],
      "execution_count": null,
      "outputs": []
    },
    {
      "cell_type": "code",
      "metadata": {
        "cellView": "form",
        "id": "A7E7R1C2Ooeg"
      },
      "source": [
        "#@title print the list from 'p' to 'k'\n",
        "print(l[l.index('k'): l.index('p') + 1][::-1])\n",
        "print(l[l.index('p'): l.index('k') - 1:-1])"
      ],
      "execution_count": null,
      "outputs": []
    }
  ]
}
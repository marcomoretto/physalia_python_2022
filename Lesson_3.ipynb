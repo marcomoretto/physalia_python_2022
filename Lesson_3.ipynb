{
  "nbformat": 4,
  "nbformat_minor": 0,
  "metadata": {
    "colab": {
      "name": "Lesson 3",
      "provenance": [],
      "collapsed_sections": [],
      "mount_file_id": "1KMQmFdesqdY1hHo203U3T96yo4uV4TYq",
      "authorship_tag": "ABX9TyMeTe8MybAFXqmwC+gPUXwI",
      "include_colab_link": true
    },
    "kernelspec": {
      "name": "python3",
      "display_name": "Python 3"
    }
  },
  "cells": [
    {
      "cell_type": "markdown",
      "metadata": {
        "id": "view-in-github",
        "colab_type": "text"
      },
      "source": [
        "<a href=\"https://colab.research.google.com/github/marcomoretto/physalia_python_2022/blob/main/Lesson_3.ipynb\" target=\"_parent\"><img src=\"https://colab.research.google.com/assets/colab-badge.svg\" alt=\"Open In Colab\"/></a>"
      ]
    },
    {
      "cell_type": "markdown",
      "metadata": {
        "id": "y-yHqWfp19j1"
      },
      "source": [
        "# Reading a text file"
      ]
    },
    {
      "cell_type": "code",
      "metadata": {
        "id": "Dnl0ukDR2Fit"
      },
      "source": [
        "fn = '/content/drive/MyDrive/Projects/Physalia-courses/Python/Notebook - Colab/simple_text_file.txt'\n",
        "fo = open(fn, 'r')\n",
        "for l in fo:\n",
        "  print(l, type(l))\n",
        "fo.close()"
      ],
      "execution_count": null,
      "outputs": []
    },
    {
      "cell_type": "code",
      "metadata": {
        "id": "yUlPaH8e3MxV"
      },
      "source": [
        "fn = '/content/drive/MyDrive/Projects/Physalia-courses/Python/Notebook - Colab/simple_text_file.txt'\n",
        "with open(fn) as fo:\n",
        "  for l in fo:\n",
        "    print(l) "
      ],
      "execution_count": null,
      "outputs": []
    },
    {
      "cell_type": "code",
      "metadata": {
        "id": "s6jgrQpS3fX1"
      },
      "source": [
        "text = []\n",
        "fn = '/content/drive/MyDrive/Projects/Physalia-courses/Python/Notebook - Colab/another_simple_text_file.txt'\n",
        "with open(fn) as fo:\n",
        "  for l in fo:\n",
        "    text.append(l.strip())\n",
        "\n",
        "print(text)"
      ],
      "execution_count": null,
      "outputs": []
    },
    {
      "cell_type": "markdown",
      "metadata": {
        "id": "ERXVopLJ4uqu"
      },
      "source": [
        "# Writing a text file"
      ]
    },
    {
      "cell_type": "code",
      "metadata": {
        "id": "Yo0devDm4t_a"
      },
      "source": [
        "sentence = 'Hello World!'\n",
        "with open('/content/drive/MyDrive/Projects/Physalia-courses/Python/Notebook - Colab/my_simple_text_file.txt', 'w') as fo:\n",
        "  fo.write(sentence)"
      ],
      "execution_count": null,
      "outputs": []
    },
    {
      "cell_type": "markdown",
      "metadata": {
        "id": "bFIBSXa99cwe"
      },
      "source": [
        "# Files and directories"
      ]
    },
    {
      "cell_type": "code",
      "metadata": {
        "id": "rapkXcP97Fj2"
      },
      "source": [
        "from os import listdir\n",
        "\n",
        "dir = '/content/drive/MyDrive/Projects/Physalia-courses/Python/Notebook - Colab/'\n",
        "listdir(dir) # gives all files and directory in a directory path"
      ],
      "execution_count": null,
      "outputs": []
    },
    {
      "cell_type": "code",
      "metadata": {
        "id": "0Oj3wlf77YI9"
      },
      "source": [
        "# how can we tell if a path is a file or a directory?\n",
        "\n",
        "import os\n",
        "\n",
        "dir = '/content/drive/MyDrive/Projects/Physalia-courses/Python/Notebook - Colab/'\n",
        "for file_or_dir in os.listdir(dir):\n",
        "  full_file_or_dir = os.path.join(dir, file_or_dir)\n",
        "  if os.path.isfile(full_file_or_dir):\n",
        "    print(file_or_dir, ' - FILE')\n",
        "  elif os.path.isdir(full_file_or_dir):\n",
        "    print(file_or_dir, ' - DIRECTORY')\n",
        "  else:\n",
        "    print(file_or_dir, ' - UNNOWN')"
      ],
      "execution_count": null,
      "outputs": []
    },
    {
      "cell_type": "code",
      "metadata": {
        "id": "vlAmfCnS59wx"
      },
      "source": [
        "# list all possible paths from a starting point\n",
        "from os import walk\n",
        "\n",
        "path = '/content/drive/MyDrive/Projects/Physalia-courses/Python/'\n",
        "for (dirpath, dirnames, filenames) in walk(path):\n",
        "    print(dirpath)\n",
        "    print(dirnames)\n",
        "    print(filenames)\n",
        "    print()"
      ],
      "execution_count": null,
      "outputs": []
    },
    {
      "cell_type": "code",
      "metadata": {
        "id": "ZUgSEvzG9GOm"
      },
      "source": [
        "import glob\n",
        "\n",
        "dir = '/content/drive/MyDrive/Projects/Physalia-courses/Python/Notebook - Colab/'\n",
        "glob.glob(dir + '*.txt')"
      ],
      "execution_count": null,
      "outputs": []
    },
    {
      "cell_type": "markdown",
      "metadata": {
        "id": "94JtHf929b8_"
      },
      "source": [
        "# Using REQUEST package to retrieve a remote file (or request some data)"
      ]
    },
    {
      "cell_type": "code",
      "metadata": {
        "id": "2ig_Pw5F4Wd4"
      },
      "source": [
        "import requests\n",
        "\n",
        "r = requests.get('http://api.plos.org/search?q=title:DNA')\n",
        "print(r.text)"
      ],
      "execution_count": null,
      "outputs": []
    },
    {
      "cell_type": "code",
      "metadata": {
        "id": "yD2X8xsv98yh"
      },
      "source": [
        "import json\n",
        "\n",
        "j = json.loads(r.text) # r.json()"
      ],
      "execution_count": null,
      "outputs": []
    },
    {
      "cell_type": "code",
      "metadata": {
        "id": "b2lpMINe-IgU"
      },
      "source": [
        "type(r.text), type(j)"
      ],
      "execution_count": null,
      "outputs": []
    },
    {
      "cell_type": "code",
      "metadata": {
        "id": "WzV1Pgrq99bz"
      },
      "source": [
        "print('\\n'.join([a['title_display'] for a in j['response']['docs']]))"
      ],
      "execution_count": null,
      "outputs": []
    },
    {
      "cell_type": "markdown",
      "metadata": {
        "id": "Ny3A2J9Hc12h"
      },
      "source": [
        "# Functions (as a way to extend the language)"
      ]
    },
    {
      "cell_type": "code",
      "metadata": {
        "id": "eCbK6raaNQR6"
      },
      "source": [
        "def my_fun(a):\n",
        "    return a**2"
      ],
      "execution_count": null,
      "outputs": []
    },
    {
      "cell_type": "code",
      "metadata": {
        "id": "AuEoeXYBjCa3"
      },
      "source": [
        "my_fun(2)"
      ],
      "execution_count": null,
      "outputs": []
    },
    {
      "cell_type": "code",
      "metadata": {
        "id": "D16ArfAveghL"
      },
      "source": [
        "def i_dont_return_anything(a):\n",
        "  a.append('a')"
      ],
      "execution_count": null,
      "outputs": []
    },
    {
      "cell_type": "code",
      "metadata": {
        "id": "qwCI-p6LjFQY"
      },
      "source": [
        "l = []\n",
        "print(l)\n",
        "i_dont_return_anything(l)\n",
        "print(l)"
      ],
      "execution_count": null,
      "outputs": []
    },
    {
      "cell_type": "code",
      "metadata": {
        "id": "zxivFFTzk7ue"
      },
      "source": [
        "def my_second_fun(a):\n",
        "  a += ' world!' # equivalent to a = a + ' world!'\n",
        "  print(a, id(a))"
      ],
      "execution_count": null,
      "outputs": []
    },
    {
      "cell_type": "code",
      "metadata": {
        "id": "3nO4IRfqky7q"
      },
      "source": [
        "x = 'hello'\n",
        "print(x, id(x))\n",
        "my_second_fun(x)\n",
        "print(x, id(x))"
      ],
      "execution_count": null,
      "outputs": []
    },
    {
      "cell_type": "code",
      "metadata": {
        "id": "eZ_BSWYJesrp"
      },
      "source": [
        "# lambda function - anonymous function\n",
        "f = lambda x : x**2\n",
        "\n",
        "f(2)"
      ],
      "execution_count": null,
      "outputs": []
    },
    {
      "cell_type": "code",
      "metadata": {
        "id": "K0Bp94O6fDGt"
      },
      "source": [
        "type(f), type(my_fun)"
      ],
      "execution_count": null,
      "outputs": []
    },
    {
      "cell_type": "code",
      "metadata": {
        "id": "-iIaS1W0fGIF"
      },
      "source": [
        "[x**2 for x in range(10)]"
      ],
      "execution_count": null,
      "outputs": []
    },
    {
      "cell_type": "code",
      "metadata": {
        "id": "wKAJZOwHfTNQ"
      },
      "source": [
        "list(map(f, range(10)))"
      ],
      "execution_count": null,
      "outputs": []
    },
    {
      "cell_type": "code",
      "metadata": {
        "id": "o08rgU4Rfl_m"
      },
      "source": [
        "import random\n",
        "\n",
        "a = [(random.randint(0,10), random.randint(0,10)) for i in range(10)]\n",
        "print(a)"
      ],
      "execution_count": null,
      "outputs": []
    },
    {
      "cell_type": "code",
      "metadata": {
        "id": "fZuXmFpJfzxY"
      },
      "source": [
        "sorted(a)"
      ],
      "execution_count": null,
      "outputs": []
    },
    {
      "cell_type": "code",
      "metadata": {
        "id": "1cBrcoMpf2C3"
      },
      "source": [
        "sorted(a, key=lambda x:x[1])"
      ],
      "execution_count": null,
      "outputs": []
    },
    {
      "cell_type": "markdown",
      "metadata": {
        "id": "dATvt6lKyMWf"
      },
      "source": [
        "# Function with varying arguments"
      ]
    },
    {
      "cell_type": "code",
      "metadata": {
        "id": "47jgo2pDNkIl"
      },
      "source": [
        "def my_fun(a, b, c):\n",
        "  '''\n",
        "  My description\n",
        "  '''\n",
        "  return a + b +c"
      ],
      "execution_count": null,
      "outputs": []
    },
    {
      "cell_type": "code",
      "metadata": {
        "id": "l9_LYg02NuS1"
      },
      "source": [
        "my_fun"
      ],
      "execution_count": null,
      "outputs": []
    },
    {
      "cell_type": "code",
      "metadata": {
        "id": "0Ex9BJJMf7ID"
      },
      "source": [
        "def my_sum(a, b):\n",
        "    return a + b"
      ],
      "execution_count": null,
      "outputs": []
    },
    {
      "cell_type": "code",
      "metadata": {
        "id": "ff3QloamyRoD"
      },
      "source": [
        "my_sum(2,3)"
      ],
      "execution_count": null,
      "outputs": []
    },
    {
      "cell_type": "code",
      "metadata": {
        "id": "ge7b-uosySbb"
      },
      "source": [
        "# default values for an argument\n",
        "def my_sum(a, b=0):\n",
        "    return a + b"
      ],
      "execution_count": null,
      "outputs": []
    },
    {
      "cell_type": "code",
      "metadata": {
        "id": "_7Kzkv0RydM9"
      },
      "source": [
        "my_sum(2)"
      ],
      "execution_count": null,
      "outputs": []
    },
    {
      "cell_type": "code",
      "metadata": {
        "id": "71QK8EeaydfU"
      },
      "source": [
        "my_sum(2, 3)"
      ],
      "execution_count": null,
      "outputs": []
    },
    {
      "cell_type": "code",
      "metadata": {
        "id": "sAL2wegTyf4I"
      },
      "source": [
        "# unknown number of values\n",
        "def my_sum(*args):\n",
        "    # args works as a tuple\n",
        "    s = 0\n",
        "    for i in args:\n",
        "        s += i\n",
        "    return s"
      ],
      "execution_count": null,
      "outputs": []
    },
    {
      "cell_type": "code",
      "metadata": {
        "id": "rXKv1OomypKU"
      },
      "source": [
        "my_sum(1,2,3)"
      ],
      "execution_count": null,
      "outputs": []
    },
    {
      "cell_type": "code",
      "metadata": {
        "id": "7xk4vQ-uyvmj"
      },
      "source": [
        "my_sum(1,2,3,4,5)"
      ],
      "execution_count": null,
      "outputs": []
    },
    {
      "cell_type": "markdown",
      "metadata": {
        "id": "r6b7fqV90QfT"
      },
      "source": [
        "### A small detour: * the unpack operator"
      ]
    },
    {
      "cell_type": "code",
      "metadata": {
        "id": "qEIsc_7i1rYR"
      },
      "source": [
        "l = list(range(10))\n",
        "print(l, type(l))"
      ],
      "execution_count": null,
      "outputs": []
    },
    {
      "cell_type": "code",
      "metadata": {
        "id": "-P6wq8hk4S8D"
      },
      "source": [
        "print(*l)"
      ],
      "execution_count": null,
      "outputs": []
    },
    {
      "cell_type": "code",
      "metadata": {
        "id": "ztD3N0EdHMtJ"
      },
      "source": [
        "print(1,2,3,4,5,6,7,8,9)"
      ],
      "execution_count": null,
      "outputs": []
    },
    {
      "cell_type": "code",
      "metadata": {
        "id": "_cqyLgQZHZE6"
      },
      "source": [
        "print(l)"
      ],
      "execution_count": null,
      "outputs": []
    },
    {
      "cell_type": "code",
      "metadata": {
        "id": "EbfBIN9x4Vyw"
      },
      "source": [
        "a = [1,2,3,4,5]\n",
        "b = [6,7,8,9,0]\n",
        "\n",
        "print(a + b)"
      ],
      "execution_count": null,
      "outputs": []
    },
    {
      "cell_type": "code",
      "metadata": {
        "id": "eL4-ksvlHtMD"
      },
      "source": [
        "list(zip(a,b))"
      ],
      "execution_count": null,
      "outputs": []
    },
    {
      "cell_type": "code",
      "metadata": {
        "id": "n_rPIPK_4f_J"
      },
      "source": [
        "[x + y for x,y in zip(a,b)]"
      ],
      "execution_count": null,
      "outputs": []
    },
    {
      "cell_type": "code",
      "metadata": {
        "id": "sNC4cF1a3n66"
      },
      "source": [
        "matrix = [[2, 0, 1, 3], [3, 2, 1, 0], [8, 6, 1, 4], [1, 0, 6, 3]]"
      ],
      "execution_count": null,
      "outputs": []
    },
    {
      "cell_type": "code",
      "metadata": {
        "id": "vIIlznvXIKyr"
      },
      "source": [
        "print(matrix)"
      ],
      "execution_count": null,
      "outputs": []
    },
    {
      "cell_type": "code",
      "metadata": {
        "id": "t2W-w3gv3kOB"
      },
      "source": [
        "list(zip(*matrix)) # why does it work?"
      ],
      "execution_count": null,
      "outputs": []
    },
    {
      "cell_type": "code",
      "metadata": {
        "id": "lnEtW5J0-7HY"
      },
      "source": [
        "def my_array_sum(**kwargs):\n",
        "    print(kwargs)"
      ],
      "execution_count": null,
      "outputs": []
    },
    {
      "cell_type": "code",
      "metadata": {
        "id": "TawVU46-_XwZ"
      },
      "source": [
        "c = [2,2,2,2,2]\n",
        "d = [5,5,5,5,5]\n",
        "\n",
        "my_array_sum(first=a, second=b, third=c, fourth=d)"
      ],
      "execution_count": null,
      "outputs": []
    },
    {
      "cell_type": "code",
      "metadata": {
        "id": "7Ewajd8R_g1X"
      },
      "source": [
        "def my_fun(mandatory_arg, default_arg=None, *args, **kwargs):\n",
        "    print(mandatory_arg)\n",
        "    print(default_arg)\n",
        "    print(args)\n",
        "    print(kwargs)"
      ],
      "execution_count": null,
      "outputs": []
    },
    {
      "cell_type": "code",
      "metadata": {
        "id": "zIjOxz55_t23"
      },
      "source": [
        "my_fun('a', 1, 2, 3, 4, arg1='c', arg2='d')"
      ],
      "execution_count": null,
      "outputs": []
    },
    {
      "cell_type": "markdown",
      "metadata": {
        "id": "TfE-8lJQAvGR"
      },
      "source": [
        "### Another detour: generator (and iterable and iterators)"
      ]
    },
    {
      "cell_type": "code",
      "metadata": {
        "id": "02JuyCWgBoLt"
      },
      "source": [
        "def my_gen():\n",
        "    n = 1\n",
        "    print('This is printed first')\n",
        "    # Generator function contains yield statements\n",
        "    yield n\n",
        "\n",
        "    n += 1\n",
        "    print('This is printed second')\n",
        "    yield n\n",
        "\n",
        "    n += 1\n",
        "    print('This is printed at last')\n",
        "    yield n"
      ],
      "execution_count": null,
      "outputs": []
    },
    {
      "cell_type": "code",
      "metadata": {
        "id": "lH7ZKrxiCTuX"
      },
      "source": [
        "for i in my_gen():\n",
        "  print(i)"
      ],
      "execution_count": null,
      "outputs": []
    },
    {
      "cell_type": "code",
      "metadata": {
        "id": "qfDbt7GMCx6e"
      },
      "source": [
        "# memory efficient\n",
        "# infinite sequences\n",
        "def fibonacci(num):\n",
        "  a, b = 0, 1\n",
        "  for x in range(num):\n",
        "    a, b = b, b + a\n",
        "    yield b"
      ],
      "execution_count": null,
      "outputs": []
    },
    {
      "cell_type": "code",
      "metadata": {
        "id": "p9ZF2p7IDiRg"
      },
      "source": [
        "for i in fibonacci(10):\n",
        "  print(i)"
      ],
      "execution_count": null,
      "outputs": []
    },
    {
      "cell_type": "markdown",
      "metadata": {
        "id": "BV7Cc_MBBRro"
      },
      "source": [
        "![test.html](https://res.cloudinary.com/dyd911kmh/image/upload/f_auto,q_auto:best/v1540502316/Screen_Shot_2018-10-25_at_4.52.02_PM_ygflgk.png)"
      ]
    },
    {
      "cell_type": "markdown",
      "metadata": {
        "id": "GNnvkPm7M0hh"
      },
      "source": [
        "# Exercises\n",
        "\n",
        "Starting from the following file name"
      ]
    },
    {
      "cell_type": "code",
      "metadata": {
        "id": "cTEqAi5dM1s4"
      },
      "source": [
        "recipes = '/content/drive/MyDrive/Projects/Physalia-courses/Python/2022/Dataset/data_records_27638.txt'"
      ],
      "execution_count": null,
      "outputs": []
    },
    {
      "cell_type": "code",
      "metadata": {
        "cellView": "form",
        "id": "ybMyHr3Wty34"
      },
      "source": [
        "#@title Write a function and call it `read_file` that takes a filename as argument and return a dictionary. Each line is an item, value and key are tab separated.\n",
        "\n",
        "def read_file(filename):\n",
        "  d = {}\n",
        "  with open(filename) as f:\n",
        "    for l in f:\n",
        "      s = l.strip().split('\\t')\n",
        "      d[s[1]] = s[0]\n",
        "  return d\n"
      ],
      "execution_count": null,
      "outputs": []
    },
    {
      "cell_type": "code",
      "metadata": {
        "id": "lcJlmnr4uAxQ"
      },
      "source": [
        "# so I can call the function and get this result\n",
        "recipes_dict = read_file(recipes)"
      ],
      "execution_count": null,
      "outputs": []
    }
  ]
}
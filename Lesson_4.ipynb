{
  "nbformat": 4,
  "nbformat_minor": 0,
  "metadata": {
    "colab": {
      "name": "Lesson 4",
      "provenance": [],
      "mount_file_id": "1bV4LOqpVkzdQUJoi4ONou8NyzRTsUGT4",
      "authorship_tag": "ABX9TyMWO3gE2DX0xFyYeCE+FWJV",
      "include_colab_link": true
    },
    "kernelspec": {
      "name": "python3",
      "display_name": "Python 3"
    },
    "language_info": {
      "name": "python"
    }
  },
  "cells": [
    {
      "cell_type": "markdown",
      "metadata": {
        "id": "view-in-github",
        "colab_type": "text"
      },
      "source": [
        "<a href=\"https://colab.research.google.com/github/marcomoretto/physalia_python_2022/blob/main/Lesson_4.ipynb\" target=\"_parent\"><img src=\"https://colab.research.google.com/assets/colab-badge.svg\" alt=\"Open In Colab\"/></a>"
      ]
    },
    {
      "cell_type": "markdown",
      "metadata": {
        "id": "yQCgoLu40eUr"
      },
      "source": [
        "# Exercises\n",
        "\n",
        "This exercise is about writing a complete program that will perform several operations. We will try to use all the things we learned so far to write and structure it. The first priority is to have something that works as expected. Then we will focus on how to refactor the code, that is how to improve the readability and reusability of the code by incapsulating code within functions, giving meaninful names, use a consistent nomeclature and be pythonic."
      ]
    },
    {
      "cell_type": "code",
      "metadata": {
        "id": "8pqO-lqa0dnb"
      },
      "source": [
        "# read a file that contains a list of file names to read and create an index for file contents\n",
        "# use the index for fast search of words within files\n",
        "# use the index to draw some statistics about files\n",
        "# using the frequency of the words create a new text\n",
        "\n",
        "# first file is a config file with fixed structure\n",
        "# ID = 1\n",
        "# SONG = 'Song name'\n",
        "# FILENAME = 'file.txt'\n",
        "#\n",
        "# the other files are in the same directory"
      ],
      "execution_count": null,
      "outputs": []
    },
    {
      "cell_type": "code",
      "source": [
        "dir = '/content/drive/MyDrive/Projects/Physalia-courses/Python/2022/Dataset/beatles'\n",
        "song_list_file = dir + '/' + 'song_list.txt'"
      ],
      "metadata": {
        "id": "MDiLQqL4eLwH"
      },
      "execution_count": null,
      "outputs": []
    },
    {
      "cell_type": "code",
      "source": [
        "def get_song_list(filename):\n",
        "  song_list = {}\n",
        "  current_id = ''\n",
        "  with open(filename) as f:\n",
        "    for l in f:\n",
        "      if l.startswith('='):\n",
        "        continue\n",
        "      s = l.strip().split('=')\n",
        "      if s[0] == 'ID':\n",
        "        current_id = s[1]\n",
        "        song_list[current_id] = ['', '']\n",
        "      elif s[0] == 'SONG':\n",
        "        song_list[current_id][0] = s[1]\n",
        "      elif s[0] == 'FILE':\n",
        "        song_list[current_id][1] = s[1]\n",
        "  return song_list"
      ],
      "metadata": {
        "id": "UHRQmBaWec3_"
      },
      "execution_count": null,
      "outputs": []
    },
    {
      "cell_type": "code",
      "source": [
        "def word_count(song_filename):\n",
        "  ln = 1\n",
        "  words = {}\n",
        "  with open(song_filename) as f:\n",
        "    for i in range(8):\n",
        "      next(f)\n",
        "    for l in f:\n",
        "      if l.strip().startswith('Correct lyrics'):\n",
        "        break\n",
        "      s = l.strip().replace(',', '').replace('\"', '').replace('(fade out)', '').split(' ')\n",
        "      for _x in s:\n",
        "        if _x not in words:\n",
        "          x = _x.lower()\n",
        "          words[x] = 0\n",
        "        words[x] += 1\n",
        "  return words"
      ],
      "metadata": {
        "id": "6NCka6DigTiP"
      },
      "execution_count": null,
      "outputs": []
    },
    {
      "cell_type": "code",
      "source": [
        "import os\n",
        "\n",
        "song_list = get_song_list(song_list_file)\n",
        "words = {}\n",
        "for _id, song in song_list.items():\n",
        "  w = word_count(os.path.join(dir, song[1]))\n",
        "  for k, v in w.items():\n",
        "    if k not in words:\n",
        "      words[k] = 0\n",
        "    words[k] += v"
      ],
      "metadata": {
        "id": "Zmo-6lsphVki"
      },
      "execution_count": null,
      "outputs": []
    },
    {
      "cell_type": "code",
      "source": [
        "sorted(words.items(), key=lambda x:x[1], reverse=True)[:10]"
      ],
      "metadata": {
        "colab": {
          "base_uri": "https://localhost:8080/"
        },
        "id": "dB7Pto8py4GM",
        "outputId": "187cd25f-f513-4349-cc48-c457b8487121"
      },
      "execution_count": null,
      "outputs": [
        {
          "output_type": "execute_result",
          "data": {
            "text/plain": [
              "[('i', 815),\n",
              " ('you', 519),\n",
              " ('and', 509),\n",
              " (\"i'm\", 370),\n",
              " ('the', 335),\n",
              " ('to', 326),\n",
              " ('oh', 313),\n",
              " ('but', 301),\n",
              " ('', 290),\n",
              " ('in', 290)]"
            ]
          },
          "metadata": {},
          "execution_count": 31
        }
      ]
    },
    {
      "cell_type": "code",
      "source": [
        "import random"
      ],
      "metadata": {
        "id": "Bh5Ax9oN4WX6"
      },
      "execution_count": null,
      "outputs": []
    },
    {
      "cell_type": "code",
      "source": [
        "random.random()"
      ],
      "metadata": {
        "colab": {
          "base_uri": "https://localhost:8080/"
        },
        "id": "HKoKVInD-hlp",
        "outputId": "047a7dc2-1b5e-44f7-f09c-284b42b735d0"
      },
      "execution_count": null,
      "outputs": [
        {
          "output_type": "execute_result",
          "data": {
            "text/plain": [
              "0.6331175343967129"
            ]
          },
          "metadata": {},
          "execution_count": 38
        }
      ]
    },
    {
      "cell_type": "code",
      "source": [
        "total = sum([v for k, v in words.items()])\n",
        "words['love'] / total"
      ],
      "metadata": {
        "colab": {
          "base_uri": "https://localhost:8080/"
        },
        "id": "5YHML8FP-kuD",
        "outputId": "15b056be-9e60-407f-9fe7-58cd27dec748"
      },
      "execution_count": null,
      "outputs": [
        {
          "output_type": "execute_result",
          "data": {
            "text/plain": [
              "0.0066738073659059075"
            ]
          },
          "metadata": {},
          "execution_count": 35
        }
      ]
    },
    {
      "cell_type": "code",
      "source": [
        "sum([v / total for k, v in words.items()])"
      ],
      "metadata": {
        "colab": {
          "base_uri": "https://localhost:8080/"
        },
        "id": "CTLsSyyj-5DJ",
        "outputId": "9e6c673b-717e-4563-a1a6-ea2c87bcf3b6"
      },
      "execution_count": null,
      "outputs": [
        {
          "output_type": "execute_result",
          "data": {
            "text/plain": [
              "1.0000000000000662"
            ]
          },
          "metadata": {},
          "execution_count": 36
        }
      ]
    },
    {
      "cell_type": "code",
      "source": [
        "random.choices(list(words.keys()), list(words.values()), k = 100)"
      ],
      "metadata": {
        "id": "PTvHK541_RqP"
      },
      "execution_count": null,
      "outputs": []
    },
    {
      "cell_type": "code",
      "source": [
        ""
      ],
      "metadata": {
        "id": "SLqL6FUlrtgz"
      },
      "execution_count": null,
      "outputs": []
    }
  ]
}
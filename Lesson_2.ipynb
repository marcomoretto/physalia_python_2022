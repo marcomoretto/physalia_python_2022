{
  "nbformat": 4,
  "nbformat_minor": 0,
  "metadata": {
    "colab": {
      "name": "Lesson 2",
      "provenance": [],
      "collapsed_sections": [],
      "toc_visible": true,
      "authorship_tag": "ABX9TyN41QhxbP8JPS5ZhVQKOJ46",
      "include_colab_link": true
    },
    "kernelspec": {
      "name": "python3",
      "display_name": "Python 3"
    }
  },
  "cells": [
    {
      "cell_type": "markdown",
      "metadata": {
        "id": "view-in-github",
        "colab_type": "text"
      },
      "source": [
        "<a href=\"https://colab.research.google.com/github/marcomoretto/physalia_python_2022/blob/main/Lesson_2.ipynb\" target=\"_parent\"><img src=\"https://colab.research.google.com/assets/colab-badge.svg\" alt=\"Open In Colab\"/></a>"
      ]
    },
    {
      "cell_type": "markdown",
      "metadata": {
        "id": "mWIkxjhBIEDf"
      },
      "source": [
        "# Some string methods.\n",
        "\n",
        "## We already talked a lot about strings, let's see some specific useful functions/methods (even though we still have to define what a function is)"
      ]
    },
    {
      "cell_type": "code",
      "metadata": {
        "id": "K9mlJnhhEWyc"
      },
      "source": [
        "# the join method is a string method that takes a list as an argument. This is how it works\n",
        "separator = '::'\n",
        "words = ['apple', 'pear', 'orange']\n",
        "print(separator.join(words))"
      ],
      "execution_count": null,
      "outputs": []
    },
    {
      "cell_type": "code",
      "metadata": {
        "id": "YT0QSRjoVIAY"
      },
      "source": [
        "# the split method works on the other way, takes one string and return a list\n",
        "s = \"apple||pear||orange\"\n",
        "l = s.split('||')\n",
        "print(l)"
      ],
      "execution_count": null,
      "outputs": []
    },
    {
      "cell_type": "code",
      "metadata": {
        "id": "vEaSOtwlV4aV"
      },
      "source": [
        "# find gives the index of the first occurence of the argument\n",
        "s = \"apple||pear||orange\"\n",
        "f = s.find('p')\n",
        "print(f)"
      ],
      "execution_count": null,
      "outputs": []
    },
    {
      "cell_type": "code",
      "metadata": {
        "id": "x8p38q80WWEA"
      },
      "source": [
        "# count gives the total number of occurences\n",
        "s = \"apple||pear||orange\"\n",
        "c = s.count('p')\n",
        "print(c)"
      ],
      "execution_count": null,
      "outputs": []
    },
    {
      "cell_type": "code",
      "metadata": {
        "id": "O0HlSiOCWEjo"
      },
      "source": [
        "# replace returns a new string with an old term substituted with a new term\n",
        "old = 'pear'\n",
        "new = 'banana'\n",
        "s = \"apple||pear||orange\"\n",
        "r = s.replace(old, new)\n",
        "print(r)"
      ],
      "execution_count": null,
      "outputs": []
    },
    {
      "cell_type": "markdown",
      "metadata": {
        "id": "JbDL4j8CTYfN"
      },
      "source": [
        "# Regular Expression\n",
        "\n",
        "RegEx are a *language* (a sequence of symbols and characters) used to express a **pattern** to be searched for within a string.\n",
        "\n",
        "```\n",
        "PN12W_bio1_tech1\n",
        "PN12W_bio1_tech2\n",
        "PN24NW_bio2_tech1\n",
        "PN24NWW_bio2_tech2\n",
        "PN48W_bio3_tech1\n",
        "```\n",
        "\n",
        "RegEx is a very versitile and powerful tool that can be used anytime the normal `string` functions/methods are not enough. RegEx is a language indipendent from Python and exists in pretty much any programming language.\n",
        "\n",
        "Online tool [RegEx101](https://regex101.com/)\n",
        "\n",
        "To use RegEx in Python you will need to import the package `re`."
      ]
    },
    {
      "cell_type": "code",
      "metadata": {
        "id": "rrbKvloNVQPa"
      },
      "source": [
        "import re\n",
        "\n",
        "my_strings = 'PN12W_bio1_tech1 PN12W_bio1_tech2 PN24NW_bio2_tech1 PN24NW_bio2_tech2 PN48W_bio3_tech1'\n",
        "\n",
        "# match that _bio<number>_ pattern\n",
        "pattern = '_bio\\d+_'\n",
        "re.findall(pattern, my_strings)"
      ],
      "execution_count": null,
      "outputs": []
    },
    {
      "cell_type": "code",
      "metadata": {
        "id": "YR51leMaYJRW"
      },
      "source": [
        "# match only the <number> in the _bio<number>_ pattern\n",
        "pattern = '_bio(\\d+)_'\n",
        "re.findall(pattern, my_strings)"
      ],
      "execution_count": null,
      "outputs": []
    },
    {
      "cell_type": "code",
      "metadata": {
        "id": "iOrEDitqYcM_"
      },
      "source": [
        "# match PN<number>NW pattern, but N isn't always present\n",
        "pattern = 'PN\\d+N?W'\n",
        "re.findall(pattern, my_strings)"
      ],
      "execution_count": null,
      "outputs": []
    },
    {
      "cell_type": "code",
      "metadata": {
        "id": "aP9FusBgZsvH"
      },
      "source": [
        "# we can use RegEx to substitue pattern instead of using string.replace()\n",
        "\n",
        "print(re.sub('_bio\\d+_', '_', my_strings))"
      ],
      "execution_count": null,
      "outputs": []
    },
    {
      "cell_type": "markdown",
      "metadata": {
        "id": "TmDHcz826qa4"
      },
      "source": [
        "# Control Structures\n",
        "\n",
        "With variable assignment and Control Structure you have essentially everything you need to build a real program (implement algorithms).\n",
        "\n",
        "Let's start with the `IF` statement\n",
        "\n",
        "The syntax is the following\n",
        "\n",
        "```\n",
        "if <condition>:\n",
        "  <True block of code>\n",
        "else:\n",
        "  <False block of code>\n",
        "```\n",
        "\n",
        "The `condition` is **always** considered a `boolean` value. If it is `True`, the **True block** gets executed otherwise (`False`) the **False block** gets executed."
      ]
    },
    {
      "cell_type": "code",
      "metadata": {
        "id": "uLQjT3Pu7jqA"
      },
      "source": [
        "a = 5\n",
        "b = 1\n",
        "\n",
        "if a > b:\n",
        "  print('a is bigger than b')\n",
        "else:\n",
        "  print('b is bigger than a')"
      ],
      "execution_count": null,
      "outputs": []
    },
    {
      "cell_type": "markdown",
      "metadata": {
        "id": "b5_cBzil7zXS"
      },
      "source": [
        "`a > b` returns a `boolean` value, but we are not forced to have an expression that return a `boolean` value because **anything** in the *guard* (*condition*) will be **casted** (evaluated) as `boolean`."
      ]
    },
    {
      "cell_type": "code",
      "metadata": {
        "id": "TxvBORjT7tOl"
      },
      "source": [
        "a = 'hello world'\n",
        "if a:\n",
        "  print(a)"
      ],
      "execution_count": null,
      "outputs": []
    },
    {
      "cell_type": "code",
      "metadata": {
        "id": "GLMNXuzB8M9Z"
      },
      "source": [
        "a = []\n",
        "if a: # can you think of another way to do that?\n",
        "  print('a is not empty')\n",
        "else:\n",
        "  print('a is empty')\n",
        "\n",
        "a.append('1')\n",
        "if a:\n",
        "  print('a is not empty', a)\n",
        "else:\n",
        "  print('a is empty')\n"
      ],
      "execution_count": null,
      "outputs": []
    },
    {
      "cell_type": "markdown",
      "metadata": {
        "id": "odI9lSXN8iyx"
      },
      "source": [
        "# A small but important detour: code blocks and indentation in Python\n",
        "\n",
        "Most of the programming languages like **C**, **C++**, and **Java** use braces `{ }` to define a block of code. Python, however, uses **indentation**. The enforcement of **indentation** in Python makes the code look neat and clean. This results in Python programs that look similar and consistent.\n",
        "\n",
        "Now let's go back to control structures. \n",
        "\n",
        "We can also write more than one conditions mimicking what is know as **switch** statement in other programming languages."
      ]
    },
    {
      "cell_type": "code",
      "metadata": {
        "id": "ouJ0MMuY8aFA"
      },
      "source": [
        "season = 'winter'\n",
        "\n",
        "if season == 'spring':\n",
        "  print('blooming flowers')\n",
        "elif season == 'summer':\n",
        "  print('hot and sunny')\n",
        "elif season == 'autumn':\n",
        "  print('falling leaves')\n",
        "elif season == 'winter':\n",
        "  print('cold and snow')\n"
      ],
      "execution_count": null,
      "outputs": []
    },
    {
      "cell_type": "code",
      "metadata": {
        "id": "0QHZ1yxC_Cdd"
      },
      "source": [
        "if season == 'spring':\n",
        "  print('blooming flowers')\n",
        "elif season == 'summer':\n",
        "  print('hot and sunny')\n",
        "else:\n",
        "  print('cold')"
      ],
      "execution_count": null,
      "outputs": []
    },
    {
      "cell_type": "code",
      "metadata": {
        "id": "dvIPaS1a-zkR"
      },
      "source": [
        "if season == 'spring' or season == 'summer':\n",
        "  print('hot')\n",
        "else:\n",
        "  print('cold')"
      ],
      "execution_count": null,
      "outputs": []
    },
    {
      "cell_type": "markdown",
      "metadata": {
        "id": "T3oq_h5h_PZZ"
      },
      "source": [
        "# The FOR statement is by far, together with the IF statement, the control structures you are going to use the most. Let's see the syntax:\n",
        "\n",
        "```\n",
        "for <cycle variable> in <iterator or generator>:\n",
        "  <block of code>\n",
        "```"
      ]
    },
    {
      "cell_type": "code",
      "metadata": {
        "id": "S6CCkXNr_5y8"
      },
      "source": [
        "lst_a = ['a', 1, 2, 3.14, True, 'hello']\n",
        "\n",
        "for e in lst_a: \n",
        "  print(e)    # <- within the code the variable e represent the current element of the iterator, and it will change value at every iteration"
      ],
      "execution_count": null,
      "outputs": []
    },
    {
      "cell_type": "code",
      "metadata": {
        "id": "zCEge0u8AF_A"
      },
      "source": [
        "# let's introduce the range function that takes an integer x and return a generator of length x with the first x number\n",
        "print(range(10))"
      ],
      "execution_count": null,
      "outputs": []
    },
    {
      "cell_type": "code",
      "metadata": {
        "id": "qmqzEPh9A0si"
      },
      "source": [
        "list(range(10))"
      ],
      "execution_count": null,
      "outputs": []
    },
    {
      "cell_type": "code",
      "metadata": {
        "id": "vqOPihpVBCoe"
      },
      "source": [
        "for i in range(10):\n",
        "  if i % 2:\n",
        "    print(i, ' is odd')\n",
        "  else:\n",
        "    print(i, ' is even')"
      ],
      "execution_count": null,
      "outputs": []
    },
    {
      "cell_type": "markdown",
      "metadata": {
        "id": "4kIBFElayXir"
      },
      "source": [
        "# Exercises\n",
        "\n",
        "Let's understand the control flow with a debugger"
      ]
    },
    {
      "cell_type": "code",
      "metadata": {
        "id": "FY0i3UJdycy6"
      },
      "source": [
        "# given the following list\n",
        "names = ['anne', 'chris', 'daniel', 'denise', 'jacob', 'lisa', 'maria']\n",
        "\n",
        "# print all names that starts with the letter 'd'\n",
        "# --> your code here <--\n",
        "\n",
        "# the string method capitalize() will return a string with the first capital letter, i.e. 'ciao'.capitalize() will get Ciao\n",
        "# create a new list where all names are capitalized\n",
        "# --> your code here <--\n",
        "\n",
        "# how many times is the letter 'i' present in the names list (use a loop statement this time)? Can you think of a way to count all unique letters?\n",
        "# --> your code here <--\n",
        "\n",
        "# create a list of strings that represent even numbers from 100 to 150 included\n",
        "# --> your code here <--"
      ],
      "execution_count": null,
      "outputs": []
    },
    {
      "cell_type": "code",
      "metadata": {
        "id": "N_u2npUmC4A5"
      },
      "source": [
        "# let's introduce the enumerate function that takes an iterator and return a generator of tuple, the first element of the tuple is the index of the element in the iterator while the second is the element itself\n",
        "names = ['marco', 'chris', 'daniel', 'jacob', 'lisa', 'anne', 'denise']\n",
        "\n",
        "print(enumerate(names))"
      ],
      "execution_count": null,
      "outputs": []
    },
    {
      "cell_type": "code",
      "metadata": {
        "id": "oJtoKKL5DOFG"
      },
      "source": [
        "for e in enumerate(names):\n",
        "  print(e)"
      ],
      "execution_count": null,
      "outputs": []
    },
    {
      "cell_type": "code",
      "metadata": {
        "id": "9yOP7uVJDVqv"
      },
      "source": [
        "# instead of using one cycle variable I can use two to identify the first and the second values of each tuple\n",
        "\n",
        "for i, e in enumerate(names):\n",
        "  print(e, 'has index (position)', i)"
      ],
      "execution_count": null,
      "outputs": []
    },
    {
      "cell_type": "code",
      "metadata": {
        "id": "FBkNYVUbBMS8"
      },
      "source": [
        "names = ['marco', 'chris', 'daniel', 'jacob', 'lisa', 'anne', 'denise']\n",
        "numbers = ['333123456', '344561233', '33367409390', '3339386722', '344896725', '3339386345', '3449344766']\n",
        "\n",
        "zip(names, numbers)"
      ],
      "execution_count": null,
      "outputs": []
    },
    {
      "cell_type": "code",
      "metadata": {
        "id": "TajNq4NECjGE"
      },
      "source": [
        "list(zip(names, numbers))"
      ],
      "execution_count": null,
      "outputs": []
    },
    {
      "cell_type": "code",
      "metadata": {
        "id": "D-ya-TJLCmMd"
      },
      "source": [
        "for i,j in zip(names, numbers):\n",
        "  print(i, 'phone number is', j)"
      ],
      "execution_count": null,
      "outputs": []
    },
    {
      "cell_type": "code",
      "metadata": {
        "id": "rKN8hmw5CwS9"
      },
      "source": [
        "# the for statement is versitile and can be used for dictionaries as well using two cycle variable, one for the key and one for the value\n",
        "\n",
        "dict(zip(names, numbers))"
      ],
      "execution_count": null,
      "outputs": []
    },
    {
      "cell_type": "code",
      "metadata": {
        "id": "RABji4EpD3UM"
      },
      "source": [
        "d = dict(zip(names, numbers))\n",
        "for k, v in d.items():\n",
        "  print(k, 'phone number is', v)"
      ],
      "execution_count": null,
      "outputs": []
    },
    {
      "cell_type": "markdown",
      "metadata": {
        "id": "DPw-9VtlsPE4"
      },
      "source": [
        "# The `WHILE` statement, despite being the first and most powerful iteration statement, I think about it as a combination of `FOR` and `IF` and rarely use it (only for infinite loop).\n",
        "\n",
        "```\n",
        "while <condition>:\n",
        "    <block of code>\n",
        "```"
      ]
    },
    {
      "cell_type": "code",
      "metadata": {
        "id": "0iqMVzJZspzB"
      },
      "source": [
        "a = 0\n",
        "while a < 5:\n",
        "  print(a)\n",
        "  a += 1 # without this line, the loop will never end"
      ],
      "execution_count": null,
      "outputs": []
    },
    {
      "cell_type": "code",
      "metadata": {
        "id": "aFd1ktLdtfWr"
      },
      "source": [
        "n = 10\n",
        "a, b = 0, 1\n",
        "while n > 0:\n",
        "  print(b)\n",
        "  n -= 1\n",
        "  a, b = b, a + b"
      ],
      "execution_count": null,
      "outputs": []
    },
    {
      "cell_type": "code",
      "metadata": {
        "id": "jmlvEzMMuZ_q"
      },
      "source": [
        "n = 0\n",
        "a, b = 0, 1\n",
        "while True:\n",
        "  print(n, b)\n",
        "  n += 1\n",
        "  a, b = b, a + b\n",
        "  if n >= 10:\n",
        "    break"
      ],
      "execution_count": null,
      "outputs": []
    },
    {
      "cell_type": "code",
      "metadata": {
        "id": "THGiBiMgusjO"
      },
      "source": [
        "n = 0\n",
        "a, b = 0, 1\n",
        "while True:\n",
        "  print(n, b)\n",
        "  n += 1\n",
        "  a, b = b, a + b\n",
        "  if n >= 10:\n",
        "    break"
      ],
      "execution_count": null,
      "outputs": []
    },
    {
      "cell_type": "code",
      "metadata": {
        "id": "0K-6z0vuwHSz"
      },
      "source": [
        "l = [chr(i) for i in range(97, 123)] # ignore this line of code\n",
        "l"
      ],
      "execution_count": null,
      "outputs": []
    },
    {
      "cell_type": "code",
      "metadata": {
        "id": "aYzYJIspwuby"
      },
      "source": [
        "for i in l:\n",
        "  if i == 'f':\n",
        "    break\n",
        "  print(i)\n"
      ],
      "execution_count": null,
      "outputs": []
    },
    {
      "cell_type": "code",
      "metadata": {
        "id": "ZH-U1UyPw2Yk"
      },
      "source": [
        "for i in l:\n",
        "  if i == 'f':\n",
        "    continue\n",
        "  print(i)"
      ],
      "execution_count": null,
      "outputs": []
    },
    {
      "cell_type": "code",
      "metadata": {
        "id": "vAzSzcmww_dx"
      },
      "source": [
        "# do you remember the zip function? We can loop on 2 variables\n",
        "idx = range(26)\n",
        "\n",
        "for i, j in zip(idx, l):\n",
        "  print(i, j) "
      ],
      "execution_count": null,
      "outputs": []
    },
    {
      "cell_type": "code",
      "metadata": {
        "id": "MtYYD_tXxbNr"
      },
      "source": [
        "# we can obtain the same using enumerate\n",
        "for i, j in enumerate(l):\n",
        "  print(i, j)"
      ],
      "execution_count": null,
      "outputs": []
    },
    {
      "cell_type": "code",
      "metadata": {
        "id": "l5qvvbUqxl_x"
      },
      "source": [
        "list(enumerate(l)) == list(zip(range(len(l)), l))"
      ],
      "execution_count": null,
      "outputs": []
    },
    {
      "cell_type": "markdown",
      "metadata": {
        "id": "5J9RojibKlUb"
      },
      "source": [
        "# Exercises"
      ]
    },
    {
      "cell_type": "code",
      "metadata": {
        "id": "MEUm6-jEyhpd"
      },
      "source": [
        "# write the code for the fibonacci series using the for loop\n",
        "# --> your code here <--\n",
        "\n",
        "# given the following list\n",
        "names = ['anne', 'chris', 'daniel', 'denise', 'jacob', 'lisa', 'maria', 'jack', 'rose', 'adele', 'max', 'sue']\n",
        "\n",
        "# create a list of all the possible couples\n",
        "# --> your code here <--\n",
        "\n",
        "# given the two following lists\n",
        "names = ['anne', 'chris', 'daniel', 'denise', 'jacob', 'lisa', 'maria', 'jack', 'rose', 'adele', 'max', 'sue']\n",
        "letters = ['a', 'b', 'c', 'd', 'e', 'f', 'g', 'h', 'i', 'j', 'k', 'l', 'm', 'n', 'o', 'p', 'q', 'r', 's', 't', 'u', 'v', 'w', 'x', 'y', 'z']\n",
        "\n",
        "# create a dictionary where the keys are letters and values are lists of names starting with that letter\n",
        "# --> your code here <--\n"
      ],
      "execution_count": null,
      "outputs": []
    },
    {
      "cell_type": "markdown",
      "metadata": {
        "id": "TFNzbfIwjsEP"
      },
      "source": [
        "# List and Dictionary Comprehension"
      ]
    },
    {
      "cell_type": "code",
      "metadata": {
        "id": "eaWDzeiqEBr6"
      },
      "source": [
        "# list comprehension is a faster way to create lists in Python\n",
        "\n",
        "a = []\n",
        "for i in range(10):\n",
        "  a.append(i**2)\n",
        "\n",
        "print(a)"
      ],
      "execution_count": null,
      "outputs": []
    },
    {
      "cell_type": "code",
      "metadata": {
        "id": "W4Yfp9kuLN-i"
      },
      "source": [
        "a = [i**2 for i in range(10)]\n",
        "print(a)"
      ],
      "execution_count": null,
      "outputs": []
    },
    {
      "cell_type": "code",
      "metadata": {
        "id": "IMN26ez6LYjM"
      },
      "source": [
        "# chr and ord are two functions that convert respectively a number ascii code into the corresponding character and vice-versa\n",
        "\n",
        "chr(97), chr(98)"
      ],
      "execution_count": null,
      "outputs": []
    },
    {
      "cell_type": "code",
      "metadata": {
        "id": "tY6T5E2WLrn3"
      },
      "source": [
        "ord('a'), ord('b')"
      ],
      "execution_count": null,
      "outputs": []
    },
    {
      "cell_type": "code",
      "metadata": {
        "id": "xloYiYH9Lwcj"
      },
      "source": [
        "letters = []\n",
        "for i in range(97, 97 + 26):\n",
        "  letters.append(chr(i))\n",
        "\n",
        "print(letters)"
      ],
      "execution_count": null,
      "outputs": []
    },
    {
      "cell_type": "code",
      "metadata": {
        "id": "jHbIXgf0MIlc"
      },
      "source": [
        "letters = [chr(i) for i in range(97, 97 + 26)]\n",
        "print(letters)"
      ],
      "execution_count": null,
      "outputs": []
    },
    {
      "cell_type": "code",
      "metadata": {
        "id": "z-ltEhXIMP7G"
      },
      "source": [
        "odd_numbers = [i for i in range(10) if i % 2]\n",
        "print(odd_numbers)"
      ],
      "execution_count": null,
      "outputs": []
    },
    {
      "cell_type": "code",
      "metadata": {
        "id": "iY0v9hSmMfiw"
      },
      "source": [
        "{chr(i): i for i in range(97, 123)} # what is it?"
      ],
      "execution_count": null,
      "outputs": []
    },
    {
      "cell_type": "code",
      "metadata": {
        "id": "-XO1uBpbx1er"
      },
      "source": [
        "# you can use if and else within the list comprehension but with a bit different syntax\n",
        "[x for x in range(10) if x % 2 == 1]"
      ],
      "execution_count": null,
      "outputs": []
    },
    {
      "cell_type": "code",
      "metadata": {
        "id": "FlofTGYRyBlc"
      },
      "source": [
        "[x if x % 2 == 1 else '*' for x in range(10)]"
      ],
      "execution_count": null,
      "outputs": []
    },
    {
      "cell_type": "markdown",
      "metadata": {
        "id": "9_-CHv_nPxyy"
      },
      "source": [
        "# Exercises"
      ]
    },
    {
      "cell_type": "code",
      "metadata": {
        "id": "qwOotJaZwzhJ"
      },
      "source": [
        "# given the two following lists\n",
        "names = ['anne', 'chris', 'daniel', 'denise', 'jacob', 'lisa', 'maria', 'jack', 'rose', 'adele', 'max', 'sue']\n",
        "letters = ['a', 'b', 'c', 'd', 'e', 'f', 'g', 'h', 'i', 'j', 'k', 'l', 'm', 'n', 'o', 'p', 'q', 'r', 's', 't', 'u', 'v', 'w', 'x', 'y', 'z']\n",
        "\n",
        "# create a dictionary where keys are items' names and value is its length\n",
        "# --> your code here <--\n",
        "\n",
        "# consider the following list\n",
        "idx = [2, 1, 11, 7, 0, 3, 4, 8, 5, 10, 9, 6]\n",
        "\n",
        "# reorder names using idx as the index order, that is anne should be moved to third position, index 2 instead of first position, index 0\n",
        "# --> your code here <--\n",
        "\n",
        "# create a dictionary with two keys 'even' and 'odd' an put as values the first 25 even and the first 50 odd numbers respectively\n",
        "# --> your code here <--\n"
      ],
      "execution_count": null,
      "outputs": []
    }
  ]
}
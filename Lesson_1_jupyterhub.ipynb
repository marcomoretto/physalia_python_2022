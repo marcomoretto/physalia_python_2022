{
 "cells": [
  {
   "cell_type": "markdown",
   "id": "963c9727-d0f0-419b-a63a-785dea54fd5e",
   "metadata": {},
   "source": [
    "# Python data types\n",
    "\n",
    "Let's start with `integer` and `string`. We will use the function `print` and the function `type`."
   ]
  },
  {
   "cell_type": "code",
   "execution_count": 1,
   "id": "5593595f-ca9f-4459-a5f2-a7d97ec5263a",
   "metadata": {},
   "outputs": [
    {
     "data": {
      "text/plain": [
       "int"
      ]
     },
     "execution_count": 1,
     "metadata": {},
     "output_type": "execute_result"
    }
   ],
   "source": [
    "type(1)"
   ]
  },
  {
   "cell_type": "code",
   "execution_count": 2,
   "id": "9e55a930-8286-4674-9716-b7dc2706ae3a",
   "metadata": {},
   "outputs": [
    {
     "data": {
      "text/plain": [
       "str"
      ]
     },
     "execution_count": 2,
     "metadata": {},
     "output_type": "execute_result"
    }
   ],
   "source": [
    "type(\"hello\")"
   ]
  },
  {
   "cell_type": "code",
   "execution_count": 5,
   "id": "d4b49900-631c-44a5-9c1b-0368d4ff6aa0",
   "metadata": {},
   "outputs": [
    {
     "data": {
      "text/plain": [
       "bool"
      ]
     },
     "execution_count": 5,
     "metadata": {},
     "output_type": "execute_result"
    }
   ],
   "source": [
    "type(True)"
   ]
  },
  {
   "cell_type": "code",
   "execution_count": 6,
   "id": "6d14198c-d545-4b38-8f36-03faf4b86453",
   "metadata": {},
   "outputs": [
    {
     "data": {
      "text/plain": [
       "float"
      ]
     },
     "execution_count": 6,
     "metadata": {},
     "output_type": "execute_result"
    }
   ],
   "source": [
    "type(1.0)"
   ]
  },
  {
   "cell_type": "code",
   "execution_count": 7,
   "id": "4f141fa9-50bc-4227-9103-7a4c59e9a9ab",
   "metadata": {},
   "outputs": [
    {
     "data": {
      "text/plain": [
       "list"
      ]
     },
     "execution_count": 7,
     "metadata": {},
     "output_type": "execute_result"
    }
   ],
   "source": [
    "type([])"
   ]
  },
  {
   "cell_type": "code",
   "execution_count": 8,
   "id": "7e9b37f3-c49b-464c-9626-3d58388367a9",
   "metadata": {},
   "outputs": [
    {
     "data": {
      "text/plain": [
       "dict"
      ]
     },
     "execution_count": 8,
     "metadata": {},
     "output_type": "execute_result"
    }
   ],
   "source": [
    "type({})"
   ]
  },
  {
   "cell_type": "markdown",
   "id": "6f436c29-ba21-4d55-9ebe-4cc558098a62",
   "metadata": {},
   "source": [
    "# Cast (convertion) between different data types"
   ]
  },
  {
   "cell_type": "code",
   "execution_count": 10,
   "id": "744a6b75-4b8e-4838-ab0d-f50a8fcd8d8b",
   "metadata": {},
   "outputs": [
    {
     "data": {
      "text/plain": [
       "str"
      ]
     },
     "execution_count": 10,
     "metadata": {},
     "output_type": "execute_result"
    }
   ],
   "source": [
    "type(\"1\")"
   ]
  },
  {
   "cell_type": "code",
   "execution_count": 11,
   "id": "5d44f42c-45ca-47de-8c84-e28a720b077f",
   "metadata": {},
   "outputs": [
    {
     "data": {
      "text/plain": [
       "2"
      ]
     },
     "execution_count": 11,
     "metadata": {},
     "output_type": "execute_result"
    }
   ],
   "source": [
    "1 + 1"
   ]
  },
  {
   "cell_type": "code",
   "execution_count": 12,
   "id": "21bda88c-cd51-491c-b454-7d38cb8fea5c",
   "metadata": {},
   "outputs": [
    {
     "data": {
      "text/plain": [
       "'11'"
      ]
     },
     "execution_count": 12,
     "metadata": {},
     "output_type": "execute_result"
    }
   ],
   "source": [
    "\"1\" + \"1\""
   ]
  },
  {
   "cell_type": "code",
   "execution_count": 13,
   "id": "d3fe647e-c0ce-4cd7-8e06-ce0b352c6316",
   "metadata": {},
   "outputs": [
    {
     "data": {
      "text/plain": [
       "'2'"
      ]
     },
     "execution_count": 13,
     "metadata": {},
     "output_type": "execute_result"
    }
   ],
   "source": [
    "str(1 + 1)"
   ]
  },
  {
   "cell_type": "code",
   "execution_count": 14,
   "id": "5685a238-33ae-4266-a859-8abb549ebf52",
   "metadata": {},
   "outputs": [
    {
     "data": {
      "text/plain": [
       "11"
      ]
     },
     "execution_count": 14,
     "metadata": {},
     "output_type": "execute_result"
    }
   ],
   "source": [
    "int('1' + '1')"
   ]
  },
  {
   "cell_type": "code",
   "execution_count": 15,
   "id": "b77e3884-8593-4091-b2e7-cf3c09947761",
   "metadata": {},
   "outputs": [
    {
     "ename": "TypeError",
     "evalue": "can only concatenate str (not \"int\") to str",
     "output_type": "error",
     "traceback": [
      "\u001b[0;31m---------------------------------------------------------------------------\u001b[0m",
      "\u001b[0;31mTypeError\u001b[0m                                 Traceback (most recent call last)",
      "Input \u001b[0;32mIn [15]\u001b[0m, in \u001b[0;36m<module>\u001b[0;34m\u001b[0m\n\u001b[0;32m----> 1\u001b[0m \u001b[38;5;124;43m'\u001b[39;49m\u001b[38;5;124;43m1\u001b[39;49m\u001b[38;5;124;43m'\u001b[39;49m\u001b[43m \u001b[49m\u001b[38;5;241;43m+\u001b[39;49m\u001b[43m \u001b[49m\u001b[38;5;241;43m1\u001b[39;49m\n",
      "\u001b[0;31mTypeError\u001b[0m: can only concatenate str (not \"int\") to str"
     ]
    }
   ],
   "source": [
    "'1' + 1"
   ]
  },
  {
   "cell_type": "code",
   "execution_count": 16,
   "id": "251fe8ad-5139-4992-b954-2fd98ea0a567",
   "metadata": {},
   "outputs": [
    {
     "ename": "TypeError",
     "evalue": "unsupported operand type(s) for +: 'int' and 'str'",
     "output_type": "error",
     "traceback": [
      "\u001b[0;31m---------------------------------------------------------------------------\u001b[0m",
      "\u001b[0;31mTypeError\u001b[0m                                 Traceback (most recent call last)",
      "Input \u001b[0;32mIn [16]\u001b[0m, in \u001b[0;36m<module>\u001b[0;34m\u001b[0m\n\u001b[0;32m----> 1\u001b[0m \u001b[38;5;241;43m1\u001b[39;49m\u001b[43m \u001b[49m\u001b[38;5;241;43m+\u001b[39;49m\u001b[43m \u001b[49m\u001b[38;5;124;43m'\u001b[39;49m\u001b[38;5;124;43m1\u001b[39;49m\u001b[38;5;124;43m'\u001b[39;49m\n",
      "\u001b[0;31mTypeError\u001b[0m: unsupported operand type(s) for +: 'int' and 'str'"
     ]
    }
   ],
   "source": [
    "1 + '1'"
   ]
  },
  {
   "cell_type": "code",
   "execution_count": 17,
   "id": "25ba7f9a-043e-4c80-9855-f4454a37697c",
   "metadata": {},
   "outputs": [
    {
     "data": {
      "text/plain": [
       "2.7"
      ]
     },
     "execution_count": 17,
     "metadata": {},
     "output_type": "execute_result"
    }
   ],
   "source": [
    "1 + 1.7"
   ]
  },
  {
   "cell_type": "code",
   "execution_count": 18,
   "id": "8208837a-a1e3-4ed1-8f0b-36dc531d1fe4",
   "metadata": {},
   "outputs": [
    {
     "data": {
      "text/plain": [
       "False"
      ]
     },
     "execution_count": 18,
     "metadata": {},
     "output_type": "execute_result"
    }
   ],
   "source": [
    "bool(0)"
   ]
  },
  {
   "cell_type": "code",
   "execution_count": 19,
   "id": "920215e1-c9a5-4fc4-ad30-b769b5a597db",
   "metadata": {},
   "outputs": [
    {
     "data": {
      "text/plain": [
       "True"
      ]
     },
     "execution_count": 19,
     "metadata": {},
     "output_type": "execute_result"
    }
   ],
   "source": [
    "bool(176768)"
   ]
  },
  {
   "cell_type": "code",
   "execution_count": 20,
   "id": "1badbf72-b0af-44d9-a0c1-bcbe0cf03b7c",
   "metadata": {},
   "outputs": [
    {
     "data": {
      "text/plain": [
       "True"
      ]
     },
     "execution_count": 20,
     "metadata": {},
     "output_type": "execute_result"
    }
   ],
   "source": [
    "bool('hello')"
   ]
  },
  {
   "cell_type": "code",
   "execution_count": 21,
   "id": "a3da6203-dfde-4152-a91f-b5cbb9d1f923",
   "metadata": {},
   "outputs": [
    {
     "data": {
      "text/plain": [
       "False"
      ]
     },
     "execution_count": 21,
     "metadata": {},
     "output_type": "execute_result"
    }
   ],
   "source": [
    "bool('')"
   ]
  },
  {
   "cell_type": "code",
   "execution_count": 22,
   "id": "5cb7cee3-c99f-4570-a812-e5b5f5e81406",
   "metadata": {},
   "outputs": [
    {
     "data": {
      "text/plain": [
       "False"
      ]
     },
     "execution_count": 22,
     "metadata": {},
     "output_type": "execute_result"
    }
   ],
   "source": [
    "bool([])"
   ]
  },
  {
   "cell_type": "code",
   "execution_count": 23,
   "id": "ab120a22-a3b6-481e-a3ea-6016da0567f3",
   "metadata": {},
   "outputs": [
    {
     "data": {
      "text/plain": [
       "True"
      ]
     },
     "execution_count": 23,
     "metadata": {},
     "output_type": "execute_result"
    }
   ],
   "source": [
    "bool('False')"
   ]
  },
  {
   "cell_type": "markdown",
   "id": "3358001d-880d-4740-b225-a3906a6ad267",
   "metadata": {},
   "source": [
    "# Variables in Python"
   ]
  },
  {
   "cell_type": "code",
   "execution_count": 24,
   "id": "5fbdcee6-bd7d-4787-9791-ed043d498d37",
   "metadata": {},
   "outputs": [],
   "source": [
    "a = 10"
   ]
  },
  {
   "cell_type": "code",
   "execution_count": 25,
   "id": "683efbad-e366-450b-bc09-a2f9e9caafff",
   "metadata": {},
   "outputs": [
    {
     "name": "stdout",
     "output_type": "stream",
     "text": [
      "2\n"
     ]
    }
   ],
   "source": [
    "a = 1\n",
    "b = 1\n",
    "c = a + b\n",
    "print(c)"
   ]
  },
  {
   "cell_type": "markdown",
   "id": "9dde87a7-f72f-498d-b616-40df78ca44ac",
   "metadata": {},
   "source": [
    "![variable_value.png](data:image/png;base64,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)"
   ]
  },
  {
   "cell_type": "code",
   "execution_count": 26,
   "id": "0f686d4f-a5f9-445d-bd2b-c6fcae4c8045",
   "metadata": {},
   "outputs": [
    {
     "data": {
      "text/plain": [
       "139638640787696"
      ]
     },
     "execution_count": 26,
     "metadata": {},
     "output_type": "execute_result"
    }
   ],
   "source": [
    "id(1)"
   ]
  },
  {
   "cell_type": "code",
   "execution_count": 27,
   "id": "da27018d-ec5a-4eb2-9340-24ea4ff5acf4",
   "metadata": {},
   "outputs": [
    {
     "data": {
      "text/plain": [
       "139638640787696"
      ]
     },
     "execution_count": 27,
     "metadata": {},
     "output_type": "execute_result"
    }
   ],
   "source": [
    "id(a)"
   ]
  },
  {
   "cell_type": "code",
   "execution_count": 28,
   "id": "44ae947a-5cb6-4d8f-9ab8-162811c4b673",
   "metadata": {},
   "outputs": [
    {
     "data": {
      "text/plain": [
       "139638640787696"
      ]
     },
     "execution_count": 28,
     "metadata": {},
     "output_type": "execute_result"
    }
   ],
   "source": [
    "id(b)"
   ]
  },
  {
   "cell_type": "code",
   "execution_count": 29,
   "id": "f9612276-ee12-4e24-90b6-52a287a55049",
   "metadata": {},
   "outputs": [],
   "source": [
    "a = 10"
   ]
  },
  {
   "cell_type": "code",
   "execution_count": 30,
   "id": "0e7b8030-dacc-47cb-8251-984ae495e433",
   "metadata": {},
   "outputs": [
    {
     "data": {
      "text/plain": [
       "139638640787984"
      ]
     },
     "execution_count": 30,
     "metadata": {},
     "output_type": "execute_result"
    }
   ],
   "source": [
    "id(a)"
   ]
  },
  {
   "cell_type": "code",
   "execution_count": 31,
   "id": "3ed8a643-b673-4330-912b-8659adc0204c",
   "metadata": {},
   "outputs": [
    {
     "data": {
      "text/plain": [
       "float"
      ]
     },
     "execution_count": 31,
     "metadata": {},
     "output_type": "execute_result"
    }
   ],
   "source": [
    "type(1 + 2.7)"
   ]
  },
  {
   "cell_type": "code",
   "execution_count": 34,
   "id": "5ce88af8-23bc-4fbe-9a62-b1838b1cf805",
   "metadata": {},
   "outputs": [
    {
     "data": {
      "text/plain": [
       "2"
      ]
     },
     "execution_count": 34,
     "metadata": {},
     "output_type": "execute_result"
    }
   ],
   "source": [
    "1 + True"
   ]
  },
  {
   "cell_type": "code",
   "execution_count": 33,
   "id": "a5d41a70-f9fc-4139-b7fc-c4f4cd2a744b",
   "metadata": {},
   "outputs": [
    {
     "data": {
      "text/plain": [
       "1"
      ]
     },
     "execution_count": 33,
     "metadata": {},
     "output_type": "execute_result"
    }
   ],
   "source": [
    "int(True)"
   ]
  },
  {
   "cell_type": "code",
   "execution_count": 35,
   "id": "c018b28e-b026-4396-857c-82dbe01b6e34",
   "metadata": {},
   "outputs": [
    {
     "data": {
      "text/plain": [
       "'12'"
      ]
     },
     "execution_count": 35,
     "metadata": {},
     "output_type": "execute_result"
    }
   ],
   "source": [
    "'1' + '2'"
   ]
  },
  {
   "cell_type": "code",
   "execution_count": 37,
   "id": "13cf8f6e-af10-4b27-891e-2360c1611c1c",
   "metadata": {},
   "outputs": [
    {
     "data": {
      "text/plain": [
       "['1', '2']"
      ]
     },
     "execution_count": 37,
     "metadata": {},
     "output_type": "execute_result"
    }
   ],
   "source": [
    "['1'] + ['2']"
   ]
  },
  {
   "cell_type": "markdown",
   "id": "53db03e3-079d-440f-8b09-64b0a886f99c",
   "metadata": {},
   "source": [
    "# `list`, `dictionary`, `set` and `tuple`"
   ]
  },
  {
   "cell_type": "markdown",
   "id": "a2921a3e-882d-4229-8f5a-92b13207f0bb",
   "metadata": {},
   "source": [
    "A `list` is a data structure that is a **mutable** and **ordered** sequence of **objects**."
   ]
  },
  {
   "cell_type": "code",
   "execution_count": 38,
   "id": "97675615-ee61-4eb9-96a1-b5409c720bcd",
   "metadata": {},
   "outputs": [],
   "source": [
    "l = []"
   ]
  },
  {
   "cell_type": "code",
   "execution_count": 39,
   "id": "214cc0f4-bf6a-49d0-ac9a-fa04d98c56d4",
   "metadata": {},
   "outputs": [],
   "source": [
    "l = ['a', 3, 5.0, True]"
   ]
  },
  {
   "cell_type": "code",
   "execution_count": 40,
   "id": "bfd96f71-f368-428e-ac51-437d44a4de46",
   "metadata": {},
   "outputs": [
    {
     "data": {
      "text/plain": [
       "['a', 3, 5.0, True]"
      ]
     },
     "execution_count": 40,
     "metadata": {},
     "output_type": "execute_result"
    }
   ],
   "source": [
    "l"
   ]
  },
  {
   "cell_type": "markdown",
   "id": "45da905c-4b5a-4e71-9056-2ad841d93c07",
   "metadata": {},
   "source": [
    "![python-list-index.png](data:image/png;base64,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)"
   ]
  },
  {
   "cell_type": "code",
   "execution_count": 41,
   "id": "c6f333ec-6091-4a79-aa54-45e19d06a6f6",
   "metadata": {},
   "outputs": [
    {
     "data": {
      "text/plain": [
       "['p', 'r', 'o', 'b', 'e']"
      ]
     },
     "execution_count": 41,
     "metadata": {},
     "output_type": "execute_result"
    }
   ],
   "source": [
    "l = ['p', 'r', 'o', 'b', 'e']\n",
    "l"
   ]
  },
  {
   "cell_type": "code",
   "execution_count": 42,
   "id": "90e0de89-04b5-4deb-9259-13f126b3877d",
   "metadata": {},
   "outputs": [
    {
     "data": {
      "text/plain": [
       "'p'"
      ]
     },
     "execution_count": 42,
     "metadata": {},
     "output_type": "execute_result"
    }
   ],
   "source": [
    "l[0]"
   ]
  },
  {
   "cell_type": "code",
   "execution_count": 43,
   "id": "59baae39-2399-4a5b-9f5c-e56b65020382",
   "metadata": {},
   "outputs": [
    {
     "data": {
      "text/plain": [
       "'e'"
      ]
     },
     "execution_count": 43,
     "metadata": {},
     "output_type": "execute_result"
    }
   ],
   "source": [
    "l[4]"
   ]
  },
  {
   "cell_type": "code",
   "execution_count": 44,
   "id": "b0d4bbe7-3768-4d63-b0d9-380df28c751a",
   "metadata": {},
   "outputs": [
    {
     "data": {
      "text/plain": [
       "'e'"
      ]
     },
     "execution_count": 44,
     "metadata": {},
     "output_type": "execute_result"
    }
   ],
   "source": [
    "l[-1]"
   ]
  },
  {
   "cell_type": "code",
   "execution_count": 45,
   "id": "cdd42575-4634-4e9c-9501-7b977bebf42b",
   "metadata": {},
   "outputs": [
    {
     "data": {
      "text/plain": [
       "5"
      ]
     },
     "execution_count": 45,
     "metadata": {},
     "output_type": "execute_result"
    }
   ],
   "source": [
    "len(l)"
   ]
  },
  {
   "cell_type": "code",
   "execution_count": 48,
   "id": "df263da4-694b-4f43-a5f9-ab22ce962982",
   "metadata": {},
   "outputs": [],
   "source": [
    "s = 'probe'"
   ]
  },
  {
   "cell_type": "code",
   "execution_count": 49,
   "id": "3878539e-38a5-495d-aa44-9594d7dc0e83",
   "metadata": {},
   "outputs": [
    {
     "data": {
      "text/plain": [
       "['p', 'r', 'o', 'b', 'e']"
      ]
     },
     "execution_count": 49,
     "metadata": {},
     "output_type": "execute_result"
    }
   ],
   "source": [
    "l"
   ]
  },
  {
   "cell_type": "code",
   "execution_count": 50,
   "id": "52bbe239-278d-47e8-b02b-79b8f56d1a6b",
   "metadata": {},
   "outputs": [
    {
     "data": {
      "text/plain": [
       "'probe'"
      ]
     },
     "execution_count": 50,
     "metadata": {},
     "output_type": "execute_result"
    }
   ],
   "source": [
    "s"
   ]
  },
  {
   "cell_type": "code",
   "execution_count": 51,
   "id": "08024fad-e8a3-48d8-82f8-c773b6793f4c",
   "metadata": {},
   "outputs": [
    {
     "data": {
      "text/plain": [
       "5"
      ]
     },
     "execution_count": 51,
     "metadata": {},
     "output_type": "execute_result"
    }
   ],
   "source": [
    "len(s)"
   ]
  },
  {
   "cell_type": "code",
   "execution_count": 53,
   "id": "a70e27d6-d780-4e0d-9621-f43aa57a9026",
   "metadata": {},
   "outputs": [
    {
     "data": {
      "text/plain": [
       "'e'"
      ]
     },
     "execution_count": 53,
     "metadata": {},
     "output_type": "execute_result"
    }
   ],
   "source": [
    "l[len(l) - 1] # l[-1]"
   ]
  },
  {
   "cell_type": "code",
   "execution_count": 54,
   "id": "e0dcdcfe-fa1b-4027-9076-4b17f0fae719",
   "metadata": {},
   "outputs": [
    {
     "data": {
      "text/plain": [
       "139638260058608"
      ]
     },
     "execution_count": 54,
     "metadata": {},
     "output_type": "execute_result"
    }
   ],
   "source": [
    "id(s)"
   ]
  },
  {
   "cell_type": "code",
   "execution_count": 55,
   "id": "76138285-b3d0-43eb-8009-612bd01a3f7b",
   "metadata": {},
   "outputs": [
    {
     "data": {
      "text/plain": [
       "139638259927424"
      ]
     },
     "execution_count": 55,
     "metadata": {},
     "output_type": "execute_result"
    }
   ],
   "source": [
    "id(l)"
   ]
  },
  {
   "cell_type": "code",
   "execution_count": 56,
   "id": "59a49cf2-392d-457f-92f1-45a45cc27502",
   "metadata": {},
   "outputs": [],
   "source": [
    "l.append('s')"
   ]
  },
  {
   "cell_type": "code",
   "execution_count": 57,
   "id": "0c8fad02-c670-4f39-ad60-4d1e8ede9e80",
   "metadata": {},
   "outputs": [
    {
     "data": {
      "text/plain": [
       "['p', 'r', 'o', 'b', 'e', 's']"
      ]
     },
     "execution_count": 57,
     "metadata": {},
     "output_type": "execute_result"
    }
   ],
   "source": [
    "l"
   ]
  },
  {
   "cell_type": "code",
   "execution_count": 58,
   "id": "576d72bd-50ef-4fc8-8078-8ad4512791e3",
   "metadata": {},
   "outputs": [
    {
     "data": {
      "text/plain": [
       "139638259927424"
      ]
     },
     "execution_count": 58,
     "metadata": {},
     "output_type": "execute_result"
    }
   ],
   "source": [
    "id(l)"
   ]
  },
  {
   "cell_type": "code",
   "execution_count": 61,
   "id": "5dad2c9f-ed82-4e30-822d-993d1811fc17",
   "metadata": {},
   "outputs": [
    {
     "data": {
      "text/plain": [
       "'probe'"
      ]
     },
     "execution_count": 61,
     "metadata": {},
     "output_type": "execute_result"
    }
   ],
   "source": [
    "s"
   ]
  },
  {
   "cell_type": "code",
   "execution_count": 62,
   "id": "479b47b9-ce73-4028-b571-1602f1c2bf2f",
   "metadata": {},
   "outputs": [],
   "source": [
    "s = s + 's'"
   ]
  },
  {
   "cell_type": "code",
   "execution_count": 63,
   "id": "f4443693-95d7-45cd-bf1d-d71c6a7290e8",
   "metadata": {},
   "outputs": [
    {
     "data": {
      "text/plain": [
       "'probes'"
      ]
     },
     "execution_count": 63,
     "metadata": {},
     "output_type": "execute_result"
    }
   ],
   "source": [
    "s"
   ]
  },
  {
   "cell_type": "code",
   "execution_count": 64,
   "id": "c0adbddc-8392-4bd5-a81d-2263fe548253",
   "metadata": {},
   "outputs": [
    {
     "data": {
      "text/plain": [
       "139638260059376"
      ]
     },
     "execution_count": 64,
     "metadata": {},
     "output_type": "execute_result"
    }
   ],
   "source": [
    "id(s)"
   ]
  },
  {
   "cell_type": "code",
   "execution_count": 65,
   "id": "66a608bc-b931-4c33-8f2d-89f96f56b87f",
   "metadata": {},
   "outputs": [
    {
     "data": {
      "text/plain": [
       "True"
      ]
     },
     "execution_count": 65,
     "metadata": {},
     "output_type": "execute_result"
    }
   ],
   "source": [
    "'o' in s"
   ]
  },
  {
   "cell_type": "code",
   "execution_count": 67,
   "id": "8b584a51-b36c-408d-ba87-ee4efe42c205",
   "metadata": {},
   "outputs": [
    {
     "data": {
      "text/plain": [
       "True"
      ]
     },
     "execution_count": 67,
     "metadata": {},
     "output_type": "execute_result"
    }
   ],
   "source": [
    "'o' in l"
   ]
  },
  {
   "cell_type": "markdown",
   "id": "50ca8fb2-0101-489b-bda2-fb430b1a1291",
   "metadata": {},
   "source": [
    "# Dictionaries"
   ]
  },
  {
   "cell_type": "code",
   "execution_count": 68,
   "id": "ac1abb36-6f27-4657-ae16-e9a265e67ee6",
   "metadata": {},
   "outputs": [],
   "source": [
    "d = {'luca': '+398786654345', 'marco': '+392387645677', 'giovanni': '+393445676233'}\n",
    "l = ['+398786654345', '+392387645677', '+393445676233']"
   ]
  },
  {
   "cell_type": "code",
   "execution_count": 69,
   "id": "a2680d7a-66df-4ee0-b0d1-bf0cff8af8ab",
   "metadata": {},
   "outputs": [
    {
     "data": {
      "text/plain": [
       "3"
      ]
     },
     "execution_count": 69,
     "metadata": {},
     "output_type": "execute_result"
    }
   ],
   "source": [
    "len(d)"
   ]
  },
  {
   "cell_type": "code",
   "execution_count": 70,
   "id": "39a05c20-2cc9-4a8f-89ae-08fbdba682dd",
   "metadata": {},
   "outputs": [
    {
     "data": {
      "text/plain": [
       "'+398786654345'"
      ]
     },
     "execution_count": 70,
     "metadata": {},
     "output_type": "execute_result"
    }
   ],
   "source": [
    "l[0]"
   ]
  },
  {
   "cell_type": "code",
   "execution_count": 71,
   "id": "f772e8dc-19b3-4ec4-b318-c25a9209a117",
   "metadata": {},
   "outputs": [
    {
     "data": {
      "text/plain": [
       "'+392387645677'"
      ]
     },
     "execution_count": 71,
     "metadata": {},
     "output_type": "execute_result"
    }
   ],
   "source": [
    "d['marco']"
   ]
  },
  {
   "cell_type": "markdown",
   "id": "69b49d11-cc25-403c-9737-c516688b959b",
   "metadata": {},
   "source": [
    "# Set"
   ]
  },
  {
   "cell_type": "code",
   "execution_count": 72,
   "id": "d9b7aa2b-0bf6-4818-9f1c-fc1b62855b00",
   "metadata": {},
   "outputs": [],
   "source": [
    "a = set()"
   ]
  },
  {
   "cell_type": "code",
   "execution_count": 73,
   "id": "82eb70a4-a620-41f6-89bd-fc0f9a2177e5",
   "metadata": {},
   "outputs": [
    {
     "data": {
      "text/plain": [
       "set"
      ]
     },
     "execution_count": 73,
     "metadata": {},
     "output_type": "execute_result"
    }
   ],
   "source": [
    "type(a)"
   ]
  },
  {
   "cell_type": "code",
   "execution_count": 78,
   "id": "6c232df3-dd01-45f7-a2d1-d5acbfe90987",
   "metadata": {},
   "outputs": [],
   "source": [
    "b = set([10, 2, 3, 3, 3, 'ciao', 'Ciao'])"
   ]
  },
  {
   "cell_type": "code",
   "execution_count": 79,
   "id": "ae27a6d1-5ed6-4bb3-8de4-6dfd4b8d6c8b",
   "metadata": {},
   "outputs": [
    {
     "data": {
      "text/plain": [
       "{10, 2, 3, 'Ciao', 'ciao'}"
      ]
     },
     "execution_count": 79,
     "metadata": {},
     "output_type": "execute_result"
    }
   ],
   "source": [
    "b"
   ]
  },
  {
   "cell_type": "code",
   "execution_count": 81,
   "id": "692a5910-7ea6-45c0-8f05-54ff12586f17",
   "metadata": {},
   "outputs": [
    {
     "data": {
      "text/plain": [
       "5"
      ]
     },
     "execution_count": 81,
     "metadata": {},
     "output_type": "execute_result"
    }
   ],
   "source": [
    "len(b)"
   ]
  },
  {
   "cell_type": "code",
   "execution_count": 82,
   "id": "f883245a-9c59-4e1f-bec7-16ab534101d5",
   "metadata": {},
   "outputs": [
    {
     "ename": "TypeError",
     "evalue": "'set' object is not subscriptable",
     "output_type": "error",
     "traceback": [
      "\u001b[0;31m---------------------------------------------------------------------------\u001b[0m",
      "\u001b[0;31mTypeError\u001b[0m                                 Traceback (most recent call last)",
      "Input \u001b[0;32mIn [82]\u001b[0m, in \u001b[0;36m<module>\u001b[0;34m\u001b[0m\n\u001b[0;32m----> 1\u001b[0m \u001b[43mb\u001b[49m\u001b[43m[\u001b[49m\u001b[38;5;241;43m0\u001b[39;49m\u001b[43m]\u001b[49m\n",
      "\u001b[0;31mTypeError\u001b[0m: 'set' object is not subscriptable"
     ]
    }
   ],
   "source": [
    "b[0]"
   ]
  },
  {
   "cell_type": "markdown",
   "id": "be1f43b6-1911-43c8-9fd0-b7763ef84045",
   "metadata": {},
   "source": [
    "# Tuple"
   ]
  },
  {
   "cell_type": "code",
   "execution_count": 83,
   "id": "75e05081-aaad-4232-8e92-4c481cfb3a76",
   "metadata": {},
   "outputs": [],
   "source": [
    "t = (1, 'a', 2.3, True)"
   ]
  },
  {
   "cell_type": "code",
   "execution_count": 84,
   "id": "a89cd142-191c-4690-bcd6-1ad4df77851f",
   "metadata": {},
   "outputs": [
    {
     "data": {
      "text/plain": [
       "(1, 'a', 2.3, True)"
      ]
     },
     "execution_count": 84,
     "metadata": {},
     "output_type": "execute_result"
    }
   ],
   "source": [
    "t"
   ]
  },
  {
   "cell_type": "code",
   "execution_count": 94,
   "id": "173c5d33-6502-477a-b0c0-1c83c391c9d4",
   "metadata": {},
   "outputs": [],
   "source": [
    "names = ['marco', 'chris', 'daniel', 'jacob', 'lisa', 'anne', 'denise']\n",
    "numbers = ['333123456', '344561233', '33367409390', '3339386722', '344896725', '3339386345', '3449344766']"
   ]
  },
  {
   "cell_type": "code",
   "execution_count": 87,
   "id": "14f9833c-0075-4c54-9838-6171d5fba9b4",
   "metadata": {},
   "outputs": [
    {
     "data": {
      "text/plain": [
       "<zip at 0x7f0010e8d600>"
      ]
     },
     "execution_count": 87,
     "metadata": {},
     "output_type": "execute_result"
    }
   ],
   "source": [
    "zip(names, numbers)"
   ]
  },
  {
   "cell_type": "code",
   "execution_count": 88,
   "id": "7771edc9-de73-403d-9a1e-838a3634695d",
   "metadata": {},
   "outputs": [
    {
     "data": {
      "text/plain": [
       "[('marco', '333123456'),\n",
       " ('chris', '344561233'),\n",
       " ('daniel', '33367409390'),\n",
       " ('jacob', '3339386722'),\n",
       " ('lisa', '344896725'),\n",
       " ('anne', '3339386345'),\n",
       " ('denise', '3449344766')]"
      ]
     },
     "execution_count": 88,
     "metadata": {},
     "output_type": "execute_result"
    }
   ],
   "source": [
    "list(zip(names, numbers))"
   ]
  },
  {
   "cell_type": "code",
   "execution_count": 89,
   "id": "086cc0a5-0acc-4b41-97dd-7d38800ebd50",
   "metadata": {},
   "outputs": [
    {
     "data": {
      "text/plain": [
       "{'marco': '333123456',\n",
       " 'chris': '344561233',\n",
       " 'daniel': '33367409390',\n",
       " 'jacob': '3339386722',\n",
       " 'lisa': '344896725',\n",
       " 'anne': '3339386345',\n",
       " 'denise': '3449344766'}"
      ]
     },
     "execution_count": 89,
     "metadata": {},
     "output_type": "execute_result"
    }
   ],
   "source": [
    "dict(zip(names, numbers))"
   ]
  },
  {
   "cell_type": "code",
   "execution_count": 95,
   "id": "5ef2def4-dec0-4f04-bbb0-a3e0a176cb8a",
   "metadata": {},
   "outputs": [
    {
     "data": {
      "text/plain": [
       "139638260048256"
      ]
     },
     "execution_count": 95,
     "metadata": {},
     "output_type": "execute_result"
    }
   ],
   "source": [
    "id(names)"
   ]
  },
  {
   "cell_type": "code",
   "execution_count": 96,
   "id": "6f262c17-eb01-4bb7-bc24-760b06b92267",
   "metadata": {},
   "outputs": [
    {
     "data": {
      "text/plain": [
       "['marco', 'chris', 'daniel', 'jacob', 'lisa', 'anne', 'denise']"
      ]
     },
     "execution_count": 96,
     "metadata": {},
     "output_type": "execute_result"
    }
   ],
   "source": [
    "names"
   ]
  },
  {
   "cell_type": "code",
   "execution_count": 97,
   "id": "4c955011-97cc-453b-908d-b6bab3cf62ee",
   "metadata": {},
   "outputs": [],
   "source": [
    "names.sort()"
   ]
  },
  {
   "cell_type": "code",
   "execution_count": 98,
   "id": "24cab4f1-6800-4320-b942-e0d47eb1ee30",
   "metadata": {},
   "outputs": [
    {
     "data": {
      "text/plain": [
       "['anne', 'chris', 'daniel', 'denise', 'jacob', 'lisa', 'marco']"
      ]
     },
     "execution_count": 98,
     "metadata": {},
     "output_type": "execute_result"
    }
   ],
   "source": [
    "names"
   ]
  },
  {
   "cell_type": "code",
   "execution_count": 99,
   "id": "f28bd67f-be00-46f7-98e6-25e43c921f25",
   "metadata": {},
   "outputs": [
    {
     "data": {
      "text/plain": [
       "139638260048256"
      ]
     },
     "execution_count": 99,
     "metadata": {},
     "output_type": "execute_result"
    }
   ],
   "source": [
    "id(names)"
   ]
  },
  {
   "cell_type": "code",
   "execution_count": 100,
   "id": "a4ca432e-f21e-4b32-9b48-5aadd4aeac29",
   "metadata": {},
   "outputs": [],
   "source": [
    "name_sorted = sorted(names)"
   ]
  },
  {
   "cell_type": "code",
   "execution_count": 101,
   "id": "cfeedbf9-65e8-4ac3-aed4-d9e1ed9a0e7f",
   "metadata": {},
   "outputs": [
    {
     "data": {
      "text/plain": [
       "139638260060992"
      ]
     },
     "execution_count": 101,
     "metadata": {},
     "output_type": "execute_result"
    }
   ],
   "source": [
    "id(name_sorted)"
   ]
  },
  {
   "cell_type": "code",
   "execution_count": 104,
   "id": "f0519664-f0a3-48c0-a587-1e7b519ac14b",
   "metadata": {},
   "outputs": [],
   "source": [
    "x = list(zip([3,5,7,9,1,2,5], ['marco', 'chris', 'daniel', 'jacob', 'lisa', 'anne', 'denise']))"
   ]
  },
  {
   "cell_type": "code",
   "execution_count": 105,
   "id": "63d522da-d3c5-4496-a09a-85e8d4d938c7",
   "metadata": {},
   "outputs": [
    {
     "data": {
      "text/plain": [
       "[(1, 'lisa'),\n",
       " (2, 'anne'),\n",
       " (3, 'marco'),\n",
       " (5, 'chris'),\n",
       " (5, 'denise'),\n",
       " (7, 'daniel'),\n",
       " (9, 'jacob')]"
      ]
     },
     "execution_count": 105,
     "metadata": {},
     "output_type": "execute_result"
    }
   ],
   "source": [
    "sorted(x)"
   ]
  },
  {
   "cell_type": "code",
   "execution_count": 107,
   "id": "b512da4a-b070-47ec-adb4-fe286497ef2d",
   "metadata": {},
   "outputs": [],
   "source": [
    "names.reverse()"
   ]
  },
  {
   "cell_type": "code",
   "execution_count": 108,
   "id": "2d5b73bd-4b72-481c-8f1c-6407144aee2a",
   "metadata": {},
   "outputs": [
    {
     "data": {
      "text/plain": [
       "['marco', 'lisa', 'jacob', 'denise', 'daniel', 'chris', 'anne']"
      ]
     },
     "execution_count": 108,
     "metadata": {},
     "output_type": "execute_result"
    }
   ],
   "source": [
    "names"
   ]
  },
  {
   "cell_type": "code",
   "execution_count": 109,
   "id": "6e41d41b-d0bf-4673-8af6-900888df96f3",
   "metadata": {},
   "outputs": [
    {
     "data": {
      "text/plain": [
       "['anne', 'chris', 'daniel', 'denise', 'jacob', 'lisa', 'marco']"
      ]
     },
     "execution_count": 109,
     "metadata": {},
     "output_type": "execute_result"
    }
   ],
   "source": [
    "names[::-1]"
   ]
  },
  {
   "cell_type": "code",
   "execution_count": 110,
   "id": "3b18a7cb-77f4-4d37-a6ba-59da5f4184c1",
   "metadata": {},
   "outputs": [
    {
     "data": {
      "text/plain": [
       "['marco', 'lisa', 'jacob', 'denise', 'daniel', 'chris', 'anne']"
      ]
     },
     "execution_count": 110,
     "metadata": {},
     "output_type": "execute_result"
    }
   ],
   "source": [
    "names"
   ]
  },
  {
   "cell_type": "code",
   "execution_count": 111,
   "id": "8ae22099-3415-42cb-adb2-606000570958",
   "metadata": {},
   "outputs": [],
   "source": [
    "pb = dict(zip(names, numbers))"
   ]
  },
  {
   "cell_type": "code",
   "execution_count": 112,
   "id": "1d3c4937-f335-443a-b1dc-6d8eb3fcc5dc",
   "metadata": {},
   "outputs": [
    {
     "data": {
      "text/plain": [
       "{'marco': '333123456',\n",
       " 'lisa': '344561233',\n",
       " 'jacob': '33367409390',\n",
       " 'denise': '3339386722',\n",
       " 'daniel': '344896725',\n",
       " 'chris': '3339386345',\n",
       " 'anne': '3449344766'}"
      ]
     },
     "execution_count": 112,
     "metadata": {},
     "output_type": "execute_result"
    }
   ],
   "source": [
    "pb"
   ]
  },
  {
   "cell_type": "code",
   "execution_count": 113,
   "id": "743c83f9-f578-415f-82b2-e8b370a57f4e",
   "metadata": {},
   "outputs": [
    {
     "data": {
      "text/plain": [
       "'333123456'"
      ]
     },
     "execution_count": 113,
     "metadata": {},
     "output_type": "execute_result"
    }
   ],
   "source": [
    "pb['marco']"
   ]
  },
  {
   "cell_type": "code",
   "execution_count": 114,
   "id": "7405c621-5267-4ec6-a5d9-4f6809cf57d7",
   "metadata": {},
   "outputs": [],
   "source": [
    "pb['???'] = ''"
   ]
  },
  {
   "cell_type": "code",
   "execution_count": 115,
   "id": "913c760d-41f0-4f8f-9828-b72f2743ef79",
   "metadata": {},
   "outputs": [
    {
     "data": {
      "text/plain": [
       "{'marco': '333123456',\n",
       " 'lisa': '344561233',\n",
       " 'jacob': '33367409390',\n",
       " 'denise': '3339386722',\n",
       " 'daniel': '344896725',\n",
       " 'chris': '3339386345',\n",
       " 'anne': '3449344766',\n",
       " '???': ''}"
      ]
     },
     "execution_count": 115,
     "metadata": {},
     "output_type": "execute_result"
    }
   ],
   "source": [
    "pb"
   ]
  },
  {
   "cell_type": "code",
   "execution_count": 116,
   "id": "5b9a2839-46ba-4a6a-84a1-04fc942903df",
   "metadata": {},
   "outputs": [],
   "source": [
    "pb['???'] = '8746871638376'"
   ]
  },
  {
   "cell_type": "code",
   "execution_count": 117,
   "id": "7ea9e278-e298-40ad-bf9b-92ac51111f2e",
   "metadata": {},
   "outputs": [
    {
     "data": {
      "text/plain": [
       "{'marco': '333123456',\n",
       " 'lisa': '344561233',\n",
       " 'jacob': '33367409390',\n",
       " 'denise': '3339386722',\n",
       " 'daniel': '344896725',\n",
       " 'chris': '3339386345',\n",
       " 'anne': '3449344766',\n",
       " '???': '8746871638376'}"
      ]
     },
     "execution_count": 117,
     "metadata": {},
     "output_type": "execute_result"
    }
   ],
   "source": [
    "pb"
   ]
  },
  {
   "cell_type": "code",
   "execution_count": 121,
   "id": "eca4e3f6-40a3-4ad9-b9b4-d00f8eab18f8",
   "metadata": {},
   "outputs": [
    {
     "data": {
      "text/plain": [
       "1"
      ]
     },
     "execution_count": 121,
     "metadata": {},
     "output_type": "execute_result"
    }
   ],
   "source": [
    "numbers.count('333123456')"
   ]
  },
  {
   "cell_type": "code",
   "execution_count": 130,
   "id": "32a97327-a9aa-40fe-bffd-df9bc0fd84be",
   "metadata": {},
   "outputs": [],
   "source": [
    "names = ['anne', 'chris', 'daniel', 'denise', 'jacob', 'lisa', 'maria']"
   ]
  },
  {
   "cell_type": "code",
   "execution_count": 131,
   "id": "74728ef7-72dd-4520-aa09-77f3f4fe981a",
   "metadata": {},
   "outputs": [],
   "source": [
    "new_names = ['jack', 'rose', 'adele', 'max']"
   ]
  },
  {
   "cell_type": "code",
   "execution_count": 132,
   "id": "ee6692a4-1c70-4977-869d-6b0995545117",
   "metadata": {},
   "outputs": [],
   "source": [
    "names.extend(new_names)"
   ]
  },
  {
   "cell_type": "code",
   "execution_count": 137,
   "id": "cf740a63-9185-4f0d-8e58-83e893f1bb5d",
   "metadata": {},
   "outputs": [],
   "source": [
    "names.append('sue')"
   ]
  },
  {
   "cell_type": "code",
   "execution_count": 143,
   "id": "f7f2f29f-6a52-4156-baa2-207b989290b8",
   "metadata": {},
   "outputs": [
    {
     "data": {
      "text/plain": [
       "['anne',\n",
       " 'chris',\n",
       " 'daniel',\n",
       " 'denise',\n",
       " 'jacob',\n",
       " 'lisa',\n",
       " 'maria',\n",
       " 'jack',\n",
       " 'rose',\n",
       " 'adele',\n",
       " 'max',\n",
       " 'sue']"
      ]
     },
     "execution_count": 143,
     "metadata": {},
     "output_type": "execute_result"
    }
   ],
   "source": [
    "names"
   ]
  },
  {
   "cell_type": "code",
   "execution_count": 134,
   "id": "a0209b57-38ee-4799-8d5f-59b62d79c14a",
   "metadata": {},
   "outputs": [],
   "source": [
    "marks = [5, 5, 6, 7, 4, 6, 6, 8, 9, 7, 4, 5]"
   ]
  },
  {
   "cell_type": "code",
   "execution_count": 145,
   "id": "d542f7e8-b6a5-440c-8e84-e0f7a8c66c17",
   "metadata": {},
   "outputs": [
    {
     "data": {
      "text/plain": [
       "'adele'"
      ]
     },
     "execution_count": 145,
     "metadata": {},
     "output_type": "execute_result"
    }
   ],
   "source": [
    "names[9]"
   ]
  },
  {
   "cell_type": "code",
   "execution_count": 147,
   "id": "426eaba7-db77-46fe-b5eb-ae4ad23b72ca",
   "metadata": {},
   "outputs": [
    {
     "data": {
      "text/plain": [
       "7"
      ]
     },
     "execution_count": 147,
     "metadata": {},
     "output_type": "execute_result"
    }
   ],
   "source": [
    "marks[9]"
   ]
  },
  {
   "cell_type": "code",
   "execution_count": 148,
   "id": "c4a2d8a4-f4c5-4a8a-b66f-889b184bbe5b",
   "metadata": {},
   "outputs": [
    {
     "data": {
      "text/plain": [
       "9"
      ]
     },
     "execution_count": 148,
     "metadata": {},
     "output_type": "execute_result"
    }
   ],
   "source": [
    "names.index('adele')"
   ]
  },
  {
   "cell_type": "code",
   "execution_count": 150,
   "id": "4cfe3819-b6e4-4407-b4d9-ec4387bbe37e",
   "metadata": {},
   "outputs": [
    {
     "data": {
      "text/plain": [
       "7"
      ]
     },
     "execution_count": 150,
     "metadata": {},
     "output_type": "execute_result"
    }
   ],
   "source": [
    "marks[names.index('adele')]"
   ]
  },
  {
   "cell_type": "code",
   "execution_count": 152,
   "id": "c9b5c51f-d839-49c2-8024-c46d112d8fa7",
   "metadata": {},
   "outputs": [
    {
     "data": {
      "text/plain": [
       "72"
      ]
     },
     "execution_count": 152,
     "metadata": {},
     "output_type": "execute_result"
    }
   ],
   "source": [
    "sum(marks)"
   ]
  },
  {
   "cell_type": "code",
   "execution_count": 153,
   "id": "b2faca68-f981-482c-b40f-1bfb34e8bd61",
   "metadata": {},
   "outputs": [
    {
     "data": {
      "text/plain": [
       "4"
      ]
     },
     "execution_count": 153,
     "metadata": {},
     "output_type": "execute_result"
    }
   ],
   "source": [
    "min(marks)"
   ]
  },
  {
   "cell_type": "code",
   "execution_count": 154,
   "id": "8fc5ebd3-c2c8-494c-b7f3-fad3684bff9f",
   "metadata": {},
   "outputs": [
    {
     "data": {
      "text/plain": [
       "9"
      ]
     },
     "execution_count": 154,
     "metadata": {},
     "output_type": "execute_result"
    }
   ],
   "source": [
    "max(marks)"
   ]
  },
  {
   "cell_type": "code",
   "execution_count": 155,
   "id": "386a91f0-814f-4693-a180-e5cd3098df34",
   "metadata": {},
   "outputs": [],
   "source": [
    "dd = {\n",
    "    'anne': ['3449344766', 'Main Street, 2'],\n",
    "    'chris': ['3339386345', 'South Blv, 42'],\n",
    "    'daniel': ['344896725', '4th Street'],\n",
    "    'denise': ['3339386722', 'Sunset Road, 6'],\n",
    "    'jacob': ['344222341', 'Rose flower Lane, 11'],\n",
    "    'lisa': ['333988746', 'East end Road, 77']\n",
    "}"
   ]
  },
  {
   "cell_type": "code",
   "execution_count": 158,
   "id": "2f93fd97-8a11-4653-b87f-45a23e938b52",
   "metadata": {},
   "outputs": [
    {
     "data": {
      "text/plain": [
       "'3449344766'"
      ]
     },
     "execution_count": 158,
     "metadata": {},
     "output_type": "execute_result"
    }
   ],
   "source": [
    "dd['anne'][0]"
   ]
  },
  {
   "cell_type": "code",
   "execution_count": 160,
   "id": "d3a2acff-00cf-48b0-8f38-da9755f2f298",
   "metadata": {},
   "outputs": [
    {
     "data": {
      "text/plain": [
       "'3449344766'"
      ]
     },
     "execution_count": 160,
     "metadata": {},
     "output_type": "execute_result"
    }
   ],
   "source": [
    "l = dd['anne']\n",
    "l[0]"
   ]
  },
  {
   "cell_type": "code",
   "execution_count": 161,
   "id": "ecffde30-d5f7-4e8e-abbe-65f8eaacf97e",
   "metadata": {},
   "outputs": [],
   "source": [
    "classes = {'math': ['chris', 'daniel', 'denise', 'jacob',  'maria'], \n",
    "           'science': ['anne', 'chris', 'lisa', 'maria'], \n",
    "           'english': ['denise', 'jacob', 'lisa'],\n",
    "           'history': ['anne', 'chris', 'daniel', 'denise', 'jacob', 'lisa', 'maria']}"
   ]
  },
  {
   "cell_type": "code",
   "execution_count": 162,
   "id": "b21777e4-9891-4312-be78-123dc8ff4578",
   "metadata": {},
   "outputs": [
    {
     "data": {
      "text/plain": [
       "4"
      ]
     },
     "execution_count": 162,
     "metadata": {},
     "output_type": "execute_result"
    }
   ],
   "source": [
    "len(classes)"
   ]
  },
  {
   "cell_type": "code",
   "execution_count": 164,
   "id": "5f3c5785-90db-4e63-b3db-b2fed6a6ad82",
   "metadata": {},
   "outputs": [
    {
     "data": {
      "text/plain": [
       "['math', 'science', 'english', 'history']"
      ]
     },
     "execution_count": 164,
     "metadata": {},
     "output_type": "execute_result"
    }
   ],
   "source": [
    "list(classes.keys())"
   ]
  },
  {
   "cell_type": "code",
   "execution_count": 166,
   "id": "5470a22e-4319-446d-a662-f2315cdd7c44",
   "metadata": {},
   "outputs": [
    {
     "data": {
      "text/plain": [
       "[['chris', 'daniel', 'denise', 'jacob', 'maria'],\n",
       " ['anne', 'chris', 'lisa', 'maria'],\n",
       " ['denise', 'jacob', 'lisa'],\n",
       " ['anne', 'chris', 'daniel', 'denise', 'jacob', 'lisa', 'maria']]"
      ]
     },
     "execution_count": 166,
     "metadata": {},
     "output_type": "execute_result"
    }
   ],
   "source": [
    "list(classes.values())"
   ]
  },
  {
   "cell_type": "code",
   "execution_count": 168,
   "id": "c1cd2952-cd62-4525-9d32-d7d5f00845f1",
   "metadata": {},
   "outputs": [
    {
     "data": {
      "text/plain": [
       "3"
      ]
     },
     "execution_count": 168,
     "metadata": {},
     "output_type": "execute_result"
    }
   ],
   "source": [
    "len(classes['english'])"
   ]
  },
  {
   "cell_type": "code",
   "execution_count": 172,
   "id": "20801ad1-6bad-4426-ba84-a3790c896f1b",
   "metadata": {},
   "outputs": [
    {
     "data": {
      "text/plain": [
       "{'anne', 'chris', 'daniel', 'denise', 'jacob', 'lisa', 'maria'}"
      ]
     },
     "execution_count": 172,
     "metadata": {},
     "output_type": "execute_result"
    }
   ],
   "source": [
    "set(classes['english'] + classes['science'] + classes['math'] + classes['history'])"
   ]
  },
  {
   "cell_type": "markdown",
   "id": "4e034953-0979-4179-9a56-2064957b83b2",
   "metadata": {},
   "source": [
    "# Operators"
   ]
  },
  {
   "cell_type": "code",
   "execution_count": 173,
   "id": "c730cfba-472a-4b3f-9790-fcbed637be90",
   "metadata": {},
   "outputs": [
    {
     "data": {
      "text/plain": [
       "7"
      ]
     },
     "execution_count": 173,
     "metadata": {},
     "output_type": "execute_result"
    }
   ],
   "source": [
    "5 + 2"
   ]
  },
  {
   "cell_type": "code",
   "execution_count": 174,
   "id": "4937c2ff-4870-4731-b74b-b247671b0293",
   "metadata": {},
   "outputs": [
    {
     "data": {
      "text/plain": [
       "3"
      ]
     },
     "execution_count": 174,
     "metadata": {},
     "output_type": "execute_result"
    }
   ],
   "source": [
    "5 - 2"
   ]
  },
  {
   "cell_type": "code",
   "execution_count": 175,
   "id": "27b8a8c1-ec64-4a12-b775-a9ed9afcd684",
   "metadata": {},
   "outputs": [
    {
     "data": {
      "text/plain": [
       "15"
      ]
     },
     "execution_count": 175,
     "metadata": {},
     "output_type": "execute_result"
    }
   ],
   "source": [
    "5 * 3"
   ]
  },
  {
   "cell_type": "code",
   "execution_count": 176,
   "id": "d11d10a7-e6f5-4983-ba0b-35aaef611927",
   "metadata": {},
   "outputs": [
    {
     "data": {
      "text/plain": [
       "1.6666666666666667"
      ]
     },
     "execution_count": 176,
     "metadata": {},
     "output_type": "execute_result"
    }
   ],
   "source": [
    "5 / 3"
   ]
  },
  {
   "cell_type": "code",
   "execution_count": 177,
   "id": "cac767cd-01d4-4a0d-9227-5f2a0f07d801",
   "metadata": {},
   "outputs": [
    {
     "data": {
      "text/plain": [
       "1"
      ]
     },
     "execution_count": 177,
     "metadata": {},
     "output_type": "execute_result"
    }
   ],
   "source": [
    "5 // 3"
   ]
  },
  {
   "cell_type": "code",
   "execution_count": 178,
   "id": "12cb20a9-910d-457b-9ec5-56262fb3e9c3",
   "metadata": {},
   "outputs": [
    {
     "data": {
      "text/plain": [
       "1"
      ]
     },
     "execution_count": 178,
     "metadata": {},
     "output_type": "execute_result"
    }
   ],
   "source": [
    "5 % 2"
   ]
  },
  {
   "cell_type": "code",
   "execution_count": 179,
   "id": "468b7ea1-a39a-4858-9719-443b5e1d6eb2",
   "metadata": {},
   "outputs": [
    {
     "data": {
      "text/plain": [
       "2"
      ]
     },
     "execution_count": 179,
     "metadata": {},
     "output_type": "execute_result"
    }
   ],
   "source": [
    "5 // 2"
   ]
  },
  {
   "cell_type": "code",
   "execution_count": 180,
   "id": "ef0f5963-49c1-4deb-bc11-02e21f8f8428",
   "metadata": {},
   "outputs": [
    {
     "data": {
      "text/plain": [
       "0"
      ]
     },
     "execution_count": 180,
     "metadata": {},
     "output_type": "execute_result"
    }
   ],
   "source": [
    "4 % 2"
   ]
  },
  {
   "cell_type": "code",
   "execution_count": 181,
   "id": "7952101b-a47e-408e-880e-b809e49bc04b",
   "metadata": {},
   "outputs": [
    {
     "data": {
      "text/plain": [
       "25"
      ]
     },
     "execution_count": 181,
     "metadata": {},
     "output_type": "execute_result"
    }
   ],
   "source": [
    "5 ** 2 # 5 ^ 2"
   ]
  },
  {
   "cell_type": "markdown",
   "id": "c14940d1-b6b1-487f-8933-042649c0dec5",
   "metadata": {},
   "source": [
    "## Logical and comparison operators"
   ]
  },
  {
   "cell_type": "code",
   "execution_count": 182,
   "id": "ed0682aa-d7c2-49f0-8b5c-17d72d8075d7",
   "metadata": {},
   "outputs": [
    {
     "data": {
      "text/plain": [
       "False"
      ]
     },
     "execution_count": 182,
     "metadata": {},
     "output_type": "execute_result"
    }
   ],
   "source": [
    "5 == 2"
   ]
  },
  {
   "cell_type": "code",
   "execution_count": 183,
   "id": "aa4b462e-a156-47ca-a6af-e7cbaa016965",
   "metadata": {},
   "outputs": [
    {
     "data": {
      "text/plain": [
       "True"
      ]
     },
     "execution_count": 183,
     "metadata": {},
     "output_type": "execute_result"
    }
   ],
   "source": [
    "5 > 2"
   ]
  },
  {
   "cell_type": "code",
   "execution_count": 184,
   "id": "b0dd5524-f1cf-46fe-bb8d-ee17dbf7433e",
   "metadata": {},
   "outputs": [
    {
     "data": {
      "text/plain": [
       "False"
      ]
     },
     "execution_count": 184,
     "metadata": {},
     "output_type": "execute_result"
    }
   ],
   "source": [
    "5 <= 2"
   ]
  },
  {
   "cell_type": "code",
   "execution_count": 185,
   "id": "5ebba1db-9946-424c-8dd4-3b8f9c5e0335",
   "metadata": {},
   "outputs": [
    {
     "data": {
      "text/plain": [
       "True"
      ]
     },
     "execution_count": 185,
     "metadata": {},
     "output_type": "execute_result"
    }
   ],
   "source": [
    "5 != 2"
   ]
  },
  {
   "cell_type": "markdown",
   "id": "a5f51af8-a083-42f4-acdf-e4d6d3e0c619",
   "metadata": {},
   "source": [
    "## Assignment operators"
   ]
  },
  {
   "cell_type": "code",
   "execution_count": 210,
   "id": "6df97739-6717-49b0-80e0-c497e1d017c8",
   "metadata": {},
   "outputs": [],
   "source": [
    "a = 5"
   ]
  },
  {
   "cell_type": "code",
   "execution_count": 211,
   "id": "c211d214-4f90-4e0a-b7cc-b63abe3876c9",
   "metadata": {},
   "outputs": [],
   "source": [
    "a = a - 1 # a -= 1"
   ]
  },
  {
   "cell_type": "code",
   "execution_count": 212,
   "id": "eb80c1bc-bd07-4b63-bcc3-c7482c96804d",
   "metadata": {},
   "outputs": [
    {
     "data": {
      "text/plain": [
       "4"
      ]
     },
     "execution_count": 212,
     "metadata": {},
     "output_type": "execute_result"
    }
   ],
   "source": [
    "a"
   ]
  },
  {
   "cell_type": "code",
   "execution_count": 189,
   "id": "f74435dd-0c92-4193-b377-76b54d945186",
   "metadata": {},
   "outputs": [],
   "source": [
    "a += 1 # a = a + 1"
   ]
  },
  {
   "cell_type": "code",
   "execution_count": 190,
   "id": "be98892f-6676-4338-9491-b68de3eabd17",
   "metadata": {},
   "outputs": [],
   "source": [
    "a -= 1 "
   ]
  },
  {
   "cell_type": "code",
   "execution_count": 192,
   "id": "2d9c44c6-eac4-4d8e-b6ff-2d330c849513",
   "metadata": {},
   "outputs": [],
   "source": [
    "a /= 2"
   ]
  },
  {
   "cell_type": "code",
   "execution_count": 194,
   "id": "b9204e0d-1d81-49ac-b90b-d351506cbacc",
   "metadata": {},
   "outputs": [],
   "source": [
    "a *= 4 # a = a * 4"
   ]
  },
  {
   "cell_type": "markdown",
   "id": "fb61a113-8c9f-44b1-bc8d-5784dbaa486e",
   "metadata": {},
   "source": [
    "## Membership operator"
   ]
  },
  {
   "cell_type": "code",
   "execution_count": 196,
   "id": "7b9e896a-a1ab-4273-b3b2-038c82e91877",
   "metadata": {},
   "outputs": [
    {
     "data": {
      "text/plain": [
       "True"
      ]
     },
     "execution_count": 196,
     "metadata": {},
     "output_type": "execute_result"
    }
   ],
   "source": [
    "'anne' in names"
   ]
  },
  {
   "cell_type": "code",
   "execution_count": 197,
   "id": "cbf36df7-c2f4-437e-825b-d3baaf92fec1",
   "metadata": {},
   "outputs": [
    {
     "data": {
      "text/plain": [
       "False"
      ]
     },
     "execution_count": 197,
     "metadata": {},
     "output_type": "execute_result"
    }
   ],
   "source": [
    "'jabob' in names"
   ]
  },
  {
   "cell_type": "code",
   "execution_count": 198,
   "id": "e03c8c03-987b-42fd-a58f-2a3f57905fa1",
   "metadata": {},
   "outputs": [
    {
     "data": {
      "text/plain": [
       "False"
      ]
     },
     "execution_count": 198,
     "metadata": {},
     "output_type": "execute_result"
    }
   ],
   "source": [
    "'a' in 'hello'"
   ]
  },
  {
   "cell_type": "code",
   "execution_count": 205,
   "id": "980fb3a2-573b-4ca1-9350-b2933272718d",
   "metadata": {},
   "outputs": [
    {
     "data": {
      "text/plain": [
       "{'math': ['chris', 'daniel', 'denise', 'jacob', 'maria'],\n",
       " 'science': ['anne', 'chris', 'lisa', 'maria'],\n",
       " 'english': ['denise', 'jacob', 'lisa'],\n",
       " 'history': ['anne', 'chris', 'daniel', 'denise', 'jacob', 'lisa', 'maria']}"
      ]
     },
     "execution_count": 205,
     "metadata": {},
     "output_type": "execute_result"
    }
   ],
   "source": [
    "classes"
   ]
  },
  {
   "cell_type": "code",
   "execution_count": 207,
   "id": "002ab4ab-3b07-435b-a78a-195449f6e4d7",
   "metadata": {},
   "outputs": [],
   "source": [
    "classes = {('math', 'Manuel'): ['chris', 'daniel', 'denise', 'jacob', 'maria'],\n",
    " 'science': ['anne', 'chris', 'lisa', 'maria'],\n",
    " 'english': ['denise', 'jacob', 'lisa'],\n",
    " 'history': ['anne', 'chris', 'daniel', 'denise', 'jacob', 'lisa', 'maria']}"
   ]
  },
  {
   "cell_type": "code",
   "execution_count": 209,
   "id": "0e488df0-6ba3-49f2-9301-982a38aa2f2b",
   "metadata": {},
   "outputs": [
    {
     "data": {
      "text/plain": [
       "['chris', 'daniel', 'denise', 'jacob', 'maria']"
      ]
     },
     "execution_count": 209,
     "metadata": {},
     "output_type": "execute_result"
    }
   ],
   "source": [
    "classes[('math', 'Manuel')]"
   ]
  },
  {
   "cell_type": "markdown",
   "id": "13bb01ca-95a5-4a80-a335-27ebeb56b078",
   "metadata": {},
   "source": [
    "# `List` and `String` operators"
   ]
  },
  {
   "cell_type": "code",
   "execution_count": 213,
   "id": "b0f23ed6-e85d-4311-9754-c013cc368a0a",
   "metadata": {},
   "outputs": [],
   "source": [
    "str_a = 'hello'\n",
    "str_b = 'world'\n",
    "\n",
    "lst_a = ['h', 'e', 'l', 'l', 'o']\n",
    "lst_b = ['w', 'o', 'r', 'l', 'd']"
   ]
  },
  {
   "cell_type": "code",
   "execution_count": 214,
   "id": "8cfa58ab-7dcb-40fb-a809-7a68c9527e4f",
   "metadata": {},
   "outputs": [
    {
     "data": {
      "text/plain": [
       "'helloworld'"
      ]
     },
     "execution_count": 214,
     "metadata": {},
     "output_type": "execute_result"
    }
   ],
   "source": [
    "str_a + str_b"
   ]
  },
  {
   "cell_type": "code",
   "execution_count": 215,
   "id": "e83a6597-40d6-4602-a8bb-987159f7edc7",
   "metadata": {},
   "outputs": [
    {
     "data": {
      "text/plain": [
       "['h', 'e', 'l', 'l', 'o', 'w', 'o', 'r', 'l', 'd']"
      ]
     },
     "execution_count": 215,
     "metadata": {},
     "output_type": "execute_result"
    }
   ],
   "source": [
    "lst_a + lst_b"
   ]
  },
  {
   "cell_type": "code",
   "execution_count": 216,
   "id": "fdbab1a4-5d49-400b-9e4d-98c86e4fcf48",
   "metadata": {},
   "outputs": [
    {
     "data": {
      "text/plain": [
       "'hellohellohello'"
      ]
     },
     "execution_count": 216,
     "metadata": {},
     "output_type": "execute_result"
    }
   ],
   "source": [
    "str_a * 3"
   ]
  },
  {
   "cell_type": "code",
   "execution_count": 217,
   "id": "1c150233-1b62-4931-bb1f-d571b7f08843",
   "metadata": {},
   "outputs": [
    {
     "data": {
      "text/plain": [
       "['h', 'e', 'l', 'l', 'o', 'h', 'e', 'l', 'l', 'o', 'h', 'e', 'l', 'l', 'o']"
      ]
     },
     "execution_count": 217,
     "metadata": {},
     "output_type": "execute_result"
    }
   ],
   "source": [
    "lst_a * 3"
   ]
  },
  {
   "cell_type": "code",
   "execution_count": 218,
   "id": "0b3d1422-49f4-4982-932c-639f268ee349",
   "metadata": {},
   "outputs": [
    {
     "data": {
      "text/plain": [
       "[1, 2, 3, 1, 2, 3, 1, 2, 3]"
      ]
     },
     "execution_count": 218,
     "metadata": {},
     "output_type": "execute_result"
    }
   ],
   "source": [
    "[1, 2, 3] * 3"
   ]
  },
  {
   "cell_type": "code",
   "execution_count": 219,
   "id": "fc6ed9a0-96f6-43ad-bdf5-bcb3dd2c7f83",
   "metadata": {},
   "outputs": [
    {
     "data": {
      "text/plain": [
       "True"
      ]
     },
     "execution_count": 219,
     "metadata": {},
     "output_type": "execute_result"
    }
   ],
   "source": [
    "'h' in str_a"
   ]
  },
  {
   "cell_type": "code",
   "execution_count": 220,
   "id": "6bf65e81-30e3-4843-b7d9-a1967934c548",
   "metadata": {},
   "outputs": [
    {
     "data": {
      "text/plain": [
       "False"
      ]
     },
     "execution_count": 220,
     "metadata": {},
     "output_type": "execute_result"
    }
   ],
   "source": [
    "'h' not in lst_a"
   ]
  },
  {
   "cell_type": "markdown",
   "id": "5e4239e5-0757-40ae-96ef-4ee6813dcf80",
   "metadata": {},
   "source": [
    "## List and (String) slice"
   ]
  },
  {
   "cell_type": "code",
   "execution_count": 223,
   "id": "ec4c8815-457b-4194-99b5-868b00e0f8d6",
   "metadata": {},
   "outputs": [],
   "source": [
    "# +---+---+---+---+---+---+---+---+---+---+---+---+---+---+---+---+---+---+---+---+---+---+---+---+---+---+\n",
    "# | a | b | c | d | e | f | g | h | i | j | k | l | m | n | o | p | q | r | s | t | u | v | w | x | y | z |\n",
    "# +---+---+---+---+---+---+---+---+---+---+---+---+---+---+---+---+---+---+---+---+---+---+---+---+---+---+\n",
    "# 0   1   2   3   4   5   6   7   8   9   10  11  12  13  14  15  16  17  18  19  20  21  22  23  24  25  26"
   ]
  },
  {
   "cell_type": "code",
   "execution_count": 224,
   "id": "5e7d8e45-b698-4c43-9c7f-6de38772b107",
   "metadata": {},
   "outputs": [],
   "source": [
    "a = [chr(x) for x in range(97, 123)]"
   ]
  },
  {
   "cell_type": "code",
   "execution_count": 226,
   "id": "8d141b67-0e89-41e7-92f6-59788cd1947d",
   "metadata": {},
   "outputs": [
    {
     "name": "stdout",
     "output_type": "stream",
     "text": [
      "['a', 'b', 'c', 'd', 'e', 'f', 'g', 'h', 'i', 'j', 'k', 'l', 'm', 'n', 'o', 'p', 'q', 'r', 's', 't', 'u', 'v', 'w', 'x', 'y', 'z']\n"
     ]
    }
   ],
   "source": [
    "print(a)"
   ]
  },
  {
   "cell_type": "code",
   "execution_count": 227,
   "id": "6f760b56-ab2f-45ed-b693-aa0e0d367ca5",
   "metadata": {},
   "outputs": [
    {
     "data": {
      "text/plain": [
       "'a'"
      ]
     },
     "execution_count": 227,
     "metadata": {},
     "output_type": "execute_result"
    }
   ],
   "source": [
    "a[0]"
   ]
  },
  {
   "cell_type": "code",
   "execution_count": 228,
   "id": "27c5a064-03fa-4ead-9bb6-36b412b19fc7",
   "metadata": {},
   "outputs": [
    {
     "data": {
      "text/plain": [
       "'f'"
      ]
     },
     "execution_count": 228,
     "metadata": {},
     "output_type": "execute_result"
    }
   ],
   "source": [
    "a[5]"
   ]
  },
  {
   "cell_type": "code",
   "execution_count": 229,
   "id": "f9bd5f87-55ff-458f-ab12-c41d78fc9812",
   "metadata": {},
   "outputs": [
    {
     "name": "stdout",
     "output_type": "stream",
     "text": [
      "['f', 'g', 'h', 'i', 'j', 'k', 'l', 'm', 'n', 'o', 'p', 'q', 'r', 's', 't', 'u', 'v', 'w', 'x', 'y', 'z']\n"
     ]
    }
   ],
   "source": [
    "print(a[5:])"
   ]
  },
  {
   "cell_type": "code",
   "execution_count": 230,
   "id": "46bba30d-d17f-4993-8713-09715dec454e",
   "metadata": {},
   "outputs": [
    {
     "name": "stdout",
     "output_type": "stream",
     "text": [
      "['a', 'b', 'c', 'd', 'e']\n"
     ]
    }
   ],
   "source": [
    "print(a[:5])"
   ]
  },
  {
   "cell_type": "code",
   "execution_count": 231,
   "id": "61a82972-ae9a-45b7-8c47-615868c0bfc7",
   "metadata": {},
   "outputs": [
    {
     "name": "stdout",
     "output_type": "stream",
     "text": [
      "['f', 'g', 'h', 'i', 'j']\n"
     ]
    }
   ],
   "source": [
    "print(a[5:10])"
   ]
  },
  {
   "cell_type": "code",
   "execution_count": 232,
   "id": "fa6fd485-3fa6-40aa-bcf8-501864507907",
   "metadata": {},
   "outputs": [],
   "source": [
    "# +---+---+---+---+---+---+---+---+---+---+---+---+---+---+---+---+---+---+---+---+---+---+---+---+---+---+\n",
    "# | a | b | c | d | e | f | g | h | i | j | k | l | m | n | o | p | q | r | s | t | u | v | w | x | y | z |\n",
    "# +---+---+---+---+---+---+---+---+---+---+---+---+---+---+---+---+---+---+---+---+---+---+---+---+---+---+\n",
    "# 0   1   2   3   4   5   6   7   8   9   10  11  12  13  14  15  16  17  18  19  20  21  22  23  24  25  26\n",
    "#-26 -25 -24 -23 -22 -21 -20 -19 -18 -17 -16 -15 -14 -13 -12 -11 -10 -9  -8  -7  -6  -5  -4  -3  -2  -1"
   ]
  },
  {
   "cell_type": "code",
   "execution_count": 233,
   "id": "98cb0594-ee5a-43ba-b6ab-64b7619d5f39",
   "metadata": {},
   "outputs": [
    {
     "name": "stdout",
     "output_type": "stream",
     "text": [
      "z\n"
     ]
    }
   ],
   "source": [
    "print(a[-1])"
   ]
  },
  {
   "cell_type": "code",
   "execution_count": 234,
   "id": "758fb2ad-2df6-4417-882c-ecd5e482392f",
   "metadata": {},
   "outputs": [
    {
     "name": "stdout",
     "output_type": "stream",
     "text": [
      "v\n"
     ]
    }
   ],
   "source": [
    "print(a[-5])"
   ]
  },
  {
   "cell_type": "code",
   "execution_count": 235,
   "id": "34c98e16-7aac-481a-80cb-c9774a6582af",
   "metadata": {},
   "outputs": [
    {
     "name": "stdout",
     "output_type": "stream",
     "text": [
      "['a', 'b', 'c', 'd', 'e', 'f', 'g', 'h', 'i', 'j', 'k', 'l', 'm', 'n', 'o', 'p']\n"
     ]
    }
   ],
   "source": [
    "print(a[:-10])"
   ]
  },
  {
   "cell_type": "code",
   "execution_count": 236,
   "id": "8cd2e340-a3d1-427d-a211-5e129c84784f",
   "metadata": {},
   "outputs": [
    {
     "name": "stdout",
     "output_type": "stream",
     "text": [
      "[]\n"
     ]
    }
   ],
   "source": [
    "print(a[-5:-10])"
   ]
  },
  {
   "cell_type": "code",
   "execution_count": 237,
   "id": "6f50c315-b53f-4103-9133-07a5ebb1930f",
   "metadata": {},
   "outputs": [
    {
     "name": "stdout",
     "output_type": "stream",
     "text": [
      "['q', 'r', 's', 't', 'u']\n"
     ]
    }
   ],
   "source": [
    "print(a[-10:-5])"
   ]
  },
  {
   "cell_type": "markdown",
   "id": "6bf818a2-58ea-4e5e-bd1c-147ba2f12233",
   "metadata": {},
   "source": [
    "## One `step` further"
   ]
  },
  {
   "cell_type": "code",
   "execution_count": 243,
   "id": "3ba2af1a-3203-4a90-87c7-695b591e44c5",
   "metadata": {},
   "outputs": [
    {
     "name": "stdout",
     "output_type": "stream",
     "text": [
      "['c', 'e', 'g', 'i']\n"
     ]
    }
   ],
   "source": [
    "print(a[2:10:2])"
   ]
  },
  {
   "cell_type": "code",
   "execution_count": 245,
   "id": "15fdbde0-8feb-4250-a58d-5b3f6812ef12",
   "metadata": {},
   "outputs": [
    {
     "name": "stdout",
     "output_type": "stream",
     "text": [
      "['p', 's', 'v']\n"
     ]
    }
   ],
   "source": [
    "print(a[-11:-2:3])"
   ]
  },
  {
   "cell_type": "code",
   "execution_count": 246,
   "id": "18433936-d94b-45af-90a0-3293dde1d53e",
   "metadata": {},
   "outputs": [
    {
     "name": "stdout",
     "output_type": "stream",
     "text": [
      "['k', 'j', 'i', 'h', 'g', 'f', 'e', 'd']\n"
     ]
    }
   ],
   "source": [
    "print(a[10:2:-1])"
   ]
  },
  {
   "cell_type": "code",
   "execution_count": 248,
   "id": "33ecb87b-c650-4d2e-9ba2-aa4eeceae895",
   "metadata": {},
   "outputs": [
    {
     "name": "stdout",
     "output_type": "stream",
     "text": [
      "['z', 'y', 'x', 'w', 'v', 'u', 't', 's', 'r', 'q', 'p', 'o', 'n', 'm', 'l', 'k', 'j', 'i', 'h', 'g', 'f', 'e', 'd', 'c', 'b', 'a']\n"
     ]
    }
   ],
   "source": [
    "print(a[::-1])"
   ]
  },
  {
   "cell_type": "code",
   "execution_count": 249,
   "id": "cd432537-0c25-4913-b421-db38361dee19",
   "metadata": {},
   "outputs": [],
   "source": [
    "# given the following list\n",
    "names = ['anne', 'chris', 'daniel', 'denise', 'jacob', 'lisa', 'maria', 'jack', 'rose', 'adele', 'max', 'sue']"
   ]
  },
  {
   "cell_type": "code",
   "execution_count": 250,
   "id": "834b3657-ee0a-4c5f-81ec-44c95fbde44d",
   "metadata": {},
   "outputs": [
    {
     "data": {
      "text/plain": [
       "['sue',\n",
       " 'rose',\n",
       " 'max',\n",
       " 'maria',\n",
       " 'lisa',\n",
       " 'jacob',\n",
       " 'jack',\n",
       " 'denise',\n",
       " 'daniel',\n",
       " 'chris',\n",
       " 'anne',\n",
       " 'adele']"
      ]
     },
     "execution_count": 250,
     "metadata": {},
     "output_type": "execute_result"
    }
   ],
   "source": [
    "sorted(names)[::-1]"
   ]
  },
  {
   "cell_type": "code",
   "execution_count": 257,
   "id": "84fa5fb3-6191-4095-a74c-45c12fab4b83",
   "metadata": {},
   "outputs": [
    {
     "data": {
      "text/plain": [
       "6"
      ]
     },
     "execution_count": 257,
     "metadata": {},
     "output_type": "execute_result"
    }
   ],
   "source": [
    "len(names) // 2"
   ]
  },
  {
   "cell_type": "code",
   "execution_count": 259,
   "id": "19bd093b-74ce-41bd-b8c3-c30ed1011a99",
   "metadata": {},
   "outputs": [
    {
     "name": "stdout",
     "output_type": "stream",
     "text": [
      "['anne', 'chris', 'daniel', 'denise', 'jacob', 'lisa']\n",
      "['maria', 'jack', 'rose', 'adele', 'max', 'sue']\n"
     ]
    }
   ],
   "source": [
    "group_a = names[:len(names) // 2]\n",
    "group_b = names[len(names) // 2:]\n",
    "\n",
    "print(group_a)\n",
    "print(group_b)"
   ]
  },
  {
   "cell_type": "code",
   "execution_count": 261,
   "id": "264bb402-33a6-4f7a-830e-fd8a237f0c32",
   "metadata": {},
   "outputs": [],
   "source": [
    "# divide names in 2 groups the ones with odd index numer on one group and the other in the second group\n",
    "group_a = names[:len(names):2]\n",
    "group_b = names[1::2]"
   ]
  },
  {
   "cell_type": "code",
   "execution_count": 262,
   "id": "0f8381db-143c-4dd6-b460-2cc69e14c866",
   "metadata": {},
   "outputs": [
    {
     "data": {
      "text/plain": [
       "['chris', 'denise', 'lisa', 'jack', 'adele', 'sue']"
      ]
     },
     "execution_count": 262,
     "metadata": {},
     "output_type": "execute_result"
    }
   ],
   "source": [
    "group_b"
   ]
  },
  {
   "cell_type": "code",
   "execution_count": 263,
   "id": "d05788e5-dbfc-4763-9bc9-6886cdb9b9d5",
   "metadata": {},
   "outputs": [],
   "source": [
    "# create a list of couples where couples are composed by the first and last one, second and second last one and so on"
   ]
  },
  {
   "cell_type": "code",
   "execution_count": 266,
   "id": "ef3a9ef6-c64d-4c7a-a70f-4995df2e4bcc",
   "metadata": {},
   "outputs": [
    {
     "name": "stdout",
     "output_type": "stream",
     "text": [
      "['sue', 'max', 'adele', 'rose', 'jack', 'maria', 'lisa', 'jacob', 'denise', 'daniel', 'chris', 'anne']\n"
     ]
    }
   ],
   "source": [
    "print(names[::-1])"
   ]
  },
  {
   "cell_type": "code",
   "execution_count": 265,
   "id": "05478caf-0613-466d-88a0-64b2341335db",
   "metadata": {},
   "outputs": [
    {
     "name": "stdout",
     "output_type": "stream",
     "text": [
      "['anne', 'chris', 'daniel', 'denise', 'jacob', 'lisa', 'maria', 'jack', 'rose', 'adele', 'max', 'sue']\n"
     ]
    }
   ],
   "source": [
    "print(names)"
   ]
  },
  {
   "cell_type": "code",
   "execution_count": 271,
   "id": "a53702c7-c4d1-4343-a0ec-1a847bdc7084",
   "metadata": {},
   "outputs": [
    {
     "data": {
      "text/plain": [
       "[('anne', 'sue'),\n",
       " ('chris', 'max'),\n",
       " ('daniel', 'adele'),\n",
       " ('denise', 'rose'),\n",
       " ('jacob', 'jack'),\n",
       " ('lisa', 'maria')]"
      ]
     },
     "execution_count": 271,
     "metadata": {},
     "output_type": "execute_result"
    }
   ],
   "source": [
    "list(zip(names, names[::-1]))[:len(names)//2]"
   ]
  },
  {
   "cell_type": "code",
   "execution_count": 272,
   "id": "e92a638f-6b25-4b9b-bb3a-517eb935e222",
   "metadata": {},
   "outputs": [],
   "source": [
    "reverse_names = names[::-1]"
   ]
  },
  {
   "cell_type": "code",
   "execution_count": 273,
   "id": "4f6b349d-cdde-4d7f-9fd0-5969b452d6d7",
   "metadata": {},
   "outputs": [
    {
     "name": "stdout",
     "output_type": "stream",
     "text": [
      "['sue', 'max', 'adele', 'rose', 'jack', 'maria', 'lisa', 'jacob', 'denise', 'daniel', 'chris', 'anne']\n"
     ]
    }
   ],
   "source": [
    "print(reverse_names)"
   ]
  },
  {
   "cell_type": "code",
   "execution_count": 274,
   "id": "682bec28-ea11-4df2-b381-4048d5e4b1ad",
   "metadata": {},
   "outputs": [],
   "source": [
    "zipped_names = zip(names, reverse_names)"
   ]
  },
  {
   "cell_type": "code",
   "execution_count": 275,
   "id": "42bc6516-c4f0-4310-a836-7a5735c5938d",
   "metadata": {},
   "outputs": [
    {
     "data": {
      "text/plain": [
       "<zip at 0x7f0010e29480>"
      ]
     },
     "execution_count": 275,
     "metadata": {},
     "output_type": "execute_result"
    }
   ],
   "source": [
    "zipped_names"
   ]
  },
  {
   "cell_type": "code",
   "execution_count": 276,
   "id": "b1a0894e-a4f2-4c21-8a5e-ac1a9a1ca85f",
   "metadata": {},
   "outputs": [],
   "source": [
    "list_zipped_names = list(zipped_names)"
   ]
  },
  {
   "cell_type": "markdown",
   "id": "6e06016b-28c9-4db4-af1c-c71b883e19ca",
   "metadata": {},
   "source": []
  },
  {
   "cell_type": "raw",
   "id": "6d50c212-ef33-418c-809d-7e3045ba9fd3",
   "metadata": {},
   "source": [
    "print(list_zipped_names)"
   ]
  },
  {
   "cell_type": "code",
   "execution_count": 279,
   "id": "e5f32753-7424-4951-8597-e10cc626ad91",
   "metadata": {},
   "outputs": [
    {
     "data": {
      "text/plain": [
       "[('anne', 'sue'),\n",
       " ('chris', 'max'),\n",
       " ('daniel', 'adele'),\n",
       " ('denise', 'rose'),\n",
       " ('jacob', 'jack'),\n",
       " ('lisa', 'maria')]"
      ]
     },
     "execution_count": 279,
     "metadata": {},
     "output_type": "execute_result"
    }
   ],
   "source": [
    "half_index = len(list_zipped_names) // 2\n",
    "list_zipped_names[:half_index]"
   ]
  },
  {
   "cell_type": "code",
   "execution_count": 286,
   "id": "f2a4bc38-7006-425f-97e5-f4ef95fa711d",
   "metadata": {},
   "outputs": [
    {
     "data": {
      "text/plain": [
       "{('adele', 'daniel'),\n",
       " ('anne', 'sue'),\n",
       " ('chris', 'max'),\n",
       " ('denise', 'rose'),\n",
       " ('jack', 'jacob'),\n",
       " ('lisa', 'maria'),\n",
       " ('max', 'chris')}"
      ]
     },
     "execution_count": 286,
     "metadata": {},
     "output_type": "execute_result"
    }
   ],
   "source": [
    "set([tuple(set(x)) for x in zip(names, reverse_names)])"
   ]
  },
  {
   "cell_type": "code",
   "execution_count": 290,
   "id": "8bfbc333-9464-4fd3-90b5-405f83c1465c",
   "metadata": {},
   "outputs": [
    {
     "name": "stdout",
     "output_type": "stream",
     "text": [
      "['anne', 'chris', 'daniel', 'denise', 'jacob', 'lisa', 'maria', 'jack', 'rose', 'adele', 'max', 'sue']\n"
     ]
    }
   ],
   "source": [
    "print(names)"
   ]
  },
  {
   "cell_type": "code",
   "execution_count": 293,
   "id": "30ccc202-8d7d-427d-bde9-291b0ddb1b2a",
   "metadata": {},
   "outputs": [
    {
     "data": {
      "text/plain": [
       "3"
      ]
     },
     "execution_count": 293,
     "metadata": {},
     "output_type": "execute_result"
    }
   ],
   "source": [
    "names.index('denise')"
   ]
  },
  {
   "cell_type": "code",
   "execution_count": 296,
   "id": "554e0249-3709-4152-bc8c-c44a9b8b0add",
   "metadata": {},
   "outputs": [
    {
     "name": "stdout",
     "output_type": "stream",
     "text": [
      "['a', 'b', 'c', 'd', 'e', 'f', 'g', 'h', 'i', 'j', 'k', 'l', 'm', 'n', 'o', 'p', 'q', 'r', 's', 't', 'u', 'v', 'w', 'x', 'y', 'z']\n"
     ]
    }
   ],
   "source": [
    "letters = [chr(x) for x in range(97, 123)]\n",
    "print(letters)"
   ]
  },
  {
   "cell_type": "code",
   "execution_count": 295,
   "id": "afb882b7-86c2-4d83-b169-4633fa7deca6",
   "metadata": {},
   "outputs": [],
   "source": [
    "# print the list from letter 'k' up to letter 'p'"
   ]
  },
  {
   "cell_type": "code",
   "execution_count": 297,
   "id": "2a127446-ba73-43aa-a71a-ff6d7c62ab28",
   "metadata": {},
   "outputs": [],
   "source": [
    "k_index = letters.index('k')"
   ]
  },
  {
   "cell_type": "code",
   "execution_count": 298,
   "id": "321befcd-a11a-42c7-82b6-bc6dc8bfeaac",
   "metadata": {},
   "outputs": [
    {
     "data": {
      "text/plain": [
       "10"
      ]
     },
     "execution_count": 298,
     "metadata": {},
     "output_type": "execute_result"
    }
   ],
   "source": [
    "k_index"
   ]
  },
  {
   "cell_type": "code",
   "execution_count": 299,
   "id": "8f5be28a-a3de-4142-ad47-cb6e983ab1e3",
   "metadata": {},
   "outputs": [],
   "source": [
    "p_index = letters.index('p')"
   ]
  },
  {
   "cell_type": "code",
   "execution_count": 300,
   "id": "5c049e93-65c0-4bde-b246-86d2a2f363eb",
   "metadata": {},
   "outputs": [
    {
     "data": {
      "text/plain": [
       "15"
      ]
     },
     "execution_count": 300,
     "metadata": {},
     "output_type": "execute_result"
    }
   ],
   "source": [
    "p_index"
   ]
  },
  {
   "cell_type": "code",
   "execution_count": 303,
   "id": "411ae3f1-2c83-4cc1-a018-0340438bdf87",
   "metadata": {},
   "outputs": [
    {
     "data": {
      "text/plain": [
       "['k', 'l', 'm', 'n', 'o', 'p']"
      ]
     },
     "execution_count": 303,
     "metadata": {},
     "output_type": "execute_result"
    }
   ],
   "source": [
    "letters[letters.index('k'):letters.index('p') + 1]"
   ]
  },
  {
   "cell_type": "code",
   "execution_count": null,
   "id": "53f80c5f-32c9-4425-904c-7d8818c40bdf",
   "metadata": {},
   "outputs": [],
   "source": []
  }
 ],
 "metadata": {
  "kernelspec": {
   "display_name": "Python 3 (ipykernel)",
   "language": "python",
   "name": "python3"
  },
  "language_info": {
   "codemirror_mode": {
    "name": "ipython",
    "version": 3
   },
   "file_extension": ".py",
   "mimetype": "text/x-python",
   "name": "python",
   "nbconvert_exporter": "python",
   "pygments_lexer": "ipython3",
   "version": "3.10.1"
  }
 },
 "nbformat": 4,
 "nbformat_minor": 5
}
